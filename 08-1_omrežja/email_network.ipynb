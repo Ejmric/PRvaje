{
 "cells": [
  {
   "cell_type": "markdown",
   "metadata": {},
   "source": [
    "## Osnove analize in vizualizacije omrežij\n",
    "\n",
    "V tej kratki vaji bomo spoznali osnove analize omrežij, format ```.net``` in funkcionalnosti modula Orange - Networks.\n",
    "\n",
    "<img width=300 src=\"Social_Red.jpg\">"
   ]
  },
  {
   "cell_type": "markdown",
   "metadata": {},
   "source": [
    "Pripravili smo funkcijo, ki iz email računa (protokol IMAP) prebere vse naslovnike sporočil. Tako zgradimo omrežje so-naslovnikov danega računa."
   ]
  },
  {
   "cell_type": "code",
   "execution_count": 1,
   "metadata": {},
   "outputs": [
    {
     "name": "stdout",
     "output_type": "stream",
     "text": [
      "Help on function generate_addressee_network in module get_email:\n",
      "\n",
      "generate_addressee_network(email_address, imap='imap.gmail.com', max_tuples=1000, email_folder='INBOX', file_prefix='addresses', min_tuple_length=2, max_tuple_length=15)\n",
      "    Generate files of addresee network of a given IMAP email inbox.\n",
      "    \n",
      "    The following files are generated:\n",
      "        <file_prefix>.txt (Tuples containing common addresees).\n",
      "        <file_prefix>.tab (Properties of nodes: number of emails)\n",
      "        <file_prefix>.net (Network file in pajek format)\n",
      "    \n",
      "    :param email_address: Account address.\n",
      "    :param imap: Imap server (default='imap.gmail.com')\n",
      "    :param email_folder: Mailbox folder (default='INBOX')\n",
      "    :param file_prefix: File prefix (default=\"addresses\")\n",
      "    :param max_tuples: Maximum number of addressee tuples to be read (default=1000)\n",
      "    :param min_tuple_length: Store only emails with at minumum number of adressees (defalut=2)\n",
      "\n"
     ]
    }
   ],
   "source": [
    "from get_email import generate_addressee_network\n",
    "help(generate_addressee_network)"
   ]
  },
  {
   "cell_type": "markdown",
   "metadata": {},
   "source": [
    "S spodnjo funkcijo zgradimo podatkovne datoteke ```.txt``` (seznam sonaslovnikov), ```.tab``` (atributi vozlišč), ```.net``` (graf omrežja). Oglej si kodo in format datotek."
   ]
  },
  {
   "cell_type": "code",
   "execution_count": 2,
   "metadata": {},
   "outputs": [
    {
     "name": "stdout",
     "output_type": "stream",
     "text": [
      "Account: someone@gmail.com\n"
     ]
    },
    {
     "ename": "StdinNotImplementedError",
     "evalue": "getpass was called, but this frontend does not support input requests.",
     "output_type": "error",
     "traceback": [
      "\u001b[0;31m---------------------------------------------------------------------------\u001b[0m",
      "\u001b[0;31mStdinNotImplementedError\u001b[0m                  Traceback (most recent call last)",
      "\u001b[0;32m<ipython-input-2-fa8231f156e0>\u001b[0m in \u001b[0;36m<module>\u001b[0;34m()\u001b[0m\n\u001b[1;32m      1\u001b[0m generate_addressee_network(\"someone@gmail.com\", imap='imap.gmail.com', max_tuples=10000,\n\u001b[1;32m      2\u001b[0m                               \u001b[0memail_folder\u001b[0m\u001b[0;34m=\u001b[0m\u001b[0;34m\"INBOX\"\u001b[0m\u001b[0;34m,\u001b[0m \u001b[0mfile_prefix\u001b[0m\u001b[0;34m=\u001b[0m\u001b[0;34m\"ds\"\u001b[0m\u001b[0;34m,\u001b[0m\u001b[0;34m\u001b[0m\u001b[0m\n\u001b[0;32m----> 3\u001b[0;31m                               min_tuple_length=2, max_tuple_length=15)\n\u001b[0m",
      "\u001b[0;32m~/workspace/PR/zbirka/08-1_omrežja/get_email.py\u001b[0m in \u001b[0;36mgenerate_addressee_network\u001b[0;34m(email_address, imap, max_tuples, email_folder, file_prefix, min_tuple_length, max_tuple_length)\u001b[0m\n\u001b[1;32m    117\u001b[0m     \u001b[0;32mtry\u001b[0m\u001b[0;34m:\u001b[0m\u001b[0;34m\u001b[0m\u001b[0m\n\u001b[1;32m    118\u001b[0m         \u001b[0mprint\u001b[0m\u001b[0;34m(\u001b[0m\u001b[0;34m\"Account: %s\"\u001b[0m \u001b[0;34m%\u001b[0m \u001b[0memail_address\u001b[0m\u001b[0;34m)\u001b[0m\u001b[0;34m\u001b[0m\u001b[0m\n\u001b[0;32m--> 119\u001b[0;31m         \u001b[0mrv\u001b[0m\u001b[0;34m,\u001b[0m \u001b[0mdata\u001b[0m \u001b[0;34m=\u001b[0m \u001b[0mM\u001b[0m\u001b[0;34m.\u001b[0m\u001b[0mlogin\u001b[0m\u001b[0;34m(\u001b[0m\u001b[0memail_address\u001b[0m\u001b[0;34m,\u001b[0m \u001b[0mgetpass\u001b[0m\u001b[0;34m.\u001b[0m\u001b[0mgetpass\u001b[0m\u001b[0;34m(\u001b[0m\u001b[0;34m)\u001b[0m\u001b[0;34m)\u001b[0m\u001b[0;34m\u001b[0m\u001b[0m\n\u001b[0m\u001b[1;32m    120\u001b[0m     \u001b[0;32mexcept\u001b[0m \u001b[0mimaplib\u001b[0m\u001b[0;34m.\u001b[0m\u001b[0mIMAP4\u001b[0m\u001b[0;34m.\u001b[0m\u001b[0merror\u001b[0m\u001b[0;34m:\u001b[0m\u001b[0;34m\u001b[0m\u001b[0m\n\u001b[1;32m    121\u001b[0m         \u001b[0mprint\u001b[0m \u001b[0;34m(\u001b[0m\u001b[0;34m\"LOGIN FAILED\"\u001b[0m\u001b[0;34m)\u001b[0m\u001b[0;34m\u001b[0m\u001b[0m\n",
      "\u001b[0;32m~/anaconda3/lib/python3.6/site-packages/ipykernel/kernelbase.py\u001b[0m in \u001b[0;36mgetpass\u001b[0;34m(self, prompt, stream)\u001b[0m\n\u001b[1;32m    677\u001b[0m         \u001b[0;32mif\u001b[0m \u001b[0;32mnot\u001b[0m \u001b[0mself\u001b[0m\u001b[0;34m.\u001b[0m\u001b[0m_allow_stdin\u001b[0m\u001b[0;34m:\u001b[0m\u001b[0;34m\u001b[0m\u001b[0m\n\u001b[1;32m    678\u001b[0m             raise StdinNotImplementedError(\n\u001b[0;32m--> 679\u001b[0;31m                 \u001b[0;34m\"getpass was called, but this frontend does not support input requests.\"\u001b[0m\u001b[0;34m\u001b[0m\u001b[0m\n\u001b[0m\u001b[1;32m    680\u001b[0m             )\n\u001b[1;32m    681\u001b[0m         \u001b[0;32mif\u001b[0m \u001b[0mstream\u001b[0m \u001b[0;32mis\u001b[0m \u001b[0;32mnot\u001b[0m \u001b[0;32mNone\u001b[0m\u001b[0;34m:\u001b[0m\u001b[0;34m\u001b[0m\u001b[0m\n",
      "\u001b[0;31mStdinNotImplementedError\u001b[0m: getpass was called, but this frontend does not support input requests."
     ]
    }
   ],
   "source": [
    "generate_addressee_network(\"someone@gmail.com\", imap='imap.gmail.com', max_tuples=10000,\n",
    "                              email_folder=\"INBOX\", file_prefix=\"ds\",\n",
    "                              min_tuple_length=2, max_tuple_length=15)"
   ]
  },
  {
   "cell_type": "markdown",
   "metadata": {},
   "source": [
    "Uporabimo programski paket <b>Orange</b> oz. dodatek <b>\"Networks\"</b>.\n",
    "<img src=\"network_scheme.png\"/> <br/> "
   ]
  },
  {
   "cell_type": "markdown",
   "metadata": {},
   "source": [
    "Podatke naložimo z vtičnikom <b>Network File</b>, ki prebere podatke o vozliščih in povezavah.\n",
    "<img src=\"network_widget.png\"/> <br/> "
   ]
  },
  {
   "cell_type": "markdown",
   "metadata": {},
   "source": [
    "Z uporabo algoritmov v vtičniku <b>Network Clustering</b> poiščemo močno povezane komponente v omrežju.\n",
    "<img src=\"network_clusters.png\"/> <br/> "
   ]
  },
  {
   "cell_type": "markdown",
   "metadata": {},
   "source": [
    "<font color=\"green\"><b>Naredi sam/a.</b></font> Ponovi zgornjo analizo za podatke iz svojega e-poštnega računa."
   ]
  },
  {
   "cell_type": "code",
   "execution_count": 3,
   "metadata": {
    "collapsed": true
   },
   "outputs": [],
   "source": [
    "# ..."
   ]
  },
  {
   "cell_type": "markdown",
   "metadata": {},
   "source": [
    "<font color=\"green\"><b>Naredi sam/a.</b></font> Zgradi omrežje igralcev v podatkovni zbirki MovieLens. "
   ]
  },
  {
   "cell_type": "code",
   "execution_count": 4,
   "metadata": {
    "collapsed": true
   },
   "outputs": [],
   "source": [
    "# ..."
   ]
  },
  {
   "cell_type": "markdown",
   "metadata": {},
   "source": [
    "<font color=\"green\"><b>Naredi sam/a.</b></font> Zgradi omrežje uporabnikov v podatkovni zbirki MovieLens. "
   ]
  },
  {
   "cell_type": "code",
   "execution_count": 5,
   "metadata": {
    "collapsed": true
   },
   "outputs": [],
   "source": [
    "# ..."
   ]
  }
 ],
 "metadata": {
  "kernelspec": {
   "display_name": "Python [default]",
   "language": "python",
   "name": "python3"
  },
  "language_info": {
   "codemirror_mode": {
    "name": "ipython",
    "version": 3
   },
   "file_extension": ".py",
   "mimetype": "text/x-python",
   "name": "python",
   "nbconvert_exporter": "python",
   "pygments_lexer": "ipython3",
   "version": "3.6.3"
  },
  "latex_envs": {
   "LaTeX_envs_menu_present": true,
   "autocomplete": true,
   "bibliofile": "biblio.bib",
   "cite_by": "apalike",
   "current_citInitial": 1,
   "eqLabelWithNumbers": true,
   "eqNumInitial": 1,
   "hotkeys": {
    "equation": "Ctrl-E",
    "itemize": "Ctrl-I"
   },
   "labels_anchors": false,
   "latex_user_defs": false,
   "report_style_numbering": false,
   "user_envs_cfg": false
  }
 },
 "nbformat": 4,
 "nbformat_minor": 1
}
