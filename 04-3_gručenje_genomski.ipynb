{
 "cells": [
  {
   "cell_type": "markdown",
   "metadata": {},
   "source": [
    "## Primer: genomski podatki v obliki nizov znakov\n",
    "\n",
    "Stopnja razvoja na področju biotehnologije omogoča pridobivanje bistveno več podatkov o organizmih. Eden pogostih podatkovnih tipov, s katerimi primerjamo vrste so genske zapisi. Ti so pripravni za predstavitev v računalništvu, saj jih lahko posplošimo na zaporedna štirih nukleotidov: A, C, G, T. Celoten genski zapis ki določa vse, od vaše barve oči do nagnjenosti do določenih bolezni je podano z nekaj več kot $3 \\times 10^{12}$ dolgim zaporednjem DNK.\n",
    "\n",
    "Pri razmoževanju prihaja do prepisovanja in kombiniranja DNA zapisov staršev. Ta proces seveda ni popoln, zato prihaja do napak - <i>mutacij</i>. Dolgoročna posledica mutacij pa je natanek različnih živalskih vrst, kar pomeni, da imajo sorodnejše vrste bolj podobne genske zapise.\n",
    "\n",
    "Iz baze genskih zapisov smo naložili zaporednja mitohondrijskega gena za 13 vrst: `'Gorilla gorilla', 'Homo sapiens', 'Carassius auratus auratus', 'Delphinus capensis', 'Chamaeleo calyptratus', 'Canis lupus familiaris', 'Homo sapiens neanderthalensis', 'Rattus norvegicus', 'Equus caballus', 'Daboia russellii', 'Pan troglodytes', 'Takifugu rubripes', 'Pongo abelii', 'Sus scrofa'`."
   ]
  },
  {
   "cell_type": "markdown",
   "metadata": {},
   "source": [
    "Podatke najprej pridobimo iz spleta."
   ]
  },
  {
   "cell_type": "code",
   "execution_count": 1,
   "metadata": {},
   "outputs": [
    {
     "ename": "ModuleNotFoundError",
     "evalue": "No module named 'Bio'",
     "output_type": "error",
     "traceback": [
      "\u001b[0;31m---------------------------------------------------------------------------\u001b[0m",
      "\u001b[0;31mModuleNotFoundError\u001b[0m                       Traceback (most recent call last)",
      "\u001b[0;32m<ipython-input-1-5402de5b8bf7>\u001b[0m in \u001b[0;36m<module>\u001b[0;34m()\u001b[0m\n\u001b[0;32m----> 1\u001b[0;31m \u001b[0;32mfrom\u001b[0m \u001b[0mBio\u001b[0m \u001b[0;32mimport\u001b[0m \u001b[0mEntrez\u001b[0m\u001b[0;34m\u001b[0m\u001b[0m\n\u001b[0m\u001b[1;32m      2\u001b[0m \u001b[0;32mfrom\u001b[0m \u001b[0mBio\u001b[0m \u001b[0;32mimport\u001b[0m \u001b[0mSeqIO\u001b[0m\u001b[0;34m\u001b[0m\u001b[0m\n\u001b[1;32m      3\u001b[0m \u001b[0;32mimport\u001b[0m \u001b[0mjson\u001b[0m\u001b[0;34m\u001b[0m\u001b[0m\n\u001b[1;32m      4\u001b[0m \u001b[0;34m\u001b[0m\u001b[0m\n\u001b[1;32m      5\u001b[0m species = [\n",
      "\u001b[0;31mModuleNotFoundError\u001b[0m: No module named 'Bio'"
     ]
    }
   ],
   "source": [
    "from Bio import Entrez\n",
    "from Bio import SeqIO\n",
    "import json\n",
    "\n",
    "species = [\n",
    "    (\"Homo sapiens\",            \"NC_012920.1\"),\n",
    "    (\"Pan troglodytes\",         \"NC_001643.1\"),\n",
    "    (\"Equus caballus\",          \"NC_001640.1\"),\n",
    "    (\"Chamaeleo calyptratus\",   \"NC_012420.1\"),\n",
    "    (\"Delphinus capensis\",      \"NC_012061.1\"),\n",
    "    (\"Takifugu rubripes\",       \"NC_004299.1\"),\n",
    "    (\"Canis lupus familiaris\",  \"NC_002008.4\"),\n",
    "    (\"Gorilla gorilla\",         \"NC_001645.1\"),\n",
    "    (\"Pongo abelii\",            \"NC_002083.1\"),\n",
    "    (\"Sus scrofa\",              \"NC_000845.1\"),\n",
    "    (\"Daboia russellii\",        \"NC_011391.1\"),\n",
    "    (\"Carassius auratus auratus\", \"NC_006580.1\"),\n",
    "    (\"Rattus norvegicus\",       \"AC_000022.2\"),\n",
    "    (\"Homo sapiens neanderthalensis\", \"NC_011137.1\"),\n",
    "]\n",
    "\n",
    "# Data loading\n",
    "infile = \"podatki/seqs.json\"\n",
    "seqs = dict()\n",
    "for name, sid in species:\n",
    "    print(\"Loading ...\", name)\n",
    "    t = False\n",
    "    while not t:\n",
    "        try:\n",
    "            handle = Entrez.efetch(db=\"nucleotide\", rettype=\"gb\", id=sid,\n",
    "                           email=\"a@gmail.com\")\n",
    "            rec = SeqIO.read(handle, \"gb\")\n",
    "            handle.close()\n",
    "            t = True\n",
    "        except:\n",
    "            continue\n",
    "    seqs[name] = str(rec.seq)   \n",
    "\n",
    "json.dump(seqs, open(infile, \"w\"))"
   ]
  },
  {
   "cell_type": "code",
   "execution_count": 2,
   "metadata": {},
   "outputs": [
    {
     "ename": "FileNotFoundError",
     "evalue": "[Errno 2] No such file or directory: 'seqs.json'",
     "output_type": "error",
     "traceback": [
      "\u001b[0;31m---------------------------------------------------------------------------\u001b[0m",
      "\u001b[0;31mFileNotFoundError\u001b[0m                         Traceback (most recent call last)",
      "\u001b[0;32m<ipython-input-2-ff4157134e7f>\u001b[0m in \u001b[0;36m<module>\u001b[0;34m()\u001b[0m\n\u001b[1;32m      1\u001b[0m \u001b[0;32mimport\u001b[0m \u001b[0mjson\u001b[0m\u001b[0;34m\u001b[0m\u001b[0m\n\u001b[0;32m----> 2\u001b[0;31m \u001b[0msequences\u001b[0m \u001b[0;34m=\u001b[0m \u001b[0mjson\u001b[0m\u001b[0;34m.\u001b[0m\u001b[0mload\u001b[0m\u001b[0;34m(\u001b[0m\u001b[0mopen\u001b[0m\u001b[0;34m(\u001b[0m\u001b[0;34m\"seqs.json\"\u001b[0m\u001b[0;34m)\u001b[0m\u001b[0;34m)\u001b[0m\u001b[0;34m\u001b[0m\u001b[0m\n\u001b[0m\u001b[1;32m      3\u001b[0m \u001b[0mprint\u001b[0m\u001b[0;34m(\u001b[0m\u001b[0msequences\u001b[0m\u001b[0;34m[\u001b[0m\u001b[0;34m\"Homo sapiens\"\u001b[0m\u001b[0;34m]\u001b[0m\u001b[0;34m)\u001b[0m\u001b[0;34m\u001b[0m\u001b[0m\n\u001b[1;32m      4\u001b[0m \u001b[0mprint\u001b[0m\u001b[0;34m(\u001b[0m\u001b[0mlen\u001b[0m\u001b[0;34m(\u001b[0m\u001b[0msequences\u001b[0m\u001b[0;34m[\u001b[0m\u001b[0;34m\"Homo sapiens\"\u001b[0m\u001b[0;34m]\u001b[0m\u001b[0;34m)\u001b[0m\u001b[0;34m)\u001b[0m\u001b[0;34m\u001b[0m\u001b[0m\n",
      "\u001b[0;31mFileNotFoundError\u001b[0m: [Errno 2] No such file or directory: 'seqs.json'"
     ]
    }
   ],
   "source": [
    "import json\n",
    "sequences = json.load(open(\"seqs.json\"))\n",
    "print(sequences[\"Homo sapiens\"])  \n",
    "print(len(sequences[\"Homo sapiens\"]))"
   ]
  },
  {
   "cell_type": "markdown",
   "metadata": {},
   "source": [
    "<font color=\"green\"><b>Naredi sam/a.</b></font> Kako bi lahko primerjali živalske vrste glede na zapise, ki so podani kot nizi znakov? Prva ideja je, da podatke pretvorimo v vektorski prostor, v katerem bomo računali razdalje. Namig: zaporedja lahko razbiješ na manjše dele in prešteješ število pojavitev posameznih znakov, parov, trojk, ... k-terk. ahko upoštevaš tudi položaj v zaporedju. \n",
    "\n",
    "Dopolni in si pomagaj s funkcijo `seq_to_kmer_count`, ki pretvori niz znako v vektor števila pojavitev vseh mogožnih k-terk.\n",
    "\n",
    "Prevedi podatke v ustrezno obliko, izvedi hierarhično gručenje in prikaži rezultate. Ali so vrste na dendrogramu postavljene smiselno? Dobiti morate sliko:\n",
    "\n",
    "<img src=\"slike/nizi_dendrogram.png\"></img> "
   ]
  },
  {
   "cell_type": "code",
   "execution_count": 3,
   "metadata": {},
   "outputs": [],
   "source": [
    "from itertools import product\n",
    "def seq_to_kmer_count(seq, k=4):\n",
    "    \"\"\"\n",
    "    Pretvori zaporedje seq v vektor x.\n",
    "         AAAA AAAC AAAG AAAT ... TTTG TTTT\n",
    "    x = [   1  1      2   10 ...   12    7]\n",
    "    len(x) == len(seq) - k + 1\n",
    "    \"\"\"\n",
    "    \n",
    "    ktuples = list(zip(*[seq[i:] for i in range(k)]))     # razbijemo trenutni niz seq na k-terke\n",
    "    kmers   = list(product(*(k*[[\"A\", \"C\", \"T\", \"G\"]])))  # vse mozne k-terke\n",
    "    \n",
    "    x = np.zeros((len(kmers), ))\n",
    "    ### Your code here ### \n",
    "    # for i, kmer in enumerate(kmers)\n",
    "    # ...\n",
    "    \n",
    "    return x"
   ]
  },
  {
   "cell_type": "code",
   "execution_count": 4,
   "metadata": {
    "collapsed": true
   },
   "outputs": [],
   "source": [
    "# ...\n",
    "# Za vsako zaporedje (organizem), izračunaj x\n",
    "# X = np.array([x1, x2, ..., x13]) - matrika 13 x 256 (k=4)\n",
    "# pozeni gručenje"
   ]
  },
  {
   "cell_type": "markdown",
   "metadata": {},
   "source": [
    "Rešitev"
   ]
  },
  {
   "cell_type": "code",
   "execution_count": 5,
   "metadata": {},
   "outputs": [
    {
     "ename": "NameError",
     "evalue": "name 'sequences' is not defined",
     "output_type": "error",
     "traceback": [
      "\u001b[0;31m---------------------------------------------------------------------------\u001b[0m",
      "\u001b[0;31mNameError\u001b[0m                                 Traceback (most recent call last)",
      "\u001b[0;32m<ipython-input-5-f3ecdc42fbef>\u001b[0m in \u001b[0;36m<module>\u001b[0;34m()\u001b[0m\n\u001b[1;32m     11\u001b[0m \u001b[0;34m\u001b[0m\u001b[0m\n\u001b[1;32m     12\u001b[0m \u001b[0;31m# ...k = 4\u001b[0m\u001b[0;34m\u001b[0m\u001b[0;34m\u001b[0m\u001b[0m\n\u001b[0;32m---> 13\u001b[0;31m \u001b[0mkeys\u001b[0m \u001b[0;34m=\u001b[0m \u001b[0msequences\u001b[0m\u001b[0;34m.\u001b[0m\u001b[0mkeys\u001b[0m\u001b[0;34m(\u001b[0m\u001b[0;34m)\u001b[0m\u001b[0;34m\u001b[0m\u001b[0m\n\u001b[0m\u001b[1;32m     14\u001b[0m \u001b[0mX\u001b[0m    \u001b[0;34m=\u001b[0m \u001b[0mnp\u001b[0m\u001b[0;34m.\u001b[0m\u001b[0mzeros\u001b[0m\u001b[0;34m(\u001b[0m\u001b[0;34m(\u001b[0m\u001b[0mlen\u001b[0m\u001b[0;34m(\u001b[0m\u001b[0mkeys\u001b[0m\u001b[0;34m)\u001b[0m\u001b[0;34m,\u001b[0m \u001b[0;36m4\u001b[0m\u001b[0;34m**\u001b[0m\u001b[0mk\u001b[0m\u001b[0;34m)\u001b[0m\u001b[0;34m)\u001b[0m\u001b[0;34m\u001b[0m\u001b[0m\n\u001b[1;32m     15\u001b[0m \u001b[0;32mfor\u001b[0m \u001b[0mki\u001b[0m\u001b[0;34m,\u001b[0m \u001b[0mky\u001b[0m \u001b[0;32min\u001b[0m \u001b[0menumerate\u001b[0m\u001b[0;34m(\u001b[0m\u001b[0mkeys\u001b[0m\u001b[0;34m)\u001b[0m\u001b[0;34m:\u001b[0m\u001b[0;34m\u001b[0m\u001b[0m\n",
      "\u001b[0;31mNameError\u001b[0m: name 'sequences' is not defined"
     ]
    }
   ],
   "source": [
    "from itertools import product\n",
    "def seq_to_kmer_count(seq, k=4):\n",
    "    ktuples = list(zip(*[seq[i:] for i in range(k)]))     # razbijemo niz na k-terke\n",
    "    kmers   = list(product(*(k*[[\"A\", \"C\", \"T\", \"G\"]])))  # vse mozne k-terke\n",
    "    \n",
    "    x = np.zeros((len(kmers), ))\n",
    "    \n",
    "    for ki, kmer in enumerate(kmers):\n",
    "        x[ki] = ktuples.count(kmer)\n",
    "    return x\n",
    "\n",
    "# ...k = 4\n",
    "keys = sequences.keys()\n",
    "X    = np.zeros((len(keys), 4**k))\n",
    "for ki, ky in enumerate(keys):\n",
    "    seq    = sequences[ky]\n",
    "    X[ki]  = seq_to_kmer_count(seq, k=k)\n",
    "\n",
    "print(X)\n",
    "print(X.shape)\n",
    "H = sch.linkage(X)\n",
    "D = sch.dendrogram(H, labels=list(sequences.keys()), leaf_rotation=90)\n",
    "plt.ylabel(\"Razdalja\")\n",
    "plt.show()"
   ]
  },
  {
   "cell_type": "code",
   "execution_count": 6,
   "metadata": {},
   "outputs": [],
   "source": []
  }
 ],
 "metadata": {
  "kernelspec": {
   "display_name": "Python [default]",
   "language": "python",
   "name": "python3"
  },
  "language_info": {
   "codemirror_mode": {
    "name": "ipython",
    "version": 3
   },
   "file_extension": ".py",
   "mimetype": "text/x-python",
   "name": "python",
   "nbconvert_exporter": "python",
   "pygments_lexer": "ipython3",
   "version": "3.6.3"
  },
  "latex_envs": {
   "LaTeX_envs_menu_present": true,
   "autocomplete": true,
   "bibliofile": "biblio.bib",
   "cite_by": "apalike",
   "current_citInitial": 1,
   "eqLabelWithNumbers": true,
   "eqNumInitial": 1,
   "hotkeys": {
    "equation": "Ctrl-E",
    "itemize": "Ctrl-I"
   },
   "labels_anchors": false,
   "latex_user_defs": false,
   "report_style_numbering": false,
   "user_envs_cfg": false
  }
 },
 "nbformat": 4,
 "nbformat_minor": 1
}
