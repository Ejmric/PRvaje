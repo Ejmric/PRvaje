{
 "cells": [
  {
   "cell_type": "markdown",
   "metadata": {},
   "source": [
    "# Naloga 2: Iskanje strukture v podatkih\n",
    "\n",
    "Skupni imenovalec vseh metod modeliranja je iskanje strukture v podatkih.\n",
    "Metode nenadzorovanga modeliranja uporabljamo, da razložimo zgodbo v\n",
    "ozadju. Povedano drugače, zanima nas \\emph{proces}, ki generira podatke.\n",
    "\n",
    "V tej nalogi bomo uporabili modeliranje verjetnostnih porazdelitev ter metode za iskanje skupin (gručenje).\n",
    "Praktična cilja, ki ju bomo zasledovali sta\n",
    "\\begin{enumerate}\n",
    "    \\item iskanje osamelcev,\n",
    "    \\item iskanje sorodnih primerov v podatkih.\n",
    "\\end{enumerate}"
   ]
  },
  {
   "cell_type": "markdown",
   "metadata": {},
   "source": [
    "## Podatki\n",
    "\n",
    "Opis podatkovne zbirke MovieLens 1995-2016 ostaja enak [prvi nalogi](n1_priprava_pregled.ipynb#Naloga-1:-Priprava-podatkov,-osnovne-statistike-in-vizualizacija)."
   ]
  },
  {
   "cell_type": "markdown",
   "metadata": {},
   "source": [
    "## Vprašanja\n",
    "\n",
    "Z uporabo principov, ki ste jih spoznali na vajah in predavanjih, odgovorite na\n",
    "spodnja vprašanja. Pri vsakem vprašanju dobro premislite, na kakšen način boste\n",
    "najbolje podali, prikazali oz. utemeljili odgovor. Bistven del so odgovori na\n",
    "vprašanja in ne implementacija vaše rešitve."
   ]
  },
  {
   "cell_type": "markdown",
   "metadata": {},
   "source": [
    "### Iskanje osamelcev (50 %) \n",
    "O ocenah katerih filmov so si uporabniki najmanj enotni? Povedano drugače, za katere filme so pripadajoče ocene najbolj razpršene?\n",
    "\n",
    "Formuliraj problem kot modeliranje verjetnostne porazdelitve. Premisli o naslednjih vprašanjih, naredi ustrezne poizkuse in odgovori.\n",
    "\\begin{enumerate}\n",
    "\\item Katera je ustrezna naključna spremenljivka (količina) v podatkih, ki odgovarja na vprašanje?\n",
    "        \n",
    "\\item Nariši njeno porazdelitev (npr. s pomočjo histograma).  \n",
    "        \n",
    "\\item Ali porazdelitev spominja na kakšno znano porazdelitev? Ali je porazdelitev morda normalna ali katera druga? \n",
    "        \n",
    "\\item Oceni parametre te porazdelitve s pomočjo postopkov, ki smo jih spoznali na vajah.  \\item Izmed porazdelitev, ki smo jih spoznali na vajah, izberi tisto, ki se podatkom najbolj prilega.\n",
    "        \n",
    "\\item Izpiši filme z vrednostjo naključne spremenljivke, ki spada v zgornjih 5 \\% statistično značilnih primerov.  \n",
    "\\end{enumerate}"
   ]
  },
  {
   "cell_type": "markdown",
   "metadata": {},
   "source": [
    "### Gručenje filmov (50 %)\n",
    "\n",
    "Priporočilni sistemi pogosto odkrivajo predmete (v našem primeru filme), za katere velja visoka podobnost. \n",
    "\n",
    "Poiščite 100 najbolj gledanih filmov. Ali med njimi obstajajo skupine?\n",
    "Uporabite ustrezen algoritem za gručenje. Na film lahko gledamo kot vektor, s \n",
    "številom komponent enakim številom uporabnikov. \n",
    "Vektorji vsebujejo tudi \\emph{neznane vrednosti}.\n",
    "Primer vektorjev za deset filmov prikazuje Tabela~\\ref{t:vektor}.\n",
    "\n",
    "Algoritme gručenja lahko izvajamo v izvornem prostoru (koordinatni sistem filmi-uporabniki),\n",
    "ali pa filme primerjamo z merami podobnosti, ki smo jih spoznali na vajah. Premisli,\n",
    "kateri način je primernejši glede na obliko podatkov."
   ]
  },
  {
   "cell_type": "markdown",
   "metadata": {},
   "source": [
    "\\begin{table}\n",
    "\\centering\n",
    "\\begin{tabular}{l|l|cccc}\n",
    "\n",
    "& Movie & $u_0$ & $u_1$ & $u_2$ & $\\cdots$ \\\\\n",
    "\\hline\n",
    "$\\vec{x}_0$ & Fight Club (1999) & ? & ? & ? & $\\cdots$ \\\\ \n",
    "$\\vec{x}_1$ & Twelve Monkeys (a.k.a. 12 Monkeys) (1995) & ? & ? & 2.5 & $\\cdots$ \\\\ \n",
    "$\\vec{x}_2$ & Independence Day (a.k.a. ID4) (1996) & ? & ? & ? & $\\cdots$ \\\\ \n",
    "$\\vec{x}_3$ & Dances with  Wolves (1990) & 4.0 & ? & ? & $\\cdots$ \\\\ \n",
    "$\\vec{x}_4$ & Fargo (1996) & ? & ? & ? & $\\cdots$ \\\\ \n",
    "$\\vec{x}_5$ & Speed (1994) & ? & ? & ? & $\\cdots$ \\\\ \n",
    "$\\vec{x}_6$ & Apollo 13 (1995) & ? & 2.0 & ? & $\\cdots$ \\\\ \n",
    "$\\vec{x}_7$ & Seven (a.k.a. Se7en) (1995) & ? & ? & ? & $\\cdots$ \\\\ \n",
    "$\\vec{x}_8$ & Sixth Sense, The (1999) & 3.0 & ? & 4.0 & $\\cdots$ \\\\ \n",
    "$\\vec{x}_9$ & Aladdin (1992) & ? & ? & ? & $\\cdots$ \\\\ \n",
    "$\\cdots$ & $\\cdots$ & $\\cdots$ & & \\\\\n",
    "\\end{tabular}\n",
    "\\caption{Primer vektorjev ocen za filme}\n",
    "\\label{t:vektor}\n",
    "\\end{table}"
   ]
  },
  {
   "cell_type": "markdown",
   "metadata": {},
   "source": [
    "Pri tem odgovori na naslednja vprašanja.\n",
    "\\begin{enumerate}\n",
    "    \\item Utemelji izbiro algoritma in mere podobnosti.\n",
    "    \\item Koliko skupin filmov je med izbranimi? Ali poznamo kvantitativne ocene za različne možnosti razvrščanja v skupine?\n",
    "    \\item Prikaži rezultate z uporabo ustrezne vizualizacije.\n",
    "    \\item Komentiraj smiselnost dobljenih rezultatov.\n",
    "\\end{enumerate}"
   ]
  },
  {
   "cell_type": "code",
   "execution_count": 1,
   "metadata": {},
   "outputs": [],
   "source": []
  }
 ],
 "metadata": {
  "kernelspec": {
   "display_name": "Python [default]",
   "language": "python",
   "name": "python3"
  },
  "language_info": {
   "codemirror_mode": {
    "name": "ipython",
    "version": 3
   },
   "file_extension": ".py",
   "mimetype": "text/x-python",
   "name": "python",
   "nbconvert_exporter": "python",
   "pygments_lexer": "ipython3",
   "version": "3.6.3"
  },
  "latex_envs": {
   "LaTeX_envs_menu_present": true,
   "autocomplete": true,
   "bibliofile": "biblio.bib",
   "cite_by": "apalike",
   "current_citInitial": 1,
   "eqLabelWithNumbers": true,
   "eqNumInitial": 1,
   "hotkeys": {
    "equation": "Ctrl-E",
    "itemize": "Ctrl-I"
   },
   "labels_anchors": false,
   "latex_user_defs": false,
   "report_style_numbering": false,
   "user_envs_cfg": false
  }
 },
 "nbformat": 4,
 "nbformat_minor": 2
}
