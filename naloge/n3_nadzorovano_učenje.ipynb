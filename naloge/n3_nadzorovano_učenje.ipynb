{
 "cells": [
  {
   "cell_type": "markdown",
   "metadata": {},
   "source": [
    "# Naloga 3: Napovedovanje vrednosti\n",
    "\n",
    "Spoznali bomo praktično uporabo enostavnih metod nadzorovanega modeliranja oz.\n",
    "napovedovanja.  Skupna lastnost vseh omenjenih metod je, da s pomočjo\n",
    "naključnih spremenljivk (atributov) modelirajo vrednosti posebne spremenljivke,\n",
    "ki ji pravimo \\emph{razred} (v kontekstu uvrščanja v razrede, klasifikacije)\n",
    "ali \\emph{odziv} (v kontekstu regresije). Osnovne razlike med kontekstoma smo\n",
    "spoznali na predavanjih in vajah.\n",
    "\n",
    "Praktična cilja, ki ju bomo zasledovali sta\n",
    "\\begin{enumerate}\n",
    "    \\item modeliranje ocen posameznega uporabnika (odziva) s pomočjo vseh ostalih uporabnikov,\n",
    "    \\item primerjava metod nadzorovanega modeliranja.\n",
    "\\end{enumerate}"
   ]
  },
  {
   "cell_type": "markdown",
   "metadata": {},
   "source": [
    "## Podatki\n",
    "\n",
    "Opis podatkovne zbirke MovieLens 1996-2016 ostaja enak prvi nalogi."
   ]
  },
  {
   "cell_type": "markdown",
   "metadata": {},
   "source": [
    "## Predpriprava podatkov\n",
    "\n",
    "Za potrebe te naloge bomo podatke pripravili na naslednji način:\n",
    "\\begin{enumerate}\n",
    "    \\item Izberi $m$ filmov z vsaj 100 ogledi.\n",
    "    \\item Izberi $n$ uporabnikov, ki si je ogledalo vsaj 100 filmov.\n",
    "    \\item Pripravi matriko $X$ velikosti $m \\times n$, kjer vrstice\n",
    "          predstavljajo filme, stolpci pa uporabnike. Neznane vrednosti zamenjaj z $0$.\n",
    "\\end{enumerate}\n",
    "\n",
    "Za vsakega od izbranih $n$ uporabnikov bo zgrajen klasifikacijski in regresijski model, \n",
    "katerega cilj bo napoved ocen za filme. \n",
    "\n",
    "\\begin{table}[b!]\n",
    "\\centering\n",
    "\\begin{tabular}{l|l|c|ccc}\n",
    "    & & $y^{(0)}$ &  \\multicolumn{3}{c}{$X^{(0)}$} \\\\\n",
    "& Film/uporabnik & $u_0$ & $u_1$ & $u_2$ & $\\cdots$ \\\\\n",
    "\\hline\n",
    "$f_1$ & Twelve Monkeys (a.k.a. 12 Monkeys) (1995) & 0 & 0 & 2.5 & $\\cdots$ \\\\ \n",
    "$f_2$ & Dances with  Wolves (1990) & 4.0 & 0 & 0 & $\\cdots$ \\\\ \n",
    "$f_3$ & Apollo 13 (1995) & 0 & 2.0 & 0 & $\\cdots$ \\\\ \n",
    "$f_4$ & Sixth Sense, The (1999) & 3.0 & 0 & 4.0 & $\\cdots$ \\\\ \n",
    "$\\cdots$ & $\\cdots$ & $\\cdots$ & & \\\\\n",
    "\\end{tabular}\n",
    "\n",
    "\\vspace{5mm}\n",
    "\\begin{tabular}{l|l|c|ccc}\n",
    "    & & $y^{(1)}$ &  \\multicolumn{3}{c}{$X^{(1)}$} \\\\\n",
    "& Film/uporabnik & $u_1$ & $u_0$ & $u_2$ & $\\cdots$ \\\\\n",
    "\\hline\n",
    "$f_1$ & Twelve Monkeys (a.k.a. 12 Monkeys) (1995)   & 0 & 0    & 2.5 & $\\cdots$ \\\\ \n",
    "$f_2$ & Dances with  Wolves (1990)                  & 0 & 4.0  & 0 & $\\cdots$ \\\\ \n",
    "$f_3$ & Apollo 13 (1995)                            & 2.0 & 0  & 0 & $\\cdots$ \\\\ \n",
    "$f_4$ & Sixth Sense, The (1999)                     & 0 & 3.0  & 4.0 & $\\cdots$ \\\\ \n",
    "$\\cdots$ & $\\cdots$ & $\\cdots$ & & \\\\\n",
    "\\end{tabular}\n",
    "\n",
    "\\caption{Razdelitev podatkov za model uporabnika $u_0$ (zgoraj) in uporabnika $u_1$ (spodaj).}\n",
    "\\label{t:vektor}\n",
    "\\end{table}"
   ]
  },
  {
   "cell_type": "markdown",
   "metadata": {},
   "source": [
    "## Vprašanja\n",
    "\n",
    "\\begin{enumerate}\n",
    "\n",
    "\\item (50 \\%) \\textbf{Regresija}. Za vsakega od uporabnikov postavite regresijski\n",
    "model. Uporabite eno ali več metod za učenje regresijskih modelov (linearna regresija, Ridge, Lasso, itd.). \n",
    "\n",
    "Za vsakega od $n$ uporabnikov izberite ustrezni stolpec v matriki podatkov. Za uporabnika $i$ imamo torej\n",
    "\\begin{itemize}\n",
    "    \\item Vektor odziva $y^{(i)}$,\n",
    "    \\item Matriko podatkov $X^{(i)}$, ki vsebuje vse stolpce \\emph{razen} $i$.\n",
    "\\end{itemize}\n",
    "Za lažjo predstavo si oglej Tabelo~\\ref{t:vektor}. Nekajkrat (npr. trikrat) ponovite postopek preverjanja s pomočjo učne in testne množice:\n",
    "\\begin{enumerate}\n",
    "    \\item Množico filmov, ki si jih je uporabnik ogledal, \\emph{naključno} razdelite v razmerju 75\\% (učna množica) in 25 \\% (testna množica).\n",
    "    \\item Naučite regresijski model na učni množici \\\\ (izberite ustrezne vrstice v $X$ in $y$).\n",
    "    \\item Ovrednotite model na testni množici \\\\ (ponovno izberite ustrezne vrstice v $X$ in $y$).\n",
    "\\end{enumerate}\n",
    "\n",
    "Oceno vrednotenja nato delite s številom poizkusov, da dobite končno oceno.\n",
    "\n",
    "Poročajte o uspešnosti vašega modela. Pri tem se osredotočite na naslednja vprašanja:\n",
    "\\begin{itemize}\n",
    "    \\item Utemeljite ustrezno mero vrednotenja. Ali model dobro napoveduje ocene?\n",
    "    \\item Z izbrano mero ocenite modele za vseh $n$ uporabnikov.\n",
    "\\end{itemize}\n",
    "\n",
    "\n",
    "\\item (50 \\%) Izberite poljubni klasifikacijski model. V enem odstavku opišite njegove lastnosti, morebitne predpostavke, parametre in algoritem za učenje. Vrednosti v vektorju $y$ razdelite v dva \\emph{razreda}:\n",
    "\n",
    "    \\[ y' = \\left\\{ \n",
    "        \\begin{array}{ll}\n",
    "            0 & \\mbox{če $y \\leq 3$}; \\\\\n",
    "            1 & \\mbox{če $y > 3$}. \n",
    "        \\end{array} \\right. \n",
    "        \\] \n",
    "\n",
    "Ponovite analizo iz prejšnjega vprašanja z uporabo klasifikacijskih modelov.\n",
    "Izberite ustrezno mero vrednotenja za klasifikacijo. Ali je klasifikacijski\n",
    "problem lažji od regresijskega? Utemelji odgovor.\n",
    "\n",
    "\n",
    "\\item (Bonus 15 \\%) Ustvarite novega uporabnika, ki predstavlja vaše ocene\n",
    "filmov. Ocenite nekaj filmov po lastnem okusu in preverite, kako modeli ocenijo neizbrane filme.\n",
    "Ali se vam zdijo napovedi primerne? \n",
    "\n",
    "\\end{enumerate}"
   ]
  },
  {
   "cell_type": "markdown",
   "metadata": {},
   "source": [
    "## Zapiski\n",
    "\n",
    "Implementacijo, opis in vrednotenje metod za nadzorovanjo učenje vsebujejo knjižnice \\texttt{sklearn} ali \\texttt{Orange}."
   ]
  },
  {
   "cell_type": "code",
   "execution_count": 1,
   "metadata": {},
   "outputs": [],
   "source": []
  }
 ],
 "metadata": {
  "kernelspec": {
   "display_name": "Python [default]",
   "language": "python",
   "name": "python3"
  },
  "language_info": {
   "codemirror_mode": {
    "name": "ipython",
    "version": 3
   },
   "file_extension": ".py",
   "mimetype": "text/x-python",
   "name": "python",
   "nbconvert_exporter": "python",
   "pygments_lexer": "ipython3",
   "version": "3.6.3"
  },
  "latex_envs": {
   "LaTeX_envs_menu_present": true,
   "autocomplete": true,
   "bibliofile": "biblio.bib",
   "cite_by": "apalike",
   "current_citInitial": 1,
   "eqLabelWithNumbers": true,
   "eqNumInitial": 1,
   "hotkeys": {
    "equation": "Ctrl-E",
    "itemize": "Ctrl-I"
   },
   "labels_anchors": false,
   "latex_user_defs": false,
   "report_style_numbering": false,
   "user_envs_cfg": false
  }
 },
 "nbformat": 4,
 "nbformat_minor": 2
}
