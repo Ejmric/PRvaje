{
 "cells": [
  {
   "cell_type": "markdown",
   "metadata": {
    "lang": "sl"
   },
   "source": [
    "# Odkrivanje skupin"
   ]
  },
  {
   "cell_type": "markdown",
   "metadata": {
    "lang": "en"
   },
   "source": [
    "# Group detection"
   ]
  },
  {
   "cell_type": "markdown",
   "metadata": {
    "lang": "sl"
   },
   "source": [
    "Z metodami *nenadzorovanega modeliranja* odkrivamo strukturo v podatkih, ki jo ne poznamo. Osrednja predpostavka tovrstnih metod je, da v podatkih obstajajo podmnožice podobnih primerov."
   ]
  },
  {
   "cell_type": "markdown",
   "metadata": {
    "lang": "en"
   },
   "source": [
    "By using *uncontrolled modeling* methods we discover unknown structure in data. The central assumption of such methods is that there are subsets of similar cases in the data."
   ]
  },
  {
   "cell_type": "code",
   "execution_count": null,
   "metadata": {
    "collapsed": true
   },
   "outputs": [],
   "source": [
    "import numpy as np\n",
    "\n",
    "% matplotlib inline\n",
    "import matplotlib.pyplot as plt\n",
    "plt.style.use('PR.mplstyle')"
   ]
  },
  {
   "cell_type": "markdown",
   "metadata": {
    "lang": "sl"
   },
   "source": [
    "## Metoda voditeljev"
   ]
  },
  {
   "cell_type": "markdown",
   "metadata": {
    "lang": "en"
   },
   "source": [
    "## K-means clustering"
   ]
  },
  {
   "cell_type": "markdown",
   "metadata": {
    "lang": "sl"
   },
   "source": [
    "Metoda K voditeljev (ang. *K-means clustering*) sodi med enostavnejše in pogosto uporabljene metode nenadzorovanega algoritma. Pomembna prednost je tudi računska učinkovitost. Dodatne podrobnosti najdeš v <a href=\"http://www-users.cs.umn.edu/~kumar/dmbook/ch8.pdf\">literaturi</a>."
   ]
  },
  {
   "cell_type": "markdown",
   "metadata": {
    "lang": "en"
   },
   "source": [
    "K-means clustering is one of the simpler and often used methods of an uncontrolled algorithm. Computational efficiency is also an important advantage. You can find additional details in <a href=\"http://www-users.cs.umn.edu/~kumar/dmbook/ch8.pdf\">literature</a>."
   ]
  },
  {
   "cell_type": "markdown",
   "metadata": {
    "lang": "sl"
   },
   "source": [
    "##### Vprašanje 4-1-1\n",
    "\n",
    "Implementiraj algoritem za odkrivanje skupin z metodo K voditeljev. Pomagaj si z naslednjo psevdokodo:"
   ]
  },
  {
   "cell_type": "markdown",
   "metadata": {
    "lang": "en"
   },
   "source": [
    "##### Question 4-1-1\n",
    "\n",
    "Implement a Group Detection Algorithm with K-means clustering. Hel pyourself with the following pseudocode:"
   ]
  },
  {
   "cell_type": "markdown",
   "metadata": {
    "lang": "sl"
   },
   "source": [
    "```\n",
    "Naključno izberi *K* točk - centrov.\n",
    "**ponavljaj**\n",
    "     Vsaki točki določi najbližji center.\n",
    "     Izračunaj nove centre - središča pripadajočih skupin.\n",
    "**dokler** se centri ne spreminjajo več.\n",
    "```"
   ]
  },
  {
   "cell_type": "markdown",
   "metadata": {
    "lang": "en"
   },
   "source": [
    "```\n",
    "Randomly select *K* points - centers.\n",
    "**repeat**\n",
    "     Determines the nearest center of each point.\n",
    "     Calculate new centers - the centers of the respective groups.\n",
    "**until** centers are no longer changing.\n",
    "```"
   ]
  },
  {
   "cell_type": "markdown",
   "metadata": {
    "lang": "sl"
   },
   "source": [
    "Razdaljo med točkama $\\vec{x} = (x_1, x_2, ... x_p)$ in $\\vec{y} = (y_1, y_2, ... y_p)$  izračunaj s pomočjo evklidske razdalje:\n",
    "\n",
    " $$\\|\\vec{x} - \\vec{y}\\| = \\sqrt{(x_1 - y_1)^2 + (x_2 - y_2)^2 + ... + (x_p-y_p)^2} $$"
   ]
  },
  {
   "cell_type": "markdown",
   "metadata": {
    "lang": "en"
   },
   "source": [
    "Calculate the distance between the points $\\vec{x} = (x_1, x_2, ... x_p)$ and $\\vec{y} = (y_1, y_2, ... y_p)$ using the Euclidean distance:\n",
    "\n",
    " $$\\|\\vec{x} - \\vec{y}\\| = \\sqrt{(x_1 - y_1)^2 + (x_2 - y_2)^2 + ... + (x_p-y_p)^2} $$"
   ]
  },
  {
   "cell_type": "code",
   "execution_count": null,
   "metadata": {
    "collapsed": true
   },
   "outputs": [],
   "source": []
  },
  {
   "cell_type": "markdown",
   "metadata": {
    "lang": "sl"
   },
   "source": [
    "[Odgovor](http://localhost:8888/notebooks/rešitve_04-1_gručenje_voditelji.ipynb#odgovor-4-1-1)"
   ]
  },
  {
   "cell_type": "markdown",
   "metadata": {
    "lang": "en"
   },
   "source": [
    "[Answer](http://localhost:8888/notebooks/rešitve_04-1_gručenje_voditelji.ipynb#odgovor-4-1-1)"
   ]
  },
  {
   "cell_type": "markdown",
   "metadata": {
    "lang": "sl"
   },
   "source": [
    "##### Vprašanje 4-1-2\n",
    "\n",
    "Kakšna je časovna zahtevnost algoritma v odvisnosti od števila primerov in števila atributov?"
   ]
  },
  {
   "cell_type": "markdown",
   "metadata": {
    "lang": "en"
   },
   "source": [
    "##### Question 4-1-2\n",
    "\n",
    "What is the time complexity of the algorithm in relation to the number of cases and the number of attributes?"
   ]
  },
  {
   "cell_type": "markdown",
   "metadata": {
    "lang": "sl"
   },
   "source": [
    "*prostor za odgovor*"
   ]
  },
  {
   "cell_type": "markdown",
   "metadata": {
    "lang": "en"
   },
   "source": [
    "*answer space*"
   ]
  },
  {
   "cell_type": "markdown",
   "metadata": {
    "lang": "sl"
   },
   "source": [
    "[Odgovor](http://localhost:8888/notebooks/rešitve_04-1_gručenje_voditelji.ipynb#odgovor-4-1-2)"
   ]
  },
  {
   "cell_type": "markdown",
   "metadata": {
    "lang": "en"
   },
   "source": [
    "[Answer](http://localhost:8888/notebooks/rešitve_04-1_gručenje_voditelji.ipynb#odgovor-4-1-2)"
   ]
  },
  {
   "cell_type": "code",
   "execution_count": null,
   "metadata": {
    "collapsed": true
   },
   "outputs": [],
   "source": [
    "class KMeans:\n",
    "    \n",
    "    def __init__(self, k=10, max_iter=100):\n",
    "        \"\"\"\n",
    "        Initialize KMeans clustering model.\n",
    "        \n",
    "        :param k\n",
    "            Number of clusters.\n",
    "        :param max_iter\n",
    "            Maximum number of iterations.\n",
    "        \"\"\"\n",
    "        self.k         = k\n",
    "        self.max_iter  = max_iter    \n",
    "    \n",
    "    def fit(self, X):\n",
    "        \"\"\"\n",
    "        Fit the Kmeans model to data.\n",
    "        \n",
    "        :param X\n",
    "            Numpy array of shape (n, p)\n",
    "            n: number of data examples\n",
    "            p: number of features (attributes)\n",
    "        \n",
    "        :return \n",
    "            labels: array of shape (n, ), cluster labels (0..k-1)\n",
    "            centers: array of shape (k, p, )\n",
    "        \"\"\"\n",
    "        \n",
    "        n, p    = X.shape\n",
    "        labels  = np.random.choice(range(self.k), size=n, replace=True)\n",
    "        \n",
    "        # Choose k random data points for initial centers\n",
    "        centers = np.array([X[i] for i in np.random.choice(range(X.shape[0]), \n",
    "                                                   size=self.k)]) \n",
    "        i = 0\n",
    "        while i < self.max_iter:\n",
    "            \n",
    "            # Find nearest cluster\n",
    "            for j, x in enumerate(X):\n",
    "                ki = np.argmin(np.sum((centers - x) ** 2, axis=1))\n",
    "                labels[j] = ki\n",
    "                \n",
    "            # Store previous centers\n",
    "            previous_centers = centers.copy()\n",
    "                \n",
    "            # Move centroid\n",
    "            for ki in range(self.k):\n",
    "                centers[ki] = X[labels == ki].mean(axis=0)    \n",
    "            i += 1    \n",
    "        \n",
    "        return labels, centers"
   ]
  },
  {
   "cell_type": "markdown",
   "metadata": {},
   "source": [
    "Rešitev je dosegljiva v resitve/voditelji.py."
   ]
  },
  {
   "cell_type": "code",
   "execution_count": null,
   "metadata": {
    "collapsed": true
   },
   "outputs": [],
   "source": [
    "%run rešitve_04-1_gručenje_voditelji.ipynb"
   ]
  },
  {
   "cell_type": "markdown",
   "metadata": {},
   "source": [
    "### Podatki\n",
    "\n",
    "Metodo testiramo na podatkovni zbirki <a href=\"https://en.wikipedia.org/wiki/Iris_flower_data_set\">Iris</a>, kjer za cvetlice v treh razredih merimo različne dimenzije cvetnih oz. venčnih listov. V podatkih najdemo tri gruče, približno takole. V rešitvi sta prikazana samo prva dva atributa, zato se gruče navidez prekrivajo.\n",
    "\n",
    "<table>\n",
    "<tr>\n",
    "<td><img src=\"slike/iris.png\" width=\"300\"></img></td> \n",
    "<td><img src=\"slike/iris-resitev.png\" width=\"300\"></img></td>\n",
    "</tr>\n",
    "<table>\n"
   ]
  },
  {
   "cell_type": "code",
   "execution_count": null,
   "metadata": {
    "collapsed": true
   },
   "outputs": [],
   "source": [
    "from sklearn.datasets import load_iris\n",
    "data = load_iris()\n",
    "\n",
    "X             = data[\"data\"]\n",
    "true_clusters = data[\"target\"]\n",
    "\n",
    "# Testirajte razred KMeans\n",
    "\n",
    "# Trenutno so gruče dodeljene naključno\n",
    "model = KMeans(k=3, max_iter=10)\n",
    "labels, centers = model.fit(X[:, :2])\n",
    "\n",
    "plt.figure(figsize=(10, 10))\n",
    "color = {0:\"red\", 1:\"blue\", 2:\"yellow\"}\n",
    "for c, x in zip(labels, X):\n",
    "    plt.plot(x[0], x[1], \".\", color=color[c], markersize=10.0)\n",
    "plt.xlabel(\"Atribut 0\")\n",
    "plt.ylabel(\"Atribut 1\")\n",
    "plt.show()"
   ]
  },
  {
   "cell_type": "markdown",
   "metadata": {
    "lang": "sl"
   },
   "source": [
    "<font color=\"Green\"><b>Naredi sam/a.</b></font> Nariši stanje oznak in sredine skupin v vsaki iteraciji algoritma. "
   ]
  },
  {
   "cell_type": "markdown",
   "metadata": {
    "lang": "en"
   },
   "source": [
    "<font color=\"Green\"><b>Do it yourself.</b></font> Draw the status of the labels and the centre of the groups in each iteration of the algorithm."
   ]
  },
  {
   "cell_type": "code",
   "execution_count": null,
   "metadata": {
    "collapsed": true
   },
   "outputs": [],
   "source": [
    "# ..."
   ]
  },
  {
   "cell_type": "markdown",
   "metadata": {
    "lang": "sl"
   },
   "source": [
    "### Ocenjevanje uspešnosti odkrivanja skupin"
   ]
  },
  {
   "cell_type": "markdown",
   "metadata": {
    "lang": "en"
   },
   "source": [
    "### Evaluating the effectiveness of group discovery"
   ]
  },
  {
   "cell_type": "markdown",
   "metadata": {
    "lang": "sl"
   },
   "source": [
    "Ocenjevanje uspešnosti odkrivanja skupin je eden od nerešenih izzivov strojnega učenja. Poznamo mere kot sta <a href =\"http://scikit-learn.org/stable/auto_examples/cluster/plot_kmeans_silhouette_analysis.html\">silhueta</a>  ali <a href=\"http://scikit-learn.org/stable/modules/clustering.html#adjusted-rand-index\">metoda naključnih indeksov</a>.\n",
    "\n",
    "Druga možnost je, da poznamo resnične razrede, v katere spadajo podatki. To drži za podatkovno zbirko iris, kjer so cvetlice razporejene v tri razrede. \n",
    "\n",
    "<font color=\"Green\"><b>Naredi sam/a.</b></font> Preveri, kako dobro se rezultat tvoje metode ujema z resničnimi razredi? Na kakšen način boš izmeril/a ujemanje? Ali naletiš pri tem na kakšno težavo?"
   ]
  },
  {
   "cell_type": "markdown",
   "metadata": {
    "lang": "en"
   },
   "source": [
    "Assessing the effectiveness of group discovery is one of the unresolved challenges of machine learning. We know measures like <a href =\"http://scikit-learn.org/stable/auto_examples/cluster/plot_kmeans_silhouette_analysis.html\">silhouette</a> or <a href=\"http://scikit-learn.org/stable/modules/clustering.html#adjusted-rand-index\">adjusted random index</a>.\n",
    "\n",
    "Alternatively, we can know the real classes to which the data belongs. This is true for the iris database, where the flowers are arranged in three classes.\n",
    "\n",
    "<font color=\"Green\"><b>Do it yourself.</b></font> Check how well the result of your method matches real classes? How will you measure the match? Do you encounter any problems?"
   ]
  },
  {
   "cell_type": "code",
   "execution_count": null,
   "metadata": {
    "collapsed": true
   },
   "outputs": [],
   "source": [
    "print(true_clusters)   # Resnični razredi primerov"
   ]
  },
  {
   "cell_type": "markdown",
   "metadata": {
    "lang": "sl"
   },
   "source": [
    "<font color=\"Green\"><b>Naredi sam/a.</b></font> Preizkusi metodo na spodnjih, sintetičnih primerih podatkov. Kako se obnese metoda KMeans? Zakaj?"
   ]
  },
  {
   "cell_type": "markdown",
   "metadata": {
    "lang": "en"
   },
   "source": [
    "<font color=\"Green\"><b>Do it yourself.</b></font> Test the method in the lower, synthetic data examples. How does the KMeans method work? Why?"
   ]
  },
  {
   "cell_type": "code",
   "execution_count": null,
   "metadata": {},
   "outputs": [],
   "source": [
    "from sklearn.datasets import make_circles, make_blobs, make_moons\n",
    "\n",
    "n_samples=1000\n",
    "noisy_circles, _ = make_circles(n_samples=n_samples, factor=.5, noise=.05)\n",
    "noisy_moons, _ = make_moons(n_samples=n_samples, noise=.05)\n",
    "blobs, _ = make_blobs(n_samples=n_samples, random_state=8)\n",
    "\n",
    "\n",
    "fig, axes = plt.subplots(nrows=1, ncols=3, figsize=(10, 5))\n",
    "axes[0].plot(noisy_circles[:, 0], noisy_circles[:, 1], \"r.\")\n",
    "axes[1].plot(noisy_moons[:, 0], noisy_moons[:, 1], \"g.\")\n",
    "axes[2].plot(blobs[:, 0], blobs[:, 1], \"b.\")\n",
    "\n",
    "fig.tight_layout()\n",
    "plt.show()"
   ]
  },
  {
   "cell_type": "markdown",
   "metadata": {
    "lang": "sl"
   },
   "source": [
    "### Metoda DBSCAN"
   ]
  },
  {
   "cell_type": "markdown",
   "metadata": {
    "lang": "en"
   },
   "source": [
    "### DBSCAN method"
   ]
  },
  {
   "cell_type": "markdown",
   "metadata": {
    "lang": "sl"
   },
   "source": [
    "<font color=\"Green\"><b>Naredi sam/a.</b></font> Preizkusi metodo <a href=\"http://scikit-learn.org/stable/modules/clustering.html#dbscan\">DBSCAN</a>. Ali se ta metoda na istih podatkih obnese kaj bolje? Zakaj? Odgovor najdeš v opisu metode."
   ]
  },
  {
   "cell_type": "markdown",
   "metadata": {
    "lang": "en"
   },
   "source": [
    "<font color=\"Green\"><b>Do it yourself.</b></font> Test the <a href=\"http://scikit-learn.org/stable/modules/clustering.html#dbscan\">DBSCAN</a> method. Does this method work better on the same data? Why? You find the answer in the method description."
   ]
  },
  {
   "cell_type": "code",
   "execution_count": null,
   "metadata": {
    "collapsed": true
   },
   "outputs": [],
   "source": [
    "from sklearn.cluster import DBSCAN\n",
    "\n",
    "# model = DBSCAN(...)\n",
    "# model.fit(X)\n",
    "# labels = model.predict(X)"
   ]
  }
 ],
 "metadata": {
  "kernelspec": {
   "display_name": "Python 3",
   "language": "python",
   "name": "python3"
  },
  "language_info": {
   "codemirror_mode": {
    "name": "ipython",
    "version": 3
   },
   "file_extension": ".py",
   "mimetype": "text/x-python",
   "name": "python",
   "nbconvert_exporter": "python",
   "pygments_lexer": "ipython3",
   "version": "3.6.3"
  },
  "latex_envs": {
   "LaTeX_envs_menu_present": true,
   "autocomplete": true,
   "bibliofile": "biblio.bib",
   "cite_by": "apalike",
   "current_citInitial": 1,
   "eqLabelWithNumbers": true,
   "eqNumInitial": 1,
   "hotkeys": {
    "equation": "Ctrl-E",
    "itemize": "Ctrl-I"
   },
   "labels_anchors": false,
   "latex_user_defs": false,
   "report_style_numbering": false,
   "user_envs_cfg": false
  },
  "nbTranslate": {
   "displayLangs": [
    "sl"
   ],
   "hotkey": "alt-t",
   "langInMainMenu": true,
   "sourceLang": "sl",
   "targetLang": "en",
   "useGoogleTranslate": true
  }
 },
 "nbformat": 4,
 "nbformat_minor": 1
}
