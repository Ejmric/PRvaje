{
 "cells": [
  {
   "cell_type": "markdown",
   "metadata": {},
   "source": [
    "# Nenegativna matrična faktorizacija in priporočilni sistemi"
   ]
  },
  {
   "cell_type": "markdown",
   "metadata": {},
   "source": [
    "Do sedaj smo obravnavali modele, ki so iz <i>več neodvisnih</i> napovedovali <i>eno</i> odvisno spremenljivko. V scenariju priporočilnega sistema smo tako za vsakega uporabnika zgradili svoj model.\n",
    "\n",
    "Glavna motivacija metod za priporočilne sisteme je, da modeli uporabnikov med sabo <i>niso neodvisni</i>. Želimo enoten model, ki bo ovrednotil poljubno kombinacijo uporabnika in izdelka, ter implicinto izkoriščal medsebojno informacijo med različnimi modeli uporabnikov. \n",
    "\n",
    "Eden od modelov, ki se zelo pogosto uporabljajo v praksi je model matrične faktorizacija.\n",
    "Ta predpostavlja matriko uporabnikov in izdelkov, ki ji predstavimo kot produkt dveh matrik <i>nižjega ranga</i>. Slednja lastnost omogoča stiskanje informacije in sklepanje o novih (ne-videnih, manjkajočih vrednosti) v izvirni matriki.\n",
    "\n",
    "<img width=450 src=\"nmf-shema-01.png\"/>"
   ]
  },
  {
   "cell_type": "markdown",
   "metadata": {},
   "source": [
    "## Uvodne definicije\n",
    "\n",
    "Matriko podatkov $\\mathbf{X}$, ki vsebuje manjkajoče vrednosti, z modelom matrične faktorizacije predstavimo na naslednji način:\n",
    "$$ \\mathbf{X} = \\mathbf{W} \\mathbf{H}^T + \\mathbf{E} $$,\n",
    "\n",
    "torej kot produkt matrike $\\mathbf{W}$, ki predstavlja prostor vrstic, $\\mathbf{H}$ predstavlja prostor stolpcev, $\\mathbf{E}$ pa ostanek oz. napako. Matriki $\\mathbf{W}, \\mathbf{H}$ si včasih predstavljamo kot hkratno gručenje stolpcev in vrstic. Matrike so naslednjih velikosti:\n",
    "$$ \\mathbf{X} \\in \\mathbb{R}^{m \\times n}, \\mathbf{W} \\in \\mathbb{R}^{m \\times r}, \\mathbf{H} \\in \\mathbb{R}^{n \\times r},  \\mathbf{E} \\in \\mathbb{R}^{m \\times n}$$\n",
    "\n",
    "Predostavljamo, da sta matriki $\\mathbf{W}, \\mathbf{H}$ <i>nizkega ranga</i>, kar v praksi pomeni da celotno informacijo iz $\\mathbf{X}$ predstavljamo v stisnjeni obliki, torej\n",
    "$$r < m, r < n $$.\n",
    "\n",
    "Predpostavljamo tudi, da so matrike $\\mathbf{X}$, $\\mathbf{W}$ in $\\mathbf{H}$ nenegativne. Tedaj govorimo o <b>nenegativni matrični faktorizaciji (NMF)</b>.\n",
    "$$x_{i, j} > 0, w_{i, k} > 0, h_{j, k} > 0, \\forall i, j, k $$.\n",
    "\n",
    "Matrika napake $\\mathbf{E}$ te omejitve nima (<font color=\"blue\">razmisli</font>: zakaj?).\n",
    "\n",
    "\n",
    "## Definicija problema\n",
    "\n",
    "Želimo torej poiskati matriki $\\mathbf{W}$ in $\\mathbf{H}$, tako da vrednost napake karseda nizka. To lahko zapišemo kot naslednji optimizacijski problem:\n",
    "\n",
    "$$ \\text{min}_{\\mathbf{W},\\mathbf{H}}\\ \\| \\mathbf{X} - \\mathbf{W}\\mathbf{H}^T \\|_F^2 = \\text{min}_{\\mathbf{W},\\mathbf{H}}\\ J$$\n",
    "\n",
    "Oznaka $\\| \\mathbf{A} \\|_F = \\sqrt{\\sum_{i,j} a_{i,j}^2}$ predstavlja <i>Frobeniusovo normo</i> matrike $\\mathbf{A}$.  (<font color=\"blue\">razmisli</font>: Opaziš podobnost s srednjo kvadratično napako, ki smo jo spoznali v kontekstu linearne regresije?)\n",
    "\n",
    "\n",
    "Vrednost $J$ imenujemo <i>kriterijska funkcija</i>, problem iskanja minimuma pa <i>optimizacijski oz. minimizacijski problem</i>.  <b>Posebnost</b> priporičilnih sistemov je ta, da napako računamo samo na vrednostih v $\\mathbf{X}$, ki so znane. Kriterijska funkcija je torej:\n",
    "\n",
    "$$ J = \\sum_{i, j | x_{i,j} \\not = 0} (x_{i, j} - \\sum_{l=1}^{r} w_{i,l}h_{j, l} )^2 $$\n",
    "\n",
    "Za ta konkreten problem velja, da nima globalno optimalne rešitve za spremenljivke $\\mathbf{W},\\mathbf{H}$.  Vseeno ga lahko rešimo npr. z odvajanjem kriterijske funkcije in premikanjem v negativni smeri gradienta. Dobimo \n",
    "<i>pravila za posodabljanje</i> vrednosti v $\\mathbf{W},\\mathbf{H}$:\n",
    "\n",
    "Vse vrednosti $w_{i,k}$ in $h_{j, k}$ popravimo tako, da vrednost v prejšnji iteraciji <i>popravimo</i> v negativni smeri gradienta, s <i>korakom</i> $\\eta$:\n",
    "\n",
    "$$ w_{i,k}^{(t+1)}  = w_{i, k}^{(t)} - \\eta \\frac{\\delta J}{\\delta w_{i,k}} = w_{i, k}^{(t)} + \\eta \\sum_{j \\ | \\ x_{i,j} \\not = 0} (x_{i,j} - \\sum_{l=1}^r w_{i,l} h_{j, l})(w_{i, k}^{(t)})$$\n",
    "\n",
    "$$ h_{j, k}^{(t+1)}  = h_{j, k}^{(t)} - \\eta \\frac{\\delta J}{\\delta h_{j, k}} = h_{j, k}^{(t)} + \\eta \\sum_{i \\ | \\  x_{i,j} \\not = 0} (x_{i,j} - \\sum_{l=1}^r w_{i,l} h_{j, l})(h_{j, k}^{(t)})$$\n",
    "\n",
    "<font color=\"green\"><b>Pravila izpeljemo na tablo.</b></font>\n",
    "\n",
    "\n",
    "## Stohastični gradientni sestop\n",
    "\n",
    "Stohastični gradientni sestop (SGD) je postopek za reševanje optimizcijskih problemov, ki niso globalno rešljivi, za vse nastopajoče spremenljivke (v našem primeru vse $w_{i,k}$ in $h_{j, k}$) pa znamo izračunati odvod glede na kriterijsko funkcijo. To smo storili v prešnjem delu.\n",
    "Postopek za iskanje <i>lokalnega minimuma</i> je naslednji.\n",
    "\n",
    "1. Naključno nastavi vrednosti vseh spremenljivk  $w_{i,k}$ in $h_{j, k}$. V našem primeru \n",
    "    velja $w_{i,k} > 0$  in $h_{j, k} > 0$.\n",
    "2. V iteraciji $t = 1...T$:\n",
    "    \n",
    "    2.1 V naključnem vrstnem redu posodabljaj $\\forall i, k, j$\n",
    "$$ w_{i,k}^{(t+1)}  = w_{i, k}^{(t)} - \\eta \\frac{\\delta J}{\\delta w_{i,k}} $$\n",
    "$$ h_{j, k}^{(t+1)}  = h_{j, k}^{(t)} - \\eta \\frac{\\delta J}{\\delta h_{j, k}} $$\n",
    "            \n",
    "<img width=450 src=\"slike/gradient-descent-1.png\"/>\n",
    "Shematski prikaz gradientnega sestopa za hipotetični spremenljivki $w$, $h$ in kriterijsko funkcijo $J(w, h)$.\n"
   ]
  },
  {
   "cell_type": "markdown",
   "metadata": {},
   "source": [
    "<font color=\"green\"><b>Naredi sam/a.</b></font> Dopolni spodnjo implementacijo algoritma NMF, tako da uporabiš posodobitvena pravila v več iteracijah stohastičnega gradientnega sestopa. \n",
    "<br/>\n",
    "<font color=\"blue\"><b>Namig.</b></font> Pri računanju gradienta upoštevaj samo vrednosti $x_{i, j}$, ki so znane (različne od 0). Za učinkovito implementacijo izračuna vsot\n",
    "$\\sum_{i \\ | \\  x_{i,j} \\not = 0}$ in $\\sum_{j \\ | \\  x_{i,j} \\not = 0}$ najprej (pred začetkom iteracij):\n",
    "* za vsako vrstico $i$ shranimo neničelne stolpce\n",
    "* za vsak stolpec $j$ shranimo neničelne vrstice"
   ]
  },
  {
   "cell_type": "code",
   "execution_count": 1,
   "metadata": {},
   "outputs": [],
   "source": [
    "import numpy as np\n",
    "import itertools\n",
    "\n",
    "class NMF:\n",
    "    \n",
    "    \"\"\"\n",
    "    Fit a matrix factorization model for a matrix X with missing values.\n",
    "    such that\n",
    "        X = W H.T + E \n",
    "    where\n",
    "        X is of shape (m, n)    - data matrix\n",
    "        W is of shape (m, rank) - approximated row space\n",
    "        H is of shape (n, rank) - approximated column space\n",
    "        E is of shape (m, n)    - residual (error) matrix\n",
    "    \"\"\"\n",
    "    \n",
    "    def __init__(self, rank=10, max_iter=100, eta=0.01):\n",
    "        \"\"\"\n",
    "        :param rank: Rank of the matrices of the model.\n",
    "        :param max_iter: Maximum nuber of SGD iterations.\n",
    "        :param eta: SGD learning rate.\n",
    "        \"\"\"\n",
    "        self.rank = rank\n",
    "        self.max_iter = max_iter\n",
    "        self.eta = eta\n",
    "    \n",
    "    \n",
    "    def fit(self, X):\n",
    "        \"\"\"\n",
    "        Fit model parameters W, H.\n",
    "        :param X: \n",
    "            Non-negative data matrix of shape (m, n)\n",
    "            Unknown values are assumed to take the value of zero (0).\n",
    "        \"\"\"\n",
    "        m, n = X.shape\n",
    "        \n",
    "        W = np.random.rand(m, self.rank)\n",
    "        H = np.random.rand(n, self.rank)\n",
    " \n",
    "        # Indices to model variables\n",
    "        w_vars = list(itertools.product(range(m), range(self.rank)))\n",
    "        h_vars = list(itertools.product(range(n), range(self.rank)))\n",
    "\n",
    "        # Indices to nonzero rows/columns\n",
    "        nzcols = dict([(j, X[:, j].nonzero()[0]) for j in range(n)])\n",
    "        nzrows = dict([(i, X[i, :].nonzero()[0]) for i in range(m)])\n",
    "\n",
    "        # nzrows[i] <- vrni stolpce j, tako da x_ij > 0\n",
    "        \n",
    "        \n",
    "        # Errors\n",
    "        self.error = np.zeros((self.max_iter,))\n",
    "\n",
    "        for t in range(self.max_iter):\n",
    "            np.random.shuffle(w_vars)\n",
    "            np.random.shuffle(h_vars)\n",
    "\n",
    "            for i, k in w_vars:\n",
    "                # TODO: your code here\n",
    "                # Calculate gradient and update W[i, k]\n",
    "                pass\n",
    "\n",
    "            for j, k in h_vars:\n",
    "                # TODO: your code here\n",
    "                # Calculate gradient and update H[j, k]\n",
    "                pass\n",
    " \n",
    "            self.error[t] = np.linalg.norm((X - W.dot(H.T))[X > 0])**2\n",
    "            print(t, self.error[t])\n",
    "        \n",
    "        self.W = W\n",
    "        self.H = H\n",
    "    \n",
    "    \n",
    "    def predict(self, i, j):\n",
    "        \"\"\"\n",
    "        Predict score for row i and column j\n",
    "        :param i: Row index.\n",
    "        :param j: Column index.\n",
    "        \"\"\"\n",
    "        return self.W[i, :].dot(self.H[j, :])\n",
    "    \n",
    "\n",
    "    def predict_all(self):\n",
    "        \"\"\"\n",
    "        Return approximated matrix for all\n",
    "        columns and rows.\n",
    "        \"\"\"\n",
    "        return self.W.dot(self.H.T)"
   ]
  },
  {
   "cell_type": "markdown",
   "metadata": {},
   "source": [
    "Rešitev najdete v rešitve/nmf.ipynb."
   ]
  },
  {
   "cell_type": "code",
   "execution_count": 2,
   "metadata": {},
   "outputs": [
    {
     "name": "stderr",
     "output_type": "stream",
     "text": [
      "ERROR:root:File `'rešitve/nmf.ipynb.py'` not found.\n"
     ]
    }
   ],
   "source": [
    "%run 'rešitve/nmf.ipynb'"
   ]
  },
  {
   "cell_type": "markdown",
   "metadata": {},
   "source": [
    "Testirajmo metodo na matriki naključnih podatkov."
   ]
  },
  {
   "cell_type": "code",
   "execution_count": 3,
   "metadata": {},
   "outputs": [],
   "source": [
    "m = 100       # St. vrstic\n",
    "n = 80        # St. stolpcev\n",
    "rank = 5      # Rang model\n",
    "error = 0.1   # Nakljucni šum\n",
    "A = np.random.rand(m, rank*2)  \n",
    "B = np.random.rand(n, rank*2)\n",
    "X = A.dot(B.T) + error * np.random.rand(m, n)  # generiramo podatke"
   ]
  },
  {
   "cell_type": "markdown",
   "metadata": {
    "collapsed": true
   },
   "source": [
    "Poženemo iskanje parametrov $\\mathbf{W}$, $\\mathbf{H}$."
   ]
  },
  {
   "cell_type": "code",
   "execution_count": 4,
   "metadata": {},
   "outputs": [
    {
     "ename": "TypeError",
     "evalue": "fit() got an unexpected keyword argument 'verbose'",
     "output_type": "error",
     "traceback": [
      "\u001b[0;31m---------------------------------------------------------------------------\u001b[0m",
      "\u001b[0;31mTypeError\u001b[0m                                 Traceback (most recent call last)",
      "\u001b[0;32m<ipython-input-4-338a30788b29>\u001b[0m in \u001b[0;36m<module>\u001b[0;34m()\u001b[0m\n\u001b[1;32m      1\u001b[0m \u001b[0mmodel\u001b[0m \u001b[0;34m=\u001b[0m \u001b[0mNMF\u001b[0m\u001b[0;34m(\u001b[0m\u001b[0mrank\u001b[0m\u001b[0;34m=\u001b[0m\u001b[0mrank\u001b[0m\u001b[0;34m,\u001b[0m \u001b[0mmax_iter\u001b[0m\u001b[0;34m=\u001b[0m\u001b[0;36m20\u001b[0m\u001b[0;34m,\u001b[0m \u001b[0meta\u001b[0m\u001b[0;34m=\u001b[0m\u001b[0;36m0.001\u001b[0m\u001b[0;34m)\u001b[0m\u001b[0;34m\u001b[0m\u001b[0m\n\u001b[0;32m----> 2\u001b[0;31m \u001b[0mmodel\u001b[0m\u001b[0;34m.\u001b[0m\u001b[0mfit\u001b[0m\u001b[0;34m(\u001b[0m\u001b[0mX\u001b[0m\u001b[0;34m,\u001b[0m \u001b[0mverbose\u001b[0m\u001b[0;34m=\u001b[0m\u001b[0;32mTrue\u001b[0m\u001b[0;34m)\u001b[0m\u001b[0;34m\u001b[0m\u001b[0m\n\u001b[0m",
      "\u001b[0;31mTypeError\u001b[0m: fit() got an unexpected keyword argument 'verbose'"
     ]
    }
   ],
   "source": [
    "model = NMF(rank=rank, max_iter=20, eta=0.001)\n",
    "model.fit(X, verbose=True)"
   ]
  },
  {
   "cell_type": "markdown",
   "metadata": {},
   "source": [
    "Napaka modela pada s številom iteracij."
   ]
  },
  {
   "cell_type": "code",
   "execution_count": 5,
   "metadata": {},
   "outputs": [
    {
     "ename": "AttributeError",
     "evalue": "'NMF' object has no attribute 'error'",
     "output_type": "error",
     "traceback": [
      "\u001b[0;31m---------------------------------------------------------------------------\u001b[0m",
      "\u001b[0;31mAttributeError\u001b[0m                            Traceback (most recent call last)",
      "\u001b[0;32m<ipython-input-5-1d68a00d0a79>\u001b[0m in \u001b[0;36m<module>\u001b[0;34m()\u001b[0m\n\u001b[1;32m      3\u001b[0m \u001b[0;34m\u001b[0m\u001b[0m\n\u001b[1;32m      4\u001b[0m \u001b[0mplt\u001b[0m\u001b[0;34m.\u001b[0m\u001b[0mfigure\u001b[0m\u001b[0;34m(\u001b[0m\u001b[0;34m)\u001b[0m\u001b[0;34m\u001b[0m\u001b[0m\n\u001b[0;32m----> 5\u001b[0;31m \u001b[0mplt\u001b[0m\u001b[0;34m.\u001b[0m\u001b[0mplot\u001b[0m\u001b[0;34m(\u001b[0m\u001b[0mmodel\u001b[0m\u001b[0;34m.\u001b[0m\u001b[0merror\u001b[0m\u001b[0;34m)\u001b[0m\u001b[0;34m\u001b[0m\u001b[0m\n\u001b[0m\u001b[1;32m      6\u001b[0m \u001b[0mplt\u001b[0m\u001b[0;34m.\u001b[0m\u001b[0mxlabel\u001b[0m\u001b[0;34m(\u001b[0m\u001b[0;34m\"Iteration\"\u001b[0m\u001b[0;34m)\u001b[0m\u001b[0;34m\u001b[0m\u001b[0m\n\u001b[1;32m      7\u001b[0m \u001b[0mplt\u001b[0m\u001b[0;34m.\u001b[0m\u001b[0mylabel\u001b[0m\u001b[0;34m(\u001b[0m\u001b[0;34m\"Objective function\"\u001b[0m\u001b[0;34m)\u001b[0m\u001b[0;34m\u001b[0m\u001b[0m\n",
      "\u001b[0;31mAttributeError\u001b[0m: 'NMF' object has no attribute 'error'"
     ]
    },
    {
     "data": {
      "text/plain": [
       "<matplotlib.figure.Figure at 0x111340a20>"
      ]
     },
     "metadata": {},
     "output_type": "display_data"
    }
   ],
   "source": [
    "%matplotlib inline\n",
    "import matplotlib.pyplot as plt\n",
    "\n",
    "plt.figure()\n",
    "plt.plot(model.error)\n",
    "plt.xlabel(\"Iteration\")\n",
    "plt.ylabel(\"Objective function\")"
   ]
  },
  {
   "cell_type": "markdown",
   "metadata": {},
   "source": [
    "Primerjajmo model in izvirne podatke."
   ]
  },
  {
   "cell_type": "code",
   "execution_count": 6,
   "metadata": {},
   "outputs": [
    {
     "ename": "AttributeError",
     "evalue": "'NMF' object has no attribute 'W'",
     "output_type": "error",
     "traceback": [
      "\u001b[0;31m---------------------------------------------------------------------------\u001b[0m",
      "\u001b[0;31mAttributeError\u001b[0m                            Traceback (most recent call last)",
      "\u001b[0;32m<ipython-input-6-5b51e4a72b52>\u001b[0m in \u001b[0;36m<module>\u001b[0;34m()\u001b[0m\n\u001b[1;32m      3\u001b[0m \u001b[0max\u001b[0m\u001b[0;34m[\u001b[0m\u001b[0;36m0\u001b[0m\u001b[0;34m]\u001b[0m\u001b[0;34m.\u001b[0m\u001b[0mset_title\u001b[0m\u001b[0;34m(\u001b[0m\u001b[0;34m\"Original\"\u001b[0m\u001b[0;34m)\u001b[0m\u001b[0;34m\u001b[0m\u001b[0m\n\u001b[1;32m      4\u001b[0m \u001b[0;34m\u001b[0m\u001b[0m\n\u001b[0;32m----> 5\u001b[0;31m \u001b[0max\u001b[0m\u001b[0;34m[\u001b[0m\u001b[0;36m1\u001b[0m\u001b[0;34m]\u001b[0m\u001b[0;34m.\u001b[0m\u001b[0mpcolor\u001b[0m\u001b[0;34m(\u001b[0m\u001b[0mmodel\u001b[0m\u001b[0;34m.\u001b[0m\u001b[0mpredict_all\u001b[0m\u001b[0;34m(\u001b[0m\u001b[0;34m)\u001b[0m\u001b[0;34m)\u001b[0m\u001b[0;34m\u001b[0m\u001b[0m\n\u001b[0m\u001b[1;32m      6\u001b[0m \u001b[0max\u001b[0m\u001b[0;34m[\u001b[0m\u001b[0;36m1\u001b[0m\u001b[0;34m]\u001b[0m\u001b[0;34m.\u001b[0m\u001b[0mset_title\u001b[0m\u001b[0;34m(\u001b[0m\u001b[0;34m\"Model\"\u001b[0m\u001b[0;34m)\u001b[0m\u001b[0;34m\u001b[0m\u001b[0m\n\u001b[1;32m      7\u001b[0m \u001b[0mplt\u001b[0m\u001b[0;34m.\u001b[0m\u001b[0mshow\u001b[0m\u001b[0;34m(\u001b[0m\u001b[0;34m)\u001b[0m\u001b[0;34m\u001b[0m\u001b[0m\n",
      "\u001b[0;32m<ipython-input-1-69af2b3b86d8>\u001b[0m in \u001b[0;36mpredict_all\u001b[0;34m(self)\u001b[0m\n\u001b[1;32m     87\u001b[0m         \u001b[0mcolumns\u001b[0m \u001b[0;32mand\u001b[0m \u001b[0mrows\u001b[0m\u001b[0;34m.\u001b[0m\u001b[0;34m\u001b[0m\u001b[0m\n\u001b[1;32m     88\u001b[0m         \"\"\"\n\u001b[0;32m---> 89\u001b[0;31m         \u001b[0;32mreturn\u001b[0m \u001b[0mself\u001b[0m\u001b[0;34m.\u001b[0m\u001b[0mW\u001b[0m\u001b[0;34m.\u001b[0m\u001b[0mdot\u001b[0m\u001b[0;34m(\u001b[0m\u001b[0mself\u001b[0m\u001b[0;34m.\u001b[0m\u001b[0mH\u001b[0m\u001b[0;34m.\u001b[0m\u001b[0mT\u001b[0m\u001b[0;34m)\u001b[0m\u001b[0;34m\u001b[0m\u001b[0m\n\u001b[0m",
      "\u001b[0;31mAttributeError\u001b[0m: 'NMF' object has no attribute 'W'"
     ]
    },
    {
     "data": {
      "image/png": "[encoded data removed]",
      "text/plain": [
       "<matplotlib.figure.Figure at 0x111787b38>"
      ]
     },
     "metadata": {},
     "output_type": "display_data"
    }
   ],
   "source": [
    "fig, ax = plt.subplots(nrows=1, ncols=2)\n",
    "ax[0].pcolor(X)\n",
    "ax[0].set_title(\"Original\")\n",
    "\n",
    "ax[1].pcolor(model.predict_all())\n",
    "ax[1].set_title(\"Model\")\n",
    "plt.show()"
   ]
  },
  {
   "cell_type": "markdown",
   "metadata": {},
   "source": [
    "Izračunamo pojasnjeno varianco."
   ]
  },
  {
   "cell_type": "code",
   "execution_count": 7,
   "metadata": {},
   "outputs": [
    {
     "ename": "AttributeError",
     "evalue": "'NMF' object has no attribute 'W'",
     "output_type": "error",
     "traceback": [
      "\u001b[0;31m---------------------------------------------------------------------------\u001b[0m",
      "\u001b[0;31mAttributeError\u001b[0m                            Traceback (most recent call last)",
      "\u001b[0;32m<ipython-input-7-78f49fe1319b>\u001b[0m in \u001b[0;36m<module>\u001b[0;34m()\u001b[0m\n\u001b[0;32m----> 1\u001b[0;31m \u001b[0mXp\u001b[0m \u001b[0;34m=\u001b[0m \u001b[0mmodel\u001b[0m\u001b[0;34m.\u001b[0m\u001b[0mpredict_all\u001b[0m\u001b[0;34m(\u001b[0m\u001b[0;34m)\u001b[0m\u001b[0;34m\u001b[0m\u001b[0m\n\u001b[0m\u001b[1;32m      2\u001b[0m \u001b[0mexpl_var\u001b[0m \u001b[0;34m=\u001b[0m \u001b[0;34m(\u001b[0m\u001b[0mnp\u001b[0m\u001b[0;34m.\u001b[0m\u001b[0mvar\u001b[0m\u001b[0;34m(\u001b[0m\u001b[0mX\u001b[0m\u001b[0;34m)\u001b[0m \u001b[0;34m-\u001b[0m \u001b[0mnp\u001b[0m\u001b[0;34m.\u001b[0m\u001b[0mvar\u001b[0m\u001b[0;34m(\u001b[0m\u001b[0mX\u001b[0m\u001b[0;34m-\u001b[0m\u001b[0mXp\u001b[0m\u001b[0;34m)\u001b[0m\u001b[0;34m)\u001b[0m\u001b[0;34m/\u001b[0m\u001b[0mnp\u001b[0m\u001b[0;34m.\u001b[0m\u001b[0mvar\u001b[0m\u001b[0;34m(\u001b[0m\u001b[0mX\u001b[0m\u001b[0;34m)\u001b[0m\u001b[0;34m\u001b[0m\u001b[0m\n\u001b[1;32m      3\u001b[0m \u001b[0mexpl_var\u001b[0m\u001b[0;34m\u001b[0m\u001b[0m\n",
      "\u001b[0;32m<ipython-input-1-69af2b3b86d8>\u001b[0m in \u001b[0;36mpredict_all\u001b[0;34m(self)\u001b[0m\n\u001b[1;32m     87\u001b[0m         \u001b[0mcolumns\u001b[0m \u001b[0;32mand\u001b[0m \u001b[0mrows\u001b[0m\u001b[0;34m.\u001b[0m\u001b[0;34m\u001b[0m\u001b[0m\n\u001b[1;32m     88\u001b[0m         \"\"\"\n\u001b[0;32m---> 89\u001b[0;31m         \u001b[0;32mreturn\u001b[0m \u001b[0mself\u001b[0m\u001b[0;34m.\u001b[0m\u001b[0mW\u001b[0m\u001b[0;34m.\u001b[0m\u001b[0mdot\u001b[0m\u001b[0;34m(\u001b[0m\u001b[0mself\u001b[0m\u001b[0;34m.\u001b[0m\u001b[0mH\u001b[0m\u001b[0;34m.\u001b[0m\u001b[0mT\u001b[0m\u001b[0;34m)\u001b[0m\u001b[0;34m\u001b[0m\u001b[0m\n\u001b[0m",
      "\u001b[0;31mAttributeError\u001b[0m: 'NMF' object has no attribute 'W'"
     ]
    }
   ],
   "source": [
    "Xp = model.predict_all()\n",
    "expl_var = (np.var(X) - np.var(X-Xp))/np.var(X)\n",
    "expl_var"
   ]
  },
  {
   "cell_type": "markdown",
   "metadata": {},
   "source": [
    "<font color=\"green\"><b>Naredi sam/a.</b></font> Kako se pojasnjena varianca spreminja z rangom modela, št. iteracij?"
   ]
  },
  {
   "cell_type": "code",
   "execution_count": 8,
   "metadata": {},
   "outputs": [
    {
     "name": "stdout",
     "output_type": "stream",
     "text": [
      "0 29506.418338\n",
      "1 29506.418338\n",
      "2 29506.418338\n",
      "3 29506.418338\n",
      "4 29506.418338\n",
      "5 29506.418338\n",
      "6 29506.418338\n",
      "7 29506.418338\n",
      "8 29506.418338\n",
      "9 29506.418338\n",
      "10 29506.418338\n",
      "11 29506.418338\n",
      "12 29506.418338\n",
      "13 29506.418338\n",
      "14 29506.418338\n",
      "15 29506.418338\n",
      "16 29506.418338\n",
      "17 29506.418338\n",
      "18 29506.418338\n",
      "19 29506.418338\n",
      "3 -0.307531908235\n",
      "0 22928.1684565\n",
      "1 22928.1684565\n",
      "2 22928.1684565\n",
      "3 22928.1684565\n",
      "4 22928.1684565\n",
      "5 22928.1684565\n",
      "6 22928.1684565\n",
      "7 22928.1684565\n",
      "8 22928.1684565\n",
      "9 22928.1684565\n",
      "10 22928.1684565\n",
      "11 22928.1684565\n",
      "12 22928.1684565\n",
      "13 22928.1684565\n",
      "14 22928.1684565\n",
      "15 22928.1684565\n",
      "16 22928.1684565\n",
      "17 22928.1684565\n",
      "18 22928.1684565\n",
      "19 22928.1684565\n",
      "4 -0.445826444507\n",
      "0 19827.2727459\n",
      "1 19827.2727459\n",
      "2 19827.2727459\n",
      "3 19827.2727459\n",
      "4 19827.2727459\n",
      "5 19827.2727459\n",
      "6 19827.2727459\n",
      "7 19827.2727459\n",
      "8 19827.2727459\n",
      "9 19827.2727459\n",
      "10 19827.2727459\n",
      "11 19827.2727459\n",
      "12 19827.2727459\n",
      "13 19827.2727459\n",
      "14 19827.2727459\n",
      "15 19827.2727459\n",
      "16 19827.2727459\n",
      "17 19827.2727459\n",
      "18 19827.2727459\n",
      "19 19827.2727459\n",
      "5 -0.598222585398\n",
      "0 13849.662837\n",
      "1 13849.662837\n",
      "2 13849.662837\n",
      "3 13849.662837\n",
      "4 13849.662837\n",
      "5 13849.662837\n",
      "6 13849.662837\n",
      "7 13849.662837\n",
      "8 13849.662837\n",
      "9 13849.662837\n",
      "10 13849.662837\n",
      "11 13849.662837\n",
      "12 13849.662837\n",
      "13 13849.662837\n",
      "14 13849.662837\n",
      "15 13849.662837\n",
      "16 13849.662837\n",
      "17 13849.662837\n",
      "18 13849.662837\n",
      "19 13849.662837\n",
      "6 -0.77738333163\n",
      "0 9857.4907272\n",
      "1 9857.4907272\n",
      "2 9857.4907272\n",
      "3 9857.4907272\n",
      "4 9857.4907272\n",
      "5 9857.4907272\n",
      "6 9857.4907272\n",
      "7 9857.4907272\n",
      "8 9857.4907272\n",
      "9 9857.4907272\n",
      "10 9857.4907272\n",
      "11 9857.4907272\n",
      "12 9857.4907272\n",
      "13 9857.4907272\n",
      "14 9857.4907272\n",
      "15 9857.4907272\n",
      "16 9857.4907272\n",
      "17 9857.4907272\n",
      "18 9857.4907272\n",
      "19 9857.4907272\n",
      "7 -0.715696885593\n",
      "0 8127.77392633\n",
      "1 8127.77392633\n",
      "2 8127.77392633\n",
      "3 8127.77392633\n",
      "4 8127.77392633\n",
      "5 8127.77392633\n",
      "6 8127.77392633\n",
      "7 8127.77392633\n",
      "8 8127.77392633\n",
      "9 8127.77392633\n",
      "10 8127.77392633\n",
      "11 8127.77392633\n",
      "12 8127.77392633\n",
      "13 8127.77392633\n",
      "14 8127.77392633\n",
      "15 8127.77392633\n",
      "16 8127.77392633\n",
      "17 8127.77392633\n",
      "18 8127.77392633\n",
      "19 8127.77392633\n",
      "8 -0.764190808129\n",
      "0 7027.86508867\n",
      "1 7027.86508867\n",
      "2 7027.86508867\n",
      "3 7027.86508867\n",
      "4 7027.86508867\n",
      "5 7027.86508867\n",
      "6 7027.86508867\n",
      "7 7027.86508867\n",
      "8 7027.86508867\n",
      "9 7027.86508867\n",
      "10 7027.86508867\n",
      "11 7027.86508867\n",
      "12 7027.86508867\n",
      "13 7027.86508867\n",
      "14 7027.86508867\n",
      "15 7027.86508867\n",
      "16 7027.86508867\n",
      "17 7027.86508867\n",
      "18 7027.86508867\n",
      "19 7027.86508867\n",
      "9 -0.700812539802\n"
     ]
    }
   ],
   "source": [
    "for rank in range(3, 10):\n",
    "    model = NMF(rank=rank, max_iter=20, eta=0.001)\n",
    "    model.fit(X)\n",
    "    Xp = model.predict_all()\n",
    "    expl_var = (np.var(X) - np.var(X-Xp))/np.var(X)\n",
    "    print(rank, expl_var)"
   ]
  },
  {
   "cell_type": "markdown",
   "metadata": {},
   "source": [
    "<font color=\"green\"><b>Naredi sam/a.</b></font> Preizkusi metodo NMF na podatkovni zbirki Jester. Podatki so razdeljeni na učno in testno množico, kjer je v učni množici prisoten delež $p$ ocen. Poženi model na učni množici in izračunaj testno napako (RMSE, pojasnjeno varianco) na ocenah, ki niso bile uporabljene za učenje. Izračunaj, kako se testna napaka spreminja v odvisnosti od:\n",
    "* delež učnih ocen $p$,\n",
    "* ranga matrik modela (število $r$, parameter ```rank```)"
   ]
  },
  {
   "cell_type": "code",
   "execution_count": 9,
   "metadata": {},
   "outputs": [
    {
     "ename": "OSError",
     "evalue": "jester-data.csv not found.",
     "output_type": "error",
     "traceback": [
      "\u001b[0;31m---------------------------------------------------------------------------\u001b[0m",
      "\u001b[0;31mOSError\u001b[0m                                   Traceback (most recent call last)",
      "\u001b[0;32m<ipython-input-9-ee317224db93>\u001b[0m in \u001b[0;36m<module>\u001b[0;34m()\u001b[0m\n\u001b[1;32m     23\u001b[0m \u001b[0;34m\u001b[0m\u001b[0m\n\u001b[1;32m     24\u001b[0m \u001b[0;31m# X: 1% podatkov, Y ostalih 99%\u001b[0m\u001b[0;34m\u001b[0m\u001b[0;34m\u001b[0m\u001b[0m\n\u001b[0;32m---> 25\u001b[0;31m \u001b[0mX\u001b[0m\u001b[0;34m,\u001b[0m \u001b[0mY\u001b[0m \u001b[0;34m=\u001b[0m \u001b[0mload_jester\u001b[0m\u001b[0;34m(\u001b[0m\u001b[0mp\u001b[0m\u001b[0;34m=\u001b[0m\u001b[0;36m0.5\u001b[0m\u001b[0;34m)\u001b[0m\u001b[0;34m\u001b[0m\u001b[0m\n\u001b[0m\u001b[1;32m     26\u001b[0m \u001b[0;34m\u001b[0m\u001b[0m\n\u001b[1;32m     27\u001b[0m \u001b[0mX\u001b[0m \u001b[0;34m=\u001b[0m \u001b[0mX\u001b[0m\u001b[0;34m[\u001b[0m\u001b[0;34m:\u001b[0m\u001b[0;36m1000\u001b[0m\u001b[0;34m,\u001b[0m \u001b[0;34m:\u001b[0m\u001b[0;34m]\u001b[0m\u001b[0;34m\u001b[0m\u001b[0m\n",
      "\u001b[0;32m<ipython-input-9-ee317224db93>\u001b[0m in \u001b[0;36mload_jester\u001b[0;34m(p)\u001b[0m\n\u001b[1;32m      8\u001b[0m     \"\"\"\n\u001b[1;32m      9\u001b[0m \u001b[0;34m\u001b[0m\u001b[0m\n\u001b[0;32m---> 10\u001b[0;31m     \u001b[0mY\u001b[0m \u001b[0;34m=\u001b[0m \u001b[0mnp\u001b[0m\u001b[0;34m.\u001b[0m\u001b[0mgenfromtxt\u001b[0m\u001b[0;34m(\u001b[0m\u001b[0;34m\"jester-data.csv\"\u001b[0m\u001b[0;34m,\u001b[0m \u001b[0mdelimiter\u001b[0m\u001b[0;34m=\u001b[0m\u001b[0;34m\",\"\u001b[0m\u001b[0;34m,\u001b[0m \u001b[0mdtype\u001b[0m\u001b[0;34m=\u001b[0m\u001b[0mfloat\u001b[0m\u001b[0;34m,\u001b[0m \u001b[0;34m)\u001b[0m\u001b[0;34m\u001b[0m\u001b[0m\n\u001b[0m\u001b[1;32m     11\u001b[0m     \u001b[0mY\u001b[0m \u001b[0;34m=\u001b[0m \u001b[0mY\u001b[0m\u001b[0;34m[\u001b[0m\u001b[0;34m:\u001b[0m\u001b[0;34m,\u001b[0m \u001b[0;36m1\u001b[0m\u001b[0;34m:\u001b[0m\u001b[0;34m]\u001b[0m\u001b[0;34m\u001b[0m\u001b[0m\n\u001b[1;32m     12\u001b[0m     \u001b[0mY\u001b[0m\u001b[0;34m[\u001b[0m\u001b[0mY\u001b[0m \u001b[0;34m==\u001b[0m \u001b[0;36m99\u001b[0m\u001b[0;34m]\u001b[0m \u001b[0;34m=\u001b[0m \u001b[0;36m0\u001b[0m\u001b[0;34m\u001b[0m\u001b[0m\n",
      "\u001b[0;32m~/anaconda3/lib/python3.6/site-packages/numpy/lib/npyio.py\u001b[0m in \u001b[0;36mgenfromtxt\u001b[0;34m(fname, dtype, comments, delimiter, skip_header, skip_footer, converters, missing_values, filling_values, usecols, names, excludelist, deletechars, replace_space, autostrip, case_sensitive, defaultfmt, unpack, usemask, loose, invalid_raise, max_rows)\u001b[0m\n\u001b[1;32m   1549\u001b[0m                 \u001b[0mfhd\u001b[0m \u001b[0;34m=\u001b[0m \u001b[0miter\u001b[0m\u001b[0;34m(\u001b[0m\u001b[0mnp\u001b[0m\u001b[0;34m.\u001b[0m\u001b[0mlib\u001b[0m\u001b[0;34m.\u001b[0m\u001b[0m_datasource\u001b[0m\u001b[0;34m.\u001b[0m\u001b[0mopen\u001b[0m\u001b[0;34m(\u001b[0m\u001b[0mfname\u001b[0m\u001b[0;34m,\u001b[0m \u001b[0;34m'rbU'\u001b[0m\u001b[0;34m)\u001b[0m\u001b[0;34m)\u001b[0m\u001b[0;34m\u001b[0m\u001b[0m\n\u001b[1;32m   1550\u001b[0m             \u001b[0;32melse\u001b[0m\u001b[0;34m:\u001b[0m\u001b[0;34m\u001b[0m\u001b[0m\n\u001b[0;32m-> 1551\u001b[0;31m                 \u001b[0mfhd\u001b[0m \u001b[0;34m=\u001b[0m \u001b[0miter\u001b[0m\u001b[0;34m(\u001b[0m\u001b[0mnp\u001b[0m\u001b[0;34m.\u001b[0m\u001b[0mlib\u001b[0m\u001b[0;34m.\u001b[0m\u001b[0m_datasource\u001b[0m\u001b[0;34m.\u001b[0m\u001b[0mopen\u001b[0m\u001b[0;34m(\u001b[0m\u001b[0mfname\u001b[0m\u001b[0;34m,\u001b[0m \u001b[0;34m'rb'\u001b[0m\u001b[0;34m)\u001b[0m\u001b[0;34m)\u001b[0m\u001b[0;34m\u001b[0m\u001b[0m\n\u001b[0m\u001b[1;32m   1552\u001b[0m             \u001b[0mown_fhd\u001b[0m \u001b[0;34m=\u001b[0m \u001b[0;32mTrue\u001b[0m\u001b[0;34m\u001b[0m\u001b[0m\n\u001b[1;32m   1553\u001b[0m         \u001b[0;32melse\u001b[0m\u001b[0;34m:\u001b[0m\u001b[0;34m\u001b[0m\u001b[0m\n",
      "\u001b[0;32m~/anaconda3/lib/python3.6/site-packages/numpy/lib/_datasource.py\u001b[0m in \u001b[0;36mopen\u001b[0;34m(path, mode, destpath)\u001b[0m\n\u001b[1;32m    149\u001b[0m \u001b[0;34m\u001b[0m\u001b[0m\n\u001b[1;32m    150\u001b[0m     \u001b[0mds\u001b[0m \u001b[0;34m=\u001b[0m \u001b[0mDataSource\u001b[0m\u001b[0;34m(\u001b[0m\u001b[0mdestpath\u001b[0m\u001b[0;34m)\u001b[0m\u001b[0;34m\u001b[0m\u001b[0m\n\u001b[0;32m--> 151\u001b[0;31m     \u001b[0;32mreturn\u001b[0m \u001b[0mds\u001b[0m\u001b[0;34m.\u001b[0m\u001b[0mopen\u001b[0m\u001b[0;34m(\u001b[0m\u001b[0mpath\u001b[0m\u001b[0;34m,\u001b[0m \u001b[0mmode\u001b[0m\u001b[0;34m)\u001b[0m\u001b[0;34m\u001b[0m\u001b[0m\n\u001b[0m\u001b[1;32m    152\u001b[0m \u001b[0;34m\u001b[0m\u001b[0m\n\u001b[1;32m    153\u001b[0m \u001b[0;34m\u001b[0m\u001b[0m\n",
      "\u001b[0;32m~/anaconda3/lib/python3.6/site-packages/numpy/lib/_datasource.py\u001b[0m in \u001b[0;36mopen\u001b[0;34m(self, path, mode)\u001b[0m\n\u001b[1;32m    499\u001b[0m             \u001b[0;32mreturn\u001b[0m \u001b[0m_file_openers\u001b[0m\u001b[0;34m[\u001b[0m\u001b[0mext\u001b[0m\u001b[0;34m]\u001b[0m\u001b[0;34m(\u001b[0m\u001b[0mfound\u001b[0m\u001b[0;34m,\u001b[0m \u001b[0mmode\u001b[0m\u001b[0;34m=\u001b[0m\u001b[0mmode\u001b[0m\u001b[0;34m)\u001b[0m\u001b[0;34m\u001b[0m\u001b[0m\n\u001b[1;32m    500\u001b[0m         \u001b[0;32melse\u001b[0m\u001b[0;34m:\u001b[0m\u001b[0;34m\u001b[0m\u001b[0m\n\u001b[0;32m--> 501\u001b[0;31m             \u001b[0;32mraise\u001b[0m \u001b[0mIOError\u001b[0m\u001b[0;34m(\u001b[0m\u001b[0;34m\"%s not found.\"\u001b[0m \u001b[0;34m%\u001b[0m \u001b[0mpath\u001b[0m\u001b[0;34m)\u001b[0m\u001b[0;34m\u001b[0m\u001b[0m\n\u001b[0m\u001b[1;32m    502\u001b[0m \u001b[0;34m\u001b[0m\u001b[0m\n\u001b[1;32m    503\u001b[0m \u001b[0;34m\u001b[0m\u001b[0m\n",
      "\u001b[0;31mOSError\u001b[0m: jester-data.csv not found."
     ]
    }
   ],
   "source": [
    "# Naložimo podatkovno zbirko Jester z 1% upoštevanih ocen\n",
    "def load_jester(p=0.05):\n",
    "    \"\"\"\n",
    "    :param p: Probability of rating appearing in the training set.\n",
    "    :return\n",
    "        X training grades (retining with probability p)\n",
    "        Y test grades (whole dataset) \n",
    "    \"\"\"\n",
    "\n",
    "    Y = np.genfromtxt(\"jester-data.csv\", delimiter=\",\", dtype=float, )\n",
    "    Y = Y[:, 1:]\n",
    "    Y[Y == 99] = 0 \n",
    "    Y[Y != 0]  = Y[Y!=0] + abs(Y[Y!=0].min())\n",
    "\n",
    "    # Separate data in test/train with probability p\n",
    "    M = np.random.rand(*Y.shape) \n",
    "    M_tr = M < p\n",
    "    M_te = M > p\n",
    "    X = Y * M_tr\n",
    "    Y = Y * M_te\n",
    "\n",
    "    return X, Y\n",
    "\n",
    "# X: 1% podatkov, Y ostalih 99% \n",
    "X, Y = load_jester(p=0.5)\n",
    "\n",
    "X = X[:1000, :]\n",
    "Y = Y[:1000, :]\n",
    "print(\"X shape:\", X.shape)\n",
    "print(\"Y shape:\", Y.shape)\n",
    "\n",
    "print(\"X, Nonzeros:\", np.sum(X>0), \"Total:\", X.shape[0]*X.shape[1])\n",
    "print(\"Y, Nonzeros:\", np.sum(Y>0), \"Total:\", Y.shape[0]*Y.shape[1])"
   ]
  },
  {
   "cell_type": "code",
   "execution_count": 10,
   "metadata": {},
   "outputs": [
    {
     "name": "stdout",
     "output_type": "stream",
     "text": [
      "0 7416.85578301\n",
      "1 7416.85578301\n",
      "2 7416.85578301\n",
      "3 7416.85578301\n",
      "4 7416.85578301\n",
      "5 7416.85578301\n",
      "6 7416.85578301\n",
      "7 7416.85578301\n",
      "8 7416.85578301\n",
      "9 7416.85578301\n",
      "10 7416.85578301\n",
      "11 7416.85578301\n",
      "12 7416.85578301\n",
      "13 7416.85578301\n",
      "14 7416.85578301\n",
      "15 7416.85578301\n",
      "16 7416.85578301\n",
      "17 7416.85578301\n",
      "18 7416.85578301\n",
      "19 7416.85578301\n",
      "20 7416.85578301\n",
      "21 7416.85578301\n",
      "22 7416.85578301\n",
      "23 7416.85578301\n",
      "24 7416.85578301\n",
      "25 7416.85578301\n",
      "26 7416.85578301\n",
      "27 7416.85578301\n",
      "28 7416.85578301\n",
      "29 7416.85578301\n",
      "30 7416.85578301\n",
      "31 7416.85578301\n",
      "32 7416.85578301\n",
      "33 7416.85578301\n",
      "34 7416.85578301\n",
      "35 7416.85578301\n",
      "36 7416.85578301\n",
      "37 7416.85578301\n",
      "38 7416.85578301\n",
      "39 7416.85578301\n",
      "40 7416.85578301\n",
      "41 7416.85578301\n",
      "42 7416.85578301\n",
      "43 7416.85578301\n",
      "44 7416.85578301\n",
      "45 7416.85578301\n",
      "46 7416.85578301\n",
      "47 7416.85578301\n",
      "48 7416.85578301\n",
      "49 7416.85578301\n",
      "50 7416.85578301\n",
      "51 7416.85578301\n",
      "52 7416.85578301\n",
      "53 7416.85578301\n",
      "54 7416.85578301\n",
      "55 7416.85578301\n",
      "56 7416.85578301\n",
      "57 7416.85578301\n",
      "58 7416.85578301\n",
      "59 7416.85578301\n",
      "60 7416.85578301\n",
      "61 7416.85578301\n",
      "62 7416.85578301\n",
      "63 7416.85578301\n",
      "64 7416.85578301\n",
      "65 7416.85578301\n",
      "66 7416.85578301\n",
      "67 7416.85578301\n",
      "68 7416.85578301\n",
      "69 7416.85578301\n",
      "70 7416.85578301\n",
      "71 7416.85578301\n",
      "72 7416.85578301\n",
      "73 7416.85578301\n",
      "74 7416.85578301\n",
      "75 7416.85578301\n",
      "76 7416.85578301\n",
      "77 7416.85578301\n",
      "78 7416.85578301\n",
      "79 7416.85578301\n",
      "80 7416.85578301\n",
      "81 7416.85578301\n",
      "82 7416.85578301\n",
      "83 7416.85578301\n",
      "84 7416.85578301\n",
      "85 7416.85578301\n",
      "86 7416.85578301\n",
      "87 7416.85578301\n",
      "88 7416.85578301\n",
      "89 7416.85578301\n",
      "90 7416.85578301\n",
      "91 7416.85578301\n",
      "92 7416.85578301\n",
      "93 7416.85578301\n",
      "94 7416.85578301\n",
      "95 7416.85578301\n",
      "96 7416.85578301\n",
      "97 7416.85578301\n",
      "98 7416.85578301\n",
      "99 7416.85578301\n"
     ]
    }
   ],
   "source": [
    "model = NMF(rank=10, max_iter=100, eta=0.001)\n",
    "model.fit(X)\n",
    "Yp = model.predict_all()"
   ]
  },
  {
   "cell_type": "code",
   "execution_count": 11,
   "metadata": {},
   "outputs": [
    {
     "data": {
      "image/png": "[encoded data removed]",
      "text/plain": [
       "<matplotlib.figure.Figure at 0x112098a20>"
      ]
     },
     "metadata": {},
     "output_type": "display_data"
    }
   ],
   "source": [
    "plt.figure()\n",
    "plt.plot(model.error)\n",
    "plt.xlabel(\"Iteration\")\n",
    "plt.ylabel(\"J value\")\n",
    "plt.show()"
   ]
  },
  {
   "cell_type": "code",
   "execution_count": 12,
   "metadata": {},
   "outputs": [
    {
     "ename": "NameError",
     "evalue": "name 'Y' is not defined",
     "output_type": "error",
     "traceback": [
      "\u001b[0;31m---------------------------------------------------------------------------\u001b[0m",
      "\u001b[0;31mNameError\u001b[0m                                 Traceback (most recent call last)",
      "\u001b[0;32m<ipython-input-12-1822a20d64cf>\u001b[0m in \u001b[0;36m<module>\u001b[0;34m()\u001b[0m\n\u001b[1;32m      1\u001b[0m \u001b[0mfig\u001b[0m\u001b[0;34m,\u001b[0m \u001b[0max\u001b[0m \u001b[0;34m=\u001b[0m \u001b[0mplt\u001b[0m\u001b[0;34m.\u001b[0m\u001b[0msubplots\u001b[0m\u001b[0;34m(\u001b[0m\u001b[0mnrows\u001b[0m\u001b[0;34m=\u001b[0m\u001b[0;36m1\u001b[0m\u001b[0;34m,\u001b[0m \u001b[0mncols\u001b[0m\u001b[0;34m=\u001b[0m\u001b[0;36m2\u001b[0m\u001b[0;34m)\u001b[0m\u001b[0;34m\u001b[0m\u001b[0m\n\u001b[0;32m----> 2\u001b[0;31m \u001b[0max\u001b[0m\u001b[0;34m[\u001b[0m\u001b[0;36m0\u001b[0m\u001b[0;34m]\u001b[0m\u001b[0;34m.\u001b[0m\u001b[0mpcolor\u001b[0m\u001b[0;34m(\u001b[0m\u001b[0mY\u001b[0m\u001b[0;34m)\u001b[0m\u001b[0;34m\u001b[0m\u001b[0m\n\u001b[0m\u001b[1;32m      3\u001b[0m \u001b[0max\u001b[0m\u001b[0;34m[\u001b[0m\u001b[0;36m0\u001b[0m\u001b[0;34m]\u001b[0m\u001b[0;34m.\u001b[0m\u001b[0mset_title\u001b[0m\u001b[0;34m(\u001b[0m\u001b[0;34m\"Original\"\u001b[0m\u001b[0;34m)\u001b[0m\u001b[0;34m\u001b[0m\u001b[0m\n\u001b[1;32m      4\u001b[0m \u001b[0;34m\u001b[0m\u001b[0m\n\u001b[1;32m      5\u001b[0m \u001b[0max\u001b[0m\u001b[0;34m[\u001b[0m\u001b[0;36m1\u001b[0m\u001b[0;34m]\u001b[0m\u001b[0;34m.\u001b[0m\u001b[0mpcolor\u001b[0m\u001b[0;34m(\u001b[0m\u001b[0mYp\u001b[0m\u001b[0;34m)\u001b[0m\u001b[0;34m\u001b[0m\u001b[0m\n",
      "\u001b[0;31mNameError\u001b[0m: name 'Y' is not defined"
     ]
    },
    {
     "data": {
      "image/png": "[encoded data removed]",
      "text/plain": [
       "<matplotlib.figure.Figure at 0x1121127b8>"
      ]
     },
     "metadata": {},
     "output_type": "display_data"
    }
   ],
   "source": [
    "fig, ax = plt.subplots(nrows=1, ncols=2)\n",
    "ax[0].pcolor(Y)\n",
    "ax[0].set_title(\"Original\")\n",
    "\n",
    "ax[1].pcolor(Yp)\n",
    "ax[1].set_title(\"Model\")\n",
    "plt.show()"
   ]
  },
  {
   "cell_type": "code",
   "execution_count": 13,
   "metadata": {},
   "outputs": [
    {
     "ename": "NameError",
     "evalue": "name 'Y' is not defined",
     "output_type": "error",
     "traceback": [
      "\u001b[0;31m---------------------------------------------------------------------------\u001b[0m",
      "\u001b[0;31mNameError\u001b[0m                                 Traceback (most recent call last)",
      "\u001b[0;32m<ipython-input-13-60657760d3d4>\u001b[0m in \u001b[0;36m<module>\u001b[0;34m()\u001b[0m\n\u001b[0;32m----> 1\u001b[0;31m \u001b[0mexpl_var\u001b[0m \u001b[0;34m=\u001b[0m \u001b[0;34m(\u001b[0m\u001b[0mnp\u001b[0m\u001b[0;34m.\u001b[0m\u001b[0mvar\u001b[0m\u001b[0;34m(\u001b[0m\u001b[0mY\u001b[0m\u001b[0;34m[\u001b[0m\u001b[0mY\u001b[0m\u001b[0;34m>\u001b[0m\u001b[0;36m0\u001b[0m\u001b[0;34m]\u001b[0m\u001b[0;34m)\u001b[0m \u001b[0;34m-\u001b[0m \u001b[0mnp\u001b[0m\u001b[0;34m.\u001b[0m\u001b[0mvar\u001b[0m\u001b[0;34m(\u001b[0m\u001b[0mY\u001b[0m\u001b[0;34m[\u001b[0m\u001b[0mY\u001b[0m\u001b[0;34m>\u001b[0m\u001b[0;36m0\u001b[0m\u001b[0;34m]\u001b[0m \u001b[0;34m-\u001b[0m \u001b[0mYp\u001b[0m\u001b[0;34m[\u001b[0m\u001b[0mY\u001b[0m\u001b[0;34m>\u001b[0m\u001b[0;36m0\u001b[0m\u001b[0;34m]\u001b[0m\u001b[0;34m)\u001b[0m\u001b[0;34m)\u001b[0m \u001b[0;34m/\u001b[0m \u001b[0mnp\u001b[0m\u001b[0;34m.\u001b[0m\u001b[0mvar\u001b[0m\u001b[0;34m(\u001b[0m\u001b[0mY\u001b[0m\u001b[0;34m[\u001b[0m\u001b[0mY\u001b[0m\u001b[0;34m>\u001b[0m\u001b[0;36m0\u001b[0m\u001b[0;34m]\u001b[0m\u001b[0;34m)\u001b[0m\u001b[0;34m\u001b[0m\u001b[0m\n\u001b[0m\u001b[1;32m      2\u001b[0m \u001b[0mprint\u001b[0m\u001b[0;34m(\u001b[0m\u001b[0mexpl_var\u001b[0m\u001b[0;34m)\u001b[0m\u001b[0;34m\u001b[0m\u001b[0m\n",
      "\u001b[0;31mNameError\u001b[0m: name 'Y' is not defined"
     ]
    }
   ],
   "source": [
    "expl_var = (np.var(Y[Y>0]) - np.var(Y[Y>0] - Yp[Y>0])) / np.var(Y[Y>0])\n",
    "print(expl_var)"
   ]
  },
  {
   "cell_type": "code",
   "execution_count": 14,
   "metadata": {
    "collapsed": true
   },
   "outputs": [],
   "source": []
  }
 ],
 "metadata": {
  "kernelspec": {
   "display_name": "Python [default]",
   "language": "python",
   "name": "python3"
  },
  "language_info": {
   "codemirror_mode": {
    "name": "ipython",
    "version": 3
   },
   "file_extension": ".py",
   "mimetype": "text/x-python",
   "name": "python",
   "nbconvert_exporter": "python",
   "pygments_lexer": "ipython3",
   "version": "3.6.3"
  },
  "latex_envs": {
   "LaTeX_envs_menu_present": true,
   "autocomplete": true,
   "bibliofile": "biblio.bib",
   "cite_by": "apalike",
   "current_citInitial": 1,
   "eqLabelWithNumbers": true,
   "eqNumInitial": 1,
   "hotkeys": {
    "equation": "Ctrl-E",
    "itemize": "Ctrl-I"
   },
   "labels_anchors": false,
   "latex_user_defs": false,
   "report_style_numbering": false,
   "user_envs_cfg": false
  }
 },
 "nbformat": 4,
 "nbformat_minor": 1
}
