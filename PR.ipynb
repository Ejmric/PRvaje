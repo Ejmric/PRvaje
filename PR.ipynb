{
 "cells": [
  {
   "cell_type": "markdown",
   "metadata": {},
   "source": [
    "# Zbirka vaj in nalog za predmet Podatkovno rudarjenje <a class=\"tocSkip\">\n",
    "\n",
    "Martin Stražar<br>\n",
    "Tomaž Curk\n",
    "\n",
    "November 2017<br>\n",
    "UNIVERZA V LJUBLJANI<br>\n",
    "FAKULTETA ZA RAČUNALNIŠTVO IN INFORMATIKO<br>"
   ]
  },
  {
   "cell_type": "markdown",
   "metadata": {},
   "source": [
    "## Kazalo\n",
    "\n",
    "### [Delovno okolje](00-1_namestitev/namestitev.ipynb)\n",
    "\n",
    "\n",
    "### 1. [Priprava podatkov](01-1_podatki/numpy.ipynb)\n",
    "\n",
    "* [Knjižnice `numpy`](01-1_podatki/numpy.ipynb#Knjižnica-numpy)\n",
    "* [Primer: statistika temperatur na severu](01-1_podatki/temperature.ipynb)\n",
    "\n",
    "\n",
    "### 2. [Prikazovanje podatkov](02-1_vizualizacija/matplotlib.ipynb)\n",
    "\n",
    "* [Knjižnica matplotlib](02-1_vizualizacija/matplotlib.ipynb#Knjižnica-matplotlib)\n",
    "* [Primer: zimske olimpijske igre, Soči 2014](02-1_vizualizacija/atleti.ipynb)\n",
    "\n",
    "\n",
    "### 3. [Porazdelitve in osamelci](03-1_porazdelitve_osamelci/porazdelitve.ipynb)\n",
    "\n",
    "* [Pogoste verjetnostne porazdelitve](03-1_porazdelitve_osamelci/porazdelitve.ipynb#Pogoste-verjetnostne-porazdelitve)\n",
    "* [Primer: iskanje neslanih šal](03-1_porazdelitve_osamelci/Jester.ipynb)\n",
    "\n",
    "#### [Naloga 1](naloge/n1.ipynb)\n",
    "\n",
    "\n",
    "### 4. [Odkrivanje skupin](04-1_metoda_voditeljev/kmeans.ipynb)\n",
    "\n",
    "* [Metoda voditeljev](04-1_metoda_voditeljev/kmeans.ipynb#Metoda-voditeljev)\n",
    "* [Hierarhično gručenje](04-2_hierarhično_razvrščanje/hierarchical.ipynb)\n",
    "\n",
    "\n",
    "#### [Naloga 2](naloge/n2.ipynb)\n",
    "\n",
    "\n",
    "### 5. [Nadzorovano učenje](05-1_linearna_regresija/lin_reg.ipynb)\n",
    "\n",
    "* [Linearna regresija](05-1_linearna_regresija/lin_reg.ipynb#Linearna-regresija)\n",
    "* [Naivni Bayesov klasifikator](05-2_naivni_Bayesov_klasifikator/nb.ipynb)\n",
    "\n",
    "#### [Naloga 3](naloge/n3.ipynb)\n",
    "\n",
    "### 6. [Nenegativna matrična faktorizacija in zlivanje podatkov](06-1_matrična_faktorizacija/nmf.ipynb)\n",
    "\n",
    "\n",
    "#### [Naloga 4](naloge/n4.ipynb)\n",
    "\n",
    "### 7. [Omrežja](07-1_omrežja/networkx.ipynb)\n",
    "\n",
    "* [Knjižnica networkx](07-1_omrežja/networkx.ipynb#Knjižica-networkx)\n",
    "* [Primer: analiza in vizualizacija omrežja elektronskih sporočil](07-1_omrežja/email_network.ipynb)\n",
    "\n",
    "\n",
    "### 8. [Zaporedja](08-1_HMM/HMM.ipynb)\n",
    "* [Skriti Markovi modeli](08-1_HMM/HMM.ipynb#Skriti-Markovi-modeli)\n",
    "* [Časovne vrste](08-2_časovne_vrste/časovne.ipynb)\n",
    "* [Napovedovanje trendov](08-3_trendi/trendi.ipynb)\n",
    "\n",
    "\n",
    "#### [Dodatna naloga](naloge/nB.ipynb)\n",
    "\n",
    "\n",
    "### Literatura"
   ]
  },
  {
   "cell_type": "code",
   "execution_count": null,
   "metadata": {},
   "outputs": [],
   "source": []
  }
 ],
 "metadata": {
  "kernelspec": {
   "display_name": "Python [default]",
   "language": "python",
   "name": "python3"
  },
  "language_info": {
   "codemirror_mode": {
    "name": "ipython",
    "version": 3
   },
   "file_extension": ".py",
   "mimetype": "text/x-python",
   "name": "python",
   "nbconvert_exporter": "python",
   "pygments_lexer": "ipython3",
   "version": "3.6.3"
  },
  "latex_envs": {
   "LaTeX_envs_menu_present": true,
   "autocomplete": true,
   "bibliofile": "biblio.bib",
   "cite_by": "apalike",
   "current_citInitial": 1,
   "eqLabelWithNumbers": true,
   "eqNumInitial": 1,
   "hotkeys": {
    "equation": "Ctrl-E",
    "itemize": "Ctrl-I"
   },
   "labels_anchors": false,
   "latex_user_defs": false,
   "report_style_numbering": false,
   "user_envs_cfg": false
  },
  "toc": {
   "nav_menu": {},
   "number_sections": false,
   "sideBar": true,
   "skip_h1_title": false,
   "toc_cell": false,
   "toc_position": {
    "height": "1143px",
    "left": "0px",
    "right": "1196px",
    "top": "158px",
    "width": "212px"
   },
   "toc_section_display": "block",
   "toc_window_display": false
  }
 },
 "nbformat": 4,
 "nbformat_minor": 2
}
