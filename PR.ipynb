{
 "cells": [
  {
   "cell_type": "markdown",
   "metadata": {},
   "source": [
    "# Zbirka vaj in nalog za predmet Podatkovno rudarjenje <a class=\"tocSkip\">\n",
    "\n",
    "Martin Stražar<br>\n",
    "Tomaž Curk\n",
    "\n",
    "November 2017<br>\n",
    "UNIVERZA V LJUBLJANI<br>\n",
    "FAKULTETA ZA RAČUNALNIŠTVO IN INFORMATIKO<br>"
   ]
  },
  {
   "cell_type": "markdown",
   "metadata": {},
   "source": [
    "## Kazalo\n",
    "\n",
    "### 1. [Namestitev delovnega okolja](01-1_namestitev/namestitev.ipynb)\n",
    "\n",
    "\n",
    "### 2. Priprava in delo s podatki\n",
    "\n",
    "* [Uporaba knjižnice numpy](02-1_priprava/numpy.ipynb)\n",
    "* [Uvodni primer: statistika temperatur na severu](02-1_priprava/uvodni.ipynb)\n",
    "\n",
    "\n",
    "### 3. Osnovne vizualizacije\n",
    "\n",
    "* [Uporaba knjižnice matplotlib](03-1_vizualizacija/matplotlib.ipynb)\n",
    "* [Zimske olimpijske igre](03-1_vizualizacija/atleti.ipynb)\n",
    "\n",
    "\n",
    "### 4. Porazdelitve in osamelci\n",
    "\n",
    "* [Pogoste verjetnostne porazdelitve](04-1_porazdelitve_osamelci/porazdelitve.ipynb)\n",
    "* [Neslane šale](04-1_porazdelitve_osamelci/Jester.ipynb)\n",
    "\n",
    "#### [Naloga 1](naloge/n1.ipynb)\n",
    "\n",
    "### 5. Odkrivanje skupin\n",
    "\n",
    "* [Metoda voditeljev](05-1_metoda_voditeljev/kmeans.ipynb)\n",
    "* [Hierarhično razvrščanje](05-2_hierarhično_razvrščanje/hierarchical.ipynb)\n",
    "\n",
    "\n",
    "#### [Naloga 2](naloge/n2.ipynb)\n",
    "\n",
    "\n",
    "### 6. Nadzorovano modeliranje\n",
    "\n",
    "* [Linearna regresija](06-1_linearna_regresija/lin_reg.ipynb)\n",
    "* [Naivni Bayesov klasifikator](06-2_naivni_Bayesov_klasifikator/nb.ipynb)\n",
    "\n",
    "#### [Naloga 3](naloge/n3.ipynb)\n",
    "\n",
    "### 7. [Nenegativna matrična faktorizacija in zlivanje podatkov](07-1_matrična_faktorizacija/nmf.ipynb)\n",
    "\n",
    "\n",
    "#### [Naloga 4](naloge/n4.ipynb)\n",
    "\n",
    "### 8. [Omrežja]\n",
    "\n",
    "* [Uporaba knjižnice networkx](08-1_omrežja/networkx.ipynb)\n",
    "* [Osnove analize in vizualizacije omrežij na primeru mreže sporočil](08-1_omrežja/email_network.ipynb)\n",
    "\n",
    "\n",
    "### 7. Splošne in časovne vrste\n",
    "* [Skrite Markovi modeli](11-1_HMM/HMM.ipynb)\n",
    "* [Časovne vrste](11-2_časovne_vrste/časovne.ipynb)\n",
    "\n",
    "\n",
    "### 9. Izdelava priporočilnega sistema\n",
    "\n",
    "#### [Dodatna naloga](naloge/nB.ipynb)\n",
    "\n",
    "### Literatura"
   ]
  },
  {
   "cell_type": "code",
   "execution_count": null,
   "metadata": {},
   "outputs": [],
   "source": []
  }
 ],
 "metadata": {
  "kernelspec": {
   "display_name": "Python [default]",
   "language": "python",
   "name": "python3"
  },
  "language_info": {
   "codemirror_mode": {
    "name": "ipython",
    "version": 3
   },
   "file_extension": ".py",
   "mimetype": "text/x-python",
   "name": "python",
   "nbconvert_exporter": "python",
   "pygments_lexer": "ipython3",
   "version": "3.6.3"
  },
  "latex_envs": {
   "LaTeX_envs_menu_present": true,
   "autocomplete": true,
   "bibliofile": "biblio.bib",
   "cite_by": "apalike",
   "current_citInitial": 1,
   "eqLabelWithNumbers": true,
   "eqNumInitial": 1,
   "hotkeys": {
    "equation": "Ctrl-E",
    "itemize": "Ctrl-I"
   },
   "labels_anchors": false,
   "latex_user_defs": false,
   "report_style_numbering": false,
   "user_envs_cfg": false
  },
  "toc": {
   "nav_menu": {},
   "number_sections": false,
   "sideBar": true,
   "skip_h1_title": false,
   "toc_cell": false,
   "toc_position": {
    "height": "1143px",
    "left": "0px",
    "right": "1196px",
    "top": "158px",
    "width": "212px"
   },
   "toc_section_display": "block",
   "toc_window_display": false
  }
 },
 "nbformat": 4,
 "nbformat_minor": 2
}
