{
 "cells": [
  {
   "cell_type": "markdown",
   "metadata": {},
   "source": [
    "# Naloga 5: Implementacija priporočilnega sistema\n",
    "\n",
    "Zaključeno celoto predmeta bo predstavljala uporabna aplikacija, ki združuje pridobljeno znanje. Aplikacija naj bo implementirana s poljubno tehnologijo in omogočala prijavo novega uporabnika, ocenjevanje filmov ter priporočanje še ne ocenjenih filmov."
   ]
  },
  {
   "cell_type": "markdown",
   "metadata": {},
   "source": [
    "## Podatki\n",
    "\n",
    "Opis podatkovne zbirke MovieLens 1995-2016 ostaja enak prvi nalogi."
   ]
  },
  {
   "cell_type": "markdown",
   "metadata": {},
   "source": [
    "## Vprašanja\n",
    "\n",
    "\\begin{enumerate}\n",
    "    \\item (100 \\%) Implementirajte prototip aplikacije priporočilnega sistema. Pri tem lahko uporabite poljubne metode podatkovnega rudarjenja, ki ste jih spoznali pri predmetu in drugje. Povsod, kjer implementacija funkcijskih zahteve ni natančno določena, sami sprejmite odločitve, potrebne za implementacijo. \n",
    "    \n",
    "Aplikacija naj omogoča naslednje funkcionalnosti:\n",
    "\\begin{itemize}\n",
    "\\item Uporabniški vmesnik. Po lastni izbiri načrtujte preprost\n",
    "uporabniški vmesnik. Vmesnik je lahko ukazna vrstica, grafični vmesnik ali\n",
    "spletni vmesnik. Sistem naj bo možno enostavno zagnati oz. naj bo dostopen za\n",
    "uporabo. Vmesnik omogoča komunikacijo med uporabnikom in priporočilnim\n",
    "sistemom.\n",
    "\n",
    "\\item Prijava novega uporabnika. Sistem naj omogoča dodajanje novih\n",
    "uporabnikov in vnos ocen preko uporabniškega vmesnika. Uporabnike lahko\n",
    "identificirate npr. z uporabniškimi imeni, številkami, ipd. Vnesene ocene se ob\n",
    "izhodu iz sistema shranijo in so upoštevane pri ponovnem zagonu. Uporabnik\n",
    "filme, ki so v podatkih, oceni z ocenami med 1 (nezadostno) in 5 (odlično).\n",
    "\n",
    "\\item Na zahtevo uporabnika generirajte spisek petih uporabniku najbolj\n",
    "ustreznih filmov, ki jih uporabnik še ni ocenil. Metoda za priporočanje filmov\n",
    "je lahko izbrana iz množice metod, ki smo jih spoznali v okviru predmeta\n",
    "(metode nadzorovanega modeliranja, matrična faktorizacija, ...) ali drugih. V\n",
    "poročilu opišite, katero metodo uporabljate. \n",
    "\n",
    "\\end{itemize}\n",
    "    \n",
    "\\item (Bonus 20 \\%) V aplikacijo dodajte različne vizualizacije trenutnih\n",
    "podatkov, ki jih je mogoče zagnati iz uporabniškega vmesnika. To lahko\n",
    "vključuje gruče uporabnikov, trende različnih žanrov skozi čas, porazdelitve\n",
    "(povprečnih ocen), trenutno najpopularnejše filme, ipd.  \\end{enumerate}\n",
    "\n",
    "\n",
    "\\noindent V poročilu opišite primere za uporabo vaše aplikacije - slike zaslona\n",
    "s spremnim besedilom oz. ukaze in rezultate, če je vmesnik ukazna vrstica. Pri\n",
    "tem prikažite najmanj en primer za vsako funkcionalnost, ki ste jo\n",
    "implementirali."
   ]
  },
  {
   "cell_type": "markdown",
   "metadata": {},
   "source": [
    "## Rezultati\n",
    "\n",
    "Delovanje aplikacije na kratko predstavite v poročilu.\n",
    "\n",
    "\\vspace{5mm}\n",
    "Rezultati naloge so:\n",
    "\n",
    "\\begin{itemize}\n",
    "   \\item poročilo, ki ga sestavljajo kratka navodila za uporabo aplikacije. Oddajte datoteko \\texttt{.tex} in \\texttt{.pdf} poročila.\n",
    "   \\item izvorna koda programov (datoteke .ipynb, .py, ...),\n",
    "\\end{itemize}"
   ]
  },
  {
   "cell_type": "code",
   "execution_count": 1,
   "metadata": {},
   "outputs": [],
   "source": []
  }
 ],
 "metadata": {
  "kernelspec": {
   "display_name": "Python [default]",
   "language": "python",
   "name": "python3"
  },
  "language_info": {
   "codemirror_mode": {
    "name": "ipython",
    "version": 3
   },
   "file_extension": ".py",
   "mimetype": "text/x-python",
   "name": "python",
   "nbconvert_exporter": "python",
   "pygments_lexer": "ipython3",
   "version": "3.6.3"
  },
  "latex_envs": {
   "LaTeX_envs_menu_present": true,
   "autocomplete": true,
   "bibliofile": "biblio.bib",
   "cite_by": "apalike",
   "current_citInitial": 1,
   "eqLabelWithNumbers": true,
   "eqNumInitial": 1,
   "hotkeys": {
    "equation": "Ctrl-E",
    "itemize": "Ctrl-I"
   },
   "labels_anchors": false,
   "latex_user_defs": false,
   "report_style_numbering": false,
   "user_envs_cfg": false
  }
 },
 "nbformat": 4,
 "nbformat_minor": 2
}
