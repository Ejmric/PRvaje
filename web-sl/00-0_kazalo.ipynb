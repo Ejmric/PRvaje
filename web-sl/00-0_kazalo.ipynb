{
 "cells": [
  {
   "cell_type": "markdown",
   "metadata": {},
   "source": [
    "# Zbirka vaj in nalog za predmet Podatkovno rudarjenje\n",
    "\n",
    "Martin Stražar<br/>\n",
    "Tomaž Curk\n",
    "\n",
    "December 2017<br/>\n",
    "Univerza v Ljubljani<br/>\n",
    "Fakulteta za računalništvo in informatiko<br/>"
   ]
  },
  {
   "cell_type": "markdown",
   "metadata": {},
   "source": [
    "# Kazalo\n",
    "\n",
    "## [Delovno okolje](00-1_namestitev.ipynb)\n",
    "\n",
    "\n",
    "## 1. [Priprava podatkov](01-1_podatki_numpy.ipynb)\n",
    "\n",
    "* [Knjižnica `numpy`](01-1_podatki_numpy.ipynb#Knjižnica-numpy)\n",
    "* [Primer: statistika temperatur na severu](01-2_podatki_temperatura.ipynb)\n",
    "\n",
    "\n",
    "## 2. [Prikazovanje podatkov](02-1_prikaz_matplotlib.ipynb)\n",
    "\n",
    "* [Knjižnica matplotlib](02-1_prikaz_matplotlib.ipynb#Knjižnica-matplotlib)\n",
    "* [Primer: zimske olimpijske igre, Soči 2014](02-2_prikaz_olimpijske.ipynb)\n",
    "\n",
    "\n",
    "## 3. [Porazdelitve in osamelci](03-1_porazdelitve.ipynb)\n",
    "\n",
    "* [Pogoste verjetnostne porazdelitve](03-1_porazdelitve.ipynb#Pogoste-verjetnostne-porazdelitve)\n",
    "* [Primer: iskanje neslanih šal](03-2_osamelci.ipynb)\n",
    "\n",
    "### [Naloga 1: Priprava in pregled podatkov](naloge/n1_priprava_pregled.ipynb)\n",
    "\n",
    "\n",
    "## 4. [Odkrivanje skupin](04-1_gručenje_voditelji.ipynb)\n",
    "\n",
    "* [Metoda voditeljev](04-1_gručenje_voditelji.ipynb#Metoda-voditeljev)\n",
    "* [Hierarhično gručenje](04-2_gručenje_hierarhično.ipynb)\n",
    "* [Primer: genomski podatki v obliki nizov znakov](04-3_gručenje_genomski.ipynb)\n",
    "\n",
    "### [Naloga 2: Iskanje strukture v podatkih](naloge/n2_struktura_podatkov.ipynb)\n",
    "\n",
    "\n",
    "## 5. [Nadzorovano učenje](05-1_nadzorovano_linreg.ipynb)\n",
    "\n",
    "* [Linearna regresija](05-1_nadzorovano_linreg.ipynb#Linearna-regresija)\n",
    "* [Naivni Bayesov klasifikator](05-2_nadzorovano_naivniBayes.ipynb)\n",
    "\n",
    "\n",
    "### [Naloga 3: Napovedovanje vrednosti](naloge/n3_nadzorovano_učenje.ipynb)\n",
    "\n",
    "\n",
    "## 6. [Nenegativna matrična faktorizacija in zlivanje podatkov](06-1_NMF.ipynb)\n",
    "\n",
    "### [Naloga 4: Uporaba matrične faktorizacije za napovedovanje](naloge/n4_matrična_faktorizacija.ipynb)\n",
    "\n",
    "\n",
    "## 7. [Omrežja](07-1_omrežja_networkx.ipynb)\n",
    "\n",
    "* [Knjižnica networkx](07-1_omrežja_networkx.ipynb#Knjižica-networkx)\n",
    "* [Primer: analiza in prikaz omrežja elektronskih sporočil](07-2_omrežja_email.ipynb)\n",
    "\n",
    "\n",
    "## 8. [Zaporedja](08-1_zaporedja_HMM.ipynb)\n",
    "* [Skriti Markovi modeli](08-1_zaporedja_HMM.ipynb#Skriti-Markovi-modeli)\n",
    "* [Časovne vrste](08-2_zaporedja_časovne.ipynb)\n",
    "* [Napovedovanje trendov](08-3_zaporedja_trendi.ipynb)\n",
    "\n",
    "\n",
    "### [Naloga 5: Implementacija priporočilnega sistema](naloge/n5_aplikacija.ipynb)\n",
    "\n",
    "\n",
    "## [Literatura](09-1_literatura.ipynb)\n"
   ]
  },
  {
   "cell_type": "code",
   "execution_count": 1,
   "metadata": {},
   "outputs": [],
   "source": []
  }
 ],
 "metadata": {
  "kernelspec": {
   "display_name": "Python [default]",
   "language": "python",
   "name": "python3"
  },
  "language_info": {
   "codemirror_mode": {
    "name": "ipython",
    "version": 3
   },
   "file_extension": ".py",
   "mimetype": "text/x-python",
   "name": "python",
   "nbconvert_exporter": "python",
   "pygments_lexer": "ipython3",
   "version": "3.6.3"
  },
  "latex_envs": {
   "LaTeX_envs_menu_present": true,
   "autocomplete": true,
   "bibliofile": "biblio.bib",
   "cite_by": "apalike",
   "current_citInitial": 1,
   "eqLabelWithNumbers": true,
   "eqNumInitial": 1,
   "hotkeys": {
    "equation": "Ctrl-E",
    "itemize": "Ctrl-I"
   },
   "labels_anchors": false,
   "latex_user_defs": false,
   "report_style_numbering": false,
   "user_envs_cfg": false
  },
  "nbTranslate": {
   "displayLangs": [
    "sl"
   ],
   "hotkey": "alt-t",
   "langInMainMenu": true,
   "sourceLang": "en",
   "targetLang": "fr",
   "useGoogleTranslate": true
  },
  "toc": {
   "nav_menu": {},
   "number_sections": false,
   "sideBar": true,
   "skip_h1_title": false,
   "toc_cell": false,
   "toc_position": {
    "height": "1143px",
    "left": "0px",
    "right": "1196px",
    "top": "158px",
    "width": "212px"
   },
   "toc_section_display": "block",
   "toc_window_display": false
  }
 },
 "nbformat": 4,
 "nbformat_minor": 2
}
