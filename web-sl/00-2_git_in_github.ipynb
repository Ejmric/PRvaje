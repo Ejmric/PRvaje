{
 "cells": [
  {
   "cell_type": "markdown",
   "metadata": {},
   "source": [
    "# Git in GitHub"
   ]
  },
  {
   "cell_type": "markdown",
   "metadata": {},
   "source": [
    "Git je sistem za upravljanje z različicami (Version Control System - VCS). Uporablja se ga tako za sodelovanje med razvijalci, kot za nadzor nad lastnim delom. Git upravlja z datotekami v repozitoriju - mapa, kjer se hrani zgodovina sprememb.\n",
    "\n",
    "GitHub je spletna paltforma za gostovanje Git repozitorijev in omogoča sodelovanje več ljudi na istem projektu.\n",
    "\n",
    "Več o osnovah Gita GitHuba si lahko preberete na https://guides.github.com/"
   ]
  },
  {
   "cell_type": "markdown",
   "metadata": {},
   "source": [
    "## Nekaj osnovnih ukazov"
   ]
  },
  {
   "cell_type": "markdown",
   "metadata": {},
   "source": [
    "* `git init`: inicializira nov repozitorij v izbrani mapi\n",
    "* `git clone`: na disk skopiramo vsebino oddaljenega repozitorija\n",
    "* `git add`: ukaz, s katerim povemo, katere spremenjene datoteke želimo shraniti\n",
    "    * `git add .` doda vse datoteke\n",
    "    * `git add datoteka.ipynb` doda določeno datoteko\n",
    "* `git commit -m \"sporočilo\"`: ukaz, s katerim shranimo izbrane datoteteke\n",
    "* `git status`: ukaz, ki nam pokaže, katere datoteke so bile spremenjene in katere spremenjene datoteke bomo shranili\n",
    "* `git pull`: osvežimo lokalni repozitorij s spremembani na oddaljenem repozitoriju\n",
    "* `git push`: pošljemo svoje spremembe na oddaljen repozitorij\n",
    "* `git branch`: pokaže lokalne veje, jih ustvari, ali zamenja aktivno vejo\n",
    "* `git merge`: združevanje dveh vej\n",
    "\n",
    "Ukaze lahko uporabimo tudi s parametri. Celoten seznam ukazov in parametrov je dosegljiv na https://git-scm.com/docs "
   ]
  },
  {
   "cell_type": "markdown",
   "metadata": {},
   "source": [
    "## Namestitev"
   ]
  },
  {
   "cell_type": "markdown",
   "metadata": {},
   "source": [
    "Ob namestitvi Gita na Windows izberite opcijo **Enable symbolic links**."
   ]
  }
 ],
 "metadata": {
  "kernelspec": {
   "display_name": "Python 3",
   "language": "python",
   "name": "python3"
  },
  "language_info": {
   "codemirror_mode": {
    "name": "ipython",
    "version": 3
   },
   "file_extension": ".py",
   "mimetype": "text/x-python",
   "name": "python",
   "nbconvert_exporter": "python",
   "pygments_lexer": "ipython3",
   "version": "3.6.3"
  },
  "nbTranslate": {
   "displayLangs": [
    "en",
    "sl"
   ],
   "hotkey": "alt-t",
   "langInMainMenu": true,
   "sourceLang": "sl",
   "targetLang": "en",
   "useGoogleTranslate": true
  }
 },
 "nbformat": 4,
 "nbformat_minor": 2
}
