{
 "cells": [
  {
   "cell_type": "markdown",
   "metadata": {
    "lang": "sl"
   },
   "source": [
    "# Naloga 4: Implementacija priporočilnega sistema\n",
    "\n",
    "Zaključeno celoto predmeta bo predstavljala uporabna aplikacija, ki združuje pridobljeno znanje. Aplikacija naj bo implementirana s poljubno tehnologijo in omogočala prijavo novega uporabnika, ocenjevanje filmov ter priporočanje še ne ocenjenih filmov."
   ]
  },
  {
   "cell_type": "markdown",
   "metadata": {
    "lang": "sl"
   },
   "source": [
    "## Podatki\n",
    "\n",
    "Opis podatkovne zbirke MovieLens 1995-2016 ostaja enak prvi nalogi."
   ]
  },
  {
   "cell_type": "markdown",
   "metadata": {
    "lang": "sl"
   },
   "source": [
    "## Vprašanja\n",
    "\n",
    "1. (100%) Implementirajte prototip aplikacije priporočilnega sistema. Pri tem lahko uporabite poljubne metode podatkovnega rudarjenja, ki ste jih spoznali pri predmetu in drugje. Povsod, kjer implementacija funkcijskih zahteve ni natančno določena, sami sprejmite odločitve, potrebne za implementacijo. \n",
    "    \n",
    "    Aplikacija naj omogoča naslednje funkcionalnosti:\n",
    "\n",
    "   * Uporabniški vmesnik. Po lastni izbiri načrtujte preprost uporabniški vmesnik. Vmesnik je lahko ukazna vrstica, grafični vmesnik ali spletni vmesnik. Sistem naj bo možno enostavno zagnati oz. naj bo dostopen za uporabo. Vmesnik omogoča komunikacijo med uporabnikom in priporočilnim sistemom.\n",
    "\n",
    "   * Prijava novega uporabnika. Sistem naj omogoča dodajanje novih uporabnikov in vnos ocen preko uporabniškega vmesnika. Uporabnike lahko identificirate npr. z uporabniškimi imeni, številkami, ipd. Vnesene ocene se ob izhodu iz sistema shranijo in so upoštevane pri ponovnem zagonu. Uporabnik filme, ki so v podatkih, oceni z ocenami med 1 (nezadostno) in 5 (odlično).\n",
    "\n",
    "   * Na zahtevo uporabnika generirajte spisek petih uporabniku najbolj ustreznih filmov, ki jih uporabnik še ni ocenil. Metoda za priporočanje filmov je lahko izbrana iz množice metod, ki smo jih spoznali v okviru predmeta (metode nadzorovanega modeliranja, matrična faktorizacija, ...) ali drugih. V poročilu opišite, katero metodo uporabljate. \n",
    "\n",
    "2. (Bonus 20%) V aplikacijo dodajte različne vizualizacije trenutnih podatkov, ki jih je mogoče zagnati iz uporabniškega vmesnika. To lahko vključuje gruče uporabnikov, trende različnih žanrov skozi čas, porazdelitve (povprečnih ocen), trenutno najpopularnejše filme, ipd.\n",
    "\n",
    "\n",
    "V poročilu opišite primere za uporabo vaše aplikacije - slike zaslona s spremnim besedilom oz. ukaze in rezultate, če je vmesnik ukazna vrstica. Pri tem prikažite najmanj en primer za vsako funkcionalnost, ki ste jo implementirali."
   ]
  },
  {
   "cell_type": "markdown",
   "metadata": {
    "lang": "sl"
   },
   "source": [
    "## Rezultati\n",
    "\n",
    "Delovanje aplikacije na kratko predstavite v poročilu.\n",
    "\n",
    "Rezultati naloge so:\n",
    "* poročilo, ki ga sestavljajo kratka navodila za uporabo aplikacije. Oddajte datoteko `.tex` in `.pdf` poročila,\n",
    "* izvorna koda programov (datoteke .ipynb, .py, ...)."
   ]
  },
  {
   "cell_type": "code",
   "execution_count": 1,
   "metadata": {
    "collapsed": true
   },
   "outputs": [],
   "source": []
  }
 ],
 "metadata": {
  "kernelspec": {
   "display_name": "Python 3",
   "language": "python",
   "name": "python3"
  },
  "language_info": {
   "codemirror_mode": {
    "name": "ipython",
    "version": 3
   },
   "file_extension": ".py",
   "mimetype": "text/x-python",
   "name": "python",
   "nbconvert_exporter": "python",
   "pygments_lexer": "ipython3",
   "version": "3.6.3"
  },
  "latex_envs": {
   "LaTeX_envs_menu_present": true,
   "autocomplete": true,
   "bibliofile": "biblio.bib",
   "cite_by": "apalike",
   "current_citInitial": 1,
   "eqLabelWithNumbers": true,
   "eqNumInitial": 1,
   "hotkeys": {
    "equation": "Ctrl-E",
    "itemize": "Ctrl-I"
   },
   "labels_anchors": false,
   "latex_user_defs": false,
   "report_style_numbering": false,
   "user_envs_cfg": false
  },
  "nbTranslate": {
   "displayLangs": [
    "sl"
   ],
   "hotkey": "alt-t",
   "langInMainMenu": true,
   "sourceLang": "sl",
   "targetLang": "en",
   "useGoogleTranslate": true
  }
 },
 "nbformat": 4,
 "nbformat_minor": 2
}
