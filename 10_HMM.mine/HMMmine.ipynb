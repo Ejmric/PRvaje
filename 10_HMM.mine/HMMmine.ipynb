{
 "cells": [
  {
   "cell_type": "markdown",
   "metadata": {},
   "source": [
    "# Skriti Markovi modeli"
   ]
  },
  {
   "cell_type": "markdown",
   "metadata": {
    "collapsed": true
   },
   "source": [
    "Model zapišemo s slovarjem slovarjev. Na primer, za metanje kovancev:"
   ]
  },
  {
   "cell_type": "markdown",
   "metadata": {},
   "source": [
    "![Loaded coin model.](figs/07-loaded-coin.jpg)"
   ]
  },
  {
   "cell_type": "code",
   "execution_count": 1,
   "metadata": {
    "collapsed": true
   },
   "outputs": [],
   "source": [
    "T = {\"F\": {\"F\": 0.95, \"L\": 0.05},\n",
    "     \"L\": {\"F\": 0.05, \"L\": 0.95}}\n",
    "E = {\"F\": {\"o\": 0.5, \"-\": 0.5},\n",
    "     \"L\": {\"o\": 0.7, \"-\": 0.3}}\n",
    "start = \"F\""
   ]
  },
  {
   "cell_type": "markdown",
   "metadata": {},
   "source": [
    "## Generiranje zaporedij"
   ]
  },
  {
   "cell_type": "markdown",
   "metadata": {},
   "source": [
    "<font color=\"green\"><b>Naredi sam/a.</b></font> Zapiši funkcijo generate_hmm_sequence, ki sprejme skriti Markov model in vrne zaporedje dolžine n (skrito in vidno zaporedje).\n",
    "\n",
    "Še prej zapišite funkcijo weighted_choice, ki na podlagi uteži (v vrednosti) naključno izbere vrednost (v ključu slovarja)."
   ]
  },
  {
   "cell_type": "code",
   "execution_count": 2,
   "metadata": {
    "collapsed": true
   },
   "outputs": [],
   "source": [
    "import random\n",
    "random.seed(42)\n",
    "\n",
    "def weighted_choice(weighted_items):\n",
    "    \"\"\"Random choice given the list of elements and their weights\"\"\"\n",
    "    rnd = random.random() * sum(weighted_items.values())\n",
    "    for i, w in weighted_items.items():\n",
    "        rnd -= w\n",
    "        if rnd < 0:\n",
    "            return i"
   ]
  },
  {
   "cell_type": "markdown",
   "metadata": {},
   "source": [
    "Zdaj pa funkcijo generate_hmm_sequence:"
   ]
  },
  {
   "cell_type": "code",
   "execution_count": 3,
   "metadata": {
    "collapsed": true
   },
   "outputs": [],
   "source": [
    "def generate_hmm_sequence(h, T, E, n):\n",
    "    \"\"\"\n",
    "    HMM sequence given start state,\n",
    "    transition, emission matrix and sequence length\n",
    "    \n",
    "    return zip(hidden_path, visible_sequence)\n",
    "    \"\"\"\n",
    "\n",
    "    s = weighted_choice(E[h])\n",
    "    yield h, s\n",
    "    for _ in range(n-1):\n",
    "        h = weighted_choice(T[h])\n",
    "        yield h, weighted_choice(E[h])"
   ]
  },
  {
   "cell_type": "markdown",
   "metadata": {},
   "source": [
    "Generiraj nekaj zaporedij različnih dolžin."
   ]
  },
  {
   "cell_type": "code",
   "execution_count": 4,
   "metadata": {
    "collapsed": false
   },
   "outputs": [
    {
     "data": {
      "text/plain": [
       "[('F', '-'), ('F', 'o'), ('F', '-'), ('F', '-'), ('F', 'o')]"
      ]
     },
     "execution_count": 4,
     "metadata": {},
     "output_type": "execute_result"
    }
   ],
   "source": [
    "list(generate_hmm_sequence('F', T, E, 5))"
   ]
  },
  {
   "cell_type": "code",
   "execution_count": 5,
   "metadata": {
    "collapsed": false
   },
   "outputs": [
    {
     "data": {
      "text/plain": [
       "[('F', 'o'),\n",
       " ('F', '-'),\n",
       " ('F', 'o'),\n",
       " ('F', '-'),\n",
       " ('F', '-'),\n",
       " ('F', 'o'),\n",
       " ('F', '-'),\n",
       " ('F', 'o'),\n",
       " ('L', 'o'),\n",
       " ('L', 'o'),\n",
       " ('L', 'o'),\n",
       " ('L', '-'),\n",
       " ('L', '-'),\n",
       " ('L', 'o'),\n",
       " ('L', 'o'),\n",
       " ('L', 'o'),\n",
       " ('L', 'o'),\n",
       " ('L', 'o'),\n",
       " ('L', 'o'),\n",
       " ('L', 'o')]"
      ]
     },
     "execution_count": 5,
     "metadata": {},
     "output_type": "execute_result"
    }
   ],
   "source": [
    "list(generate_hmm_sequence('F', T, E, 20))"
   ]
  },
  {
   "cell_type": "markdown",
   "metadata": {},
   "source": [
    "Model poskusite uporabiti tudi na primeru goljufivega kazinoja:"
   ]
  },
  {
   "cell_type": "markdown",
   "metadata": {},
   "source": [
    "![Loaded dice model.](figs/07-loaded-dice.jpg)"
   ]
  },
  {
   "cell_type": "code",
   "execution_count": 6,
   "metadata": {
    "collapsed": true
   },
   "outputs": [],
   "source": [
    "A = A = [\"1\", \"2\", \"3\", \"4\", \"5\", \"6\"]\n",
    "E = {\"F\": {a: 1/6. for a in A},\n",
    "     \"L\": {a: 1/10 if a != \"6\" else 0.5 for a in A}}\n",
    "T = {\"F\": {\"F\": 0.95, \"L\": 0.05},\n",
    "     \"L\": {\"F\": 0.1, \"L\": 0.9}}\n",
    "start = \"F\""
   ]
  },
  {
   "cell_type": "code",
   "execution_count": 7,
   "metadata": {
    "collapsed": false
   },
   "outputs": [
    {
     "data": {
      "text/plain": [
       "[('F', '4'), ('F', '3'), ('F', '2'), ('F', '4'), ('F', '2')]"
      ]
     },
     "execution_count": 7,
     "metadata": {},
     "output_type": "execute_result"
    }
   ],
   "source": [
    "list(generate_hmm_sequence('F', T, E, 5))"
   ]
  },
  {
   "cell_type": "code",
   "execution_count": 8,
   "metadata": {
    "collapsed": false
   },
   "outputs": [
    {
     "data": {
      "text/plain": [
       "[('F', '5'),\n",
       " ('F', '3'),\n",
       " ('L', '6'),\n",
       " ('L', '6'),\n",
       " ('L', '6'),\n",
       " ('L', '1'),\n",
       " ('L', '3'),\n",
       " ('L', '6'),\n",
       " ('L', '4'),\n",
       " ('L', '4'),\n",
       " ('L', '5'),\n",
       " ('L', '3'),\n",
       " ('L', '3'),\n",
       " ('L', '6'),\n",
       " ('L', '3'),\n",
       " ('L', '6'),\n",
       " ('F', '1'),\n",
       " ('F', '4'),\n",
       " ('F', '3'),\n",
       " ('F', '3'),\n",
       " ('L', '6'),\n",
       " ('L', '6'),\n",
       " ('F', '5'),\n",
       " ('F', '4'),\n",
       " ('F', '4'),\n",
       " ('F', '3'),\n",
       " ('F', '6'),\n",
       " ('F', '2'),\n",
       " ('F', '2'),\n",
       " ('F', '6'),\n",
       " ('F', '4'),\n",
       " ('F', '1'),\n",
       " ('F', '4'),\n",
       " ('F', '4'),\n",
       " ('F', '2'),\n",
       " ('F', '6'),\n",
       " ('F', '5'),\n",
       " ('F', '1'),\n",
       " ('F', '6'),\n",
       " ('F', '3')]"
      ]
     },
     "execution_count": 8,
     "metadata": {},
     "output_type": "execute_result"
    }
   ],
   "source": [
    "list(generate_hmm_sequence('F', T, E, 40))"
   ]
  },
  {
   "cell_type": "markdown",
   "metadata": {},
   "source": [
    "## Gradnja modela iz podatkov\n",
    "\n",
    "Napišite funkcijo build_hmm, ki bo sprejela vidno in skrito zaporedje, ter vrnila skriti Markov model, slovarja T in E."
   ]
  },
  {
   "cell_type": "code",
   "execution_count": 9,
   "metadata": {
    "collapsed": false
   },
   "outputs": [],
   "source": [
    "from collections import Counter\n",
    "\n",
    "def normalize(dic):\n",
    "    s = sum(dic.values())\n",
    "    return {k: dic[k]/s for k in dic}\n",
    "\n",
    "def build_hmm(h, x):\n",
    "    t = {}\n",
    "    for (i, j), cn in Counter(zip(h, h[1:])).items():\n",
    "        t.setdefault(i, {}).setdefault(j, cn)\n",
    "    T = {}\n",
    "    for i, d in t.items():\n",
    "        T[i] = normalize(d)\n",
    "        \n",
    "    c = Counter(zip(h, x))\n",
    "    E = {}\n",
    "    for h in T.keys():\n",
    "        E[h] = normalize({xi: c[(pi, xi)] for pi, xi in c if pi == h})\n",
    "    return T, E"
   ]
  },
  {
   "cell_type": "code",
   "execution_count": 10,
   "metadata": {
    "collapsed": false
   },
   "outputs": [],
   "source": [
    "h, x = zip(*list(generate_hmm_sequence('F', T, E, 400)))"
   ]
  },
  {
   "cell_type": "code",
   "execution_count": 11,
   "metadata": {
    "collapsed": false
   },
   "outputs": [
    {
     "data": {
      "text/plain": [
       "({'F': {'F': 0.9550561797752809, 'L': 0.0449438202247191},\n",
       "  'L': {'F': 0.09090909090909091, 'L': 0.9090909090909091}},\n",
       " {'F': {'1': 0.13805970149253732,\n",
       "   '2': 0.1865671641791045,\n",
       "   '3': 0.19029850746268656,\n",
       "   '4': 0.14925373134328357,\n",
       "   '5': 0.17537313432835822,\n",
       "   '6': 0.16044776119402984},\n",
       "  'L': {'1': 0.08333333333333333,\n",
       "   '2': 0.08333333333333333,\n",
       "   '3': 0.10606060606060606,\n",
       "   '4': 0.06060606060606061,\n",
       "   '5': 0.10606060606060606,\n",
       "   '6': 0.5606060606060606}})"
      ]
     },
     "execution_count": 11,
     "metadata": {},
     "output_type": "execute_result"
    }
   ],
   "source": [
    "build_hmm(h, x)"
   ]
  },
  {
   "cell_type": "markdown",
   "metadata": {},
   "source": [
    "## Viterbijev algoritem\n",
    "\n",
    "Zaporedja, s katerimi delamo, so lahko zelo dolga. Množenje (majhnih) verjetnosti nas lahko hitro privede do napake *underflow*. Težavi se izognemo tako, da namesto množenja verjetnosti, seštevamo logaritme verjetnosti."
   ]
  },
  {
   "cell_type": "code",
   "execution_count": 12,
   "metadata": {
    "collapsed": true
   },
   "outputs": [],
   "source": [
    "import math\n",
    "\n",
    "def logmv(a):\n",
    "    min_val = 0.00000000001\n",
    "    return math.log(max(a, min_val))\n",
    "\n",
    "def viterbi_log(s, t, e):\n",
    "\n",
    "    # seznam skritih stanj\n",
    "    zh = set()\n",
    "    for h, tmpd in e.items():\n",
    "        zh.add(h)\n",
    "\n",
    "    zh = [0] + list(zh)\n",
    "\n",
    "    # Create table V\n",
    "    V = [{} for i in range(len(s)+1)]\n",
    "    ptr = [{} for i in range(len(s)+1)]\n",
    "\n",
    "    # Initialize i = 0; V(0, 0) = 1; V(k, 0) = 0 for k > 0\n",
    "    for k in zh:\n",
    "        V[0][k] = logmv(0.0) #t[0][k]*e[k][s[0]]\n",
    "    V[0][0] = logmv(1.0)\n",
    "\n",
    "    # for 1 = 1 : n, compute\n",
    "    for i in range(1, len(s)+1):\n",
    "        for l in zh:\n",
    "            vals = list([(V[i-1].get(k, logmv(0.0))+logmv(t.get(k, {}).get(l, 0.0)), k) for k in zh])\n",
    "            max_val, max_k = max(vals)\n",
    "            V[i][l] = logmv(e.get(l, {}).get(s[i-1], 0.0)) + max_val\n",
    "            ptr[i][l] = max_k\n",
    "\n",
    "    # trace back\n",
    "    pi = []\n",
    "    pi_L = max([(V[-1][k], k) for k in zh])[1]\n",
    "    pi.append(pi_L)\n",
    "\n",
    "    for p in ptr[-1:1:-1]:\n",
    "        pi.append(p[pi[-1]])\n",
    "\n",
    "    pi.reverse()\n",
    "    return V, zh, ptr, \"\".join(pi)"
   ]
  },
  {
   "cell_type": "markdown",
   "metadata": {},
   "source": [
    "Pokliči funkcijo, ki za dano zaporedje x in za dani model (T in E) vrne najbolj verjetno skrito pot (h_najv)."
   ]
  },
  {
   "cell_type": "code",
   "execution_count": 13,
   "metadata": {
    "collapsed": false
   },
   "outputs": [],
   "source": [
    "V, zh, ptr, h_najv = viterbi_log(x, T, E)"
   ]
  },
  {
   "cell_type": "code",
   "execution_count": 14,
   "metadata": {
    "collapsed": false
   },
   "outputs": [
    {
     "data": {
      "text/plain": [
       "'FFFFFFFFFFFFFFFFFFFFFFFFFFFFFFFLLLLLLLLLLLLLLLLLLLLLLLLLLLLLLLLLLLLFFFFFFFFFFFFFFFFFFFFFFFFFLLLLLLLLLLLLLLLLLLLLLLLLLLLFFFFFFFFFFFFFFFFFFFFFFFFFFFFFFFFFFLLLLLLLLLLLLLLFFFFFFFFFFFFFFFFFFFFFFFFFFFFFFFFFFFFFFFFFFLLLLLLLLLLLLLLLLFFFFFFFFFFFFFFFFFFFFFFFFFFFFFFFFFFFFFFFFFFFFFFFFFFFFFFFFFFFFFFFFFFFFFFFFFFFFFFFFFFFFLLLLLLLLLLLLLLLLLLLLLLLLLLLLLLLLLLLLLLLLLLLLLLLLLLLLLLLFFFFFFFFFFFFFFFFFFFFFFFFFFFFFFFFFFFF'"
      ]
     },
     "execution_count": 14,
     "metadata": {},
     "output_type": "execute_result"
    }
   ],
   "source": [
    "h_najv"
   ]
  },
  {
   "cell_type": "markdown",
   "metadata": {},
   "source": [
    "Primerjaj jo z dejansko skrito potjo:"
   ]
  },
  {
   "cell_type": "code",
   "execution_count": 15,
   "metadata": {
    "collapsed": false
   },
   "outputs": [
    {
     "data": {
      "text/plain": [
       "'FFFFFFFFFFFFFFFFFFFFFFFFFFFFFFFFFFFFFLLLLLLLLLLLLLLLLLLLLLLLLLLLLLLFFFFFFFFFFFFFFFFFFFFFFFFFFLLLLLLLLLLLLLLLLLLLLLLLLLLLFFFFFFFFFFFFFFFFFFFFFFFFFFFFFLFFFLLLLLLLLLLLLLLFFFFFFFFLLLLFFFFFFFFFFFFFFFFFFFFFFFFLFFFFFFFLLLLLLLLLLLLLFFFFFFFFFFFFFFFFFFFFFFFFFFFFFFFFFFFFFFFFFFFFFFFFFFFFFFFFFFFFFFFFFFFFFLLLLLLLLFFFFFFFLLLLLLLLLLLLFFFFFFFFFFFFFFLLLLLLLFFFFFFFFFFFLLLLLLFFLLLLLLLLLFFFFFFFFFFFFFFFFFFFFFFFFFFFFFFF'"
      ]
     },
     "execution_count": 15,
     "metadata": {},
     "output_type": "execute_result"
    }
   ],
   "source": [
    "\"\".join(h)"
   ]
  },
  {
   "cell_type": "markdown",
   "metadata": {},
   "source": [
    "Poti se ujemata v deležu:"
   ]
  },
  {
   "cell_type": "code",
   "execution_count": 16,
   "metadata": {
    "collapsed": false
   },
   "outputs": [
    {
     "data": {
      "text/plain": [
       "0.855"
      ]
     },
     "execution_count": 16,
     "metadata": {},
     "output_type": "execute_result"
    }
   ],
   "source": [
    "sum(pi == pj for pi, pj in zip(h_najv, h))/len(h)"
   ]
  },
  {
   "cell_type": "code",
   "execution_count": 17,
   "metadata": {
    "collapsed": true
   },
   "outputs": [],
   "source": []
  }
 ],
 "metadata": {
  "kernelspec": {
   "display_name": "Python 3",
   "language": "python",
   "name": "python3"
  },
  "language_info": {
   "codemirror_mode": {
    "name": "ipython",
    "version": 3.0
   },
   "file_extension": ".py",
   "mimetype": "text/x-python",
   "name": "python",
   "nbconvert_exporter": "python",
   "pygments_lexer": "ipython3",
   "version": "3.4.3"
  }
 },
 "nbformat": 4,
 "nbformat_minor": 0
}
