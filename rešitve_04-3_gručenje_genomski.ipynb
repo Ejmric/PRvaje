{
 "cells": [
  {
   "cell_type": "markdown",
   "metadata": {
    "lang": "sl"
   },
   "source": [
    "## 4.3 Primer: genomski podatki v obliki nizov znakov"
   ]
  },
  {
   "cell_type": "markdown",
   "metadata": {
    "lang": "en"
   },
   "source": [
    "## 4.3 Example: genomic data in the form of character strings"
   ]
  },
  {
   "cell_type": "markdown",
   "metadata": {
    "lang": "sl"
   },
   "source": [
    "##### Odgovor 4-3-1"
   ]
  },
  {
   "cell_type": "markdown",
   "metadata": {
    "lang": "en"
   },
   "source": [
    "##### Answer 4-3-1"
   ]
  },
  {
   "cell_type": "code",
   "execution_count": null,
   "metadata": {
    "collapsed": true
   },
   "outputs": [],
   "source": [
    "from itertools import product\n",
    "import numpy as np\n",
    "import scipy.cluster.hierarchy as sch\n",
    "%matplotlib inline\n",
    "%config InlineBackend.figure_format = 'jpg'\n",
    "import matplotlib.pyplot as plt\n",
    "\n",
    "def seq_to_kmer_count(seq, k=4):\n",
    "    ktuples = list(zip(*[seq[i:] for i in range(k)]))     # razbijemo niz na k-terke\n",
    "    kmers   = list(product(*(k*[[\"A\", \"C\", \"T\", \"G\"]])))  # vse mozne k-terke\n",
    "    \n",
    "    x = np.zeros((len(kmers), ))\n",
    "    \n",
    "    for ki, kmer in enumerate(kmers):\n",
    "        x[ki] = ktuples.count(kmer)\n",
    "    return x"
   ]
  },
  {
   "cell_type": "code",
   "execution_count": null,
   "metadata": {
    "collapsed": true
   },
   "outputs": [],
   "source": [
    "# ...k = 4\n",
    "k = 4\n",
    "keys = sequences.keys()\n",
    "X    = np.zeros((len(keys), 4**k))\n",
    "for ki, ky in enumerate(keys):\n",
    "    seq    = sequences[ky]\n",
    "    X[ki]  = seq_to_kmer_count(seq, k=k)\n",
    "\n",
    "print(X)\n",
    "print(X.shape)\n",
    "H = sch.linkage(X)\n",
    "D = sch.dendrogram(H, labels=list(sequences.keys()), leaf_rotation=90)\n",
    "plt.ylabel(\"Razdalja\")\n",
    "plt.show()"
   ]
  }
 ],
 "metadata": {
  "kernelspec": {
   "display_name": "Python 3",
   "language": "python",
   "name": "python3"
  },
  "language_info": {
   "codemirror_mode": {
    "name": "ipython",
    "version": 3
   },
   "file_extension": ".py",
   "mimetype": "text/x-python",
   "name": "python",
   "nbconvert_exporter": "python",
   "pygments_lexer": "ipython3",
   "version": "3.6.3"
  },
  "latex_envs": {
   "LaTeX_envs_menu_present": true,
   "autocomplete": true,
   "bibliofile": "biblio.bib",
   "cite_by": "apalike",
   "current_citInitial": 1,
   "eqLabelWithNumbers": true,
   "eqNumInitial": 1,
   "hotkeys": {
    "equation": "Ctrl-E",
    "itemize": "Ctrl-I"
   },
   "labels_anchors": false,
   "latex_user_defs": false,
   "report_style_numbering": false,
   "user_envs_cfg": false
  },
  "nbTranslate": {
   "displayLangs": [
    "en",
    "sl"
   ],
   "hotkey": "alt-t",
   "langInMainMenu": true,
   "sourceLang": "sl",
   "targetLang": "en",
   "useGoogleTranslate": true
  }
 },
 "nbformat": 4,
 "nbformat_minor": 1
}
