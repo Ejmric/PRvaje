{
 "cells": [
  {
   "cell_type": "markdown",
   "metadata": {
    "lang": "sl"
   },
   "source": [
    "## Hierarhično gručenje\n",
    "\n",
    "Na predavanjih smo spoznali algoritem <b>hieraričnega gručenja</b>. Njegova glavna značilnost je, da omogoča primerjavo objektov zgolj na podlagi poznavanja <i> mere razdalje </i> med njimi. Predstavitev podatkov torej ni nujno omejena na vektorske prostore.\n",
    "\n",
    "Algoritem je determinističen in ne predpostavlja števila gruč. Rezultat gručenja bo izračunan naenkrat za vsa možna števila gruč v intervalu $[1, n]$, odločitev o številu pa bo sprejeta po izračunu.\n",
    "\n",
    "\n",
    "\n",
    "<font color=\"blue\"><b>Razmisli.</b></font> Kakšna je časovna zahtevnost algoritma za hierarhično gručenje? Kako se primerja z metodo K-means?"
   ]
  },
  {
   "cell_type": "markdown",
   "metadata": {
    "lang": "en"
   },
   "source": [
    "## Hierarchical clustering\n",
    "\n",
    "At the lectures we learned the <b>hierarchical clustering</b> algorithm. Its main characteristic is that it allows comparison of objects on the basis of knowledge of <i> distance measures </i> between them. Data representation is therefore not necessarily limited to vector spaces.\n",
    "\n",
    "The algorithm is deterministic and does not presume the number of clusters. The clustering result will be calculated at once for all possible clustered numbers in the $[1, n]$ interval, and deciding on a number will taken place after the calculation.\n",
    "\n",
    "\n",
    "\n",
    "<font color=\"blue\"><b>Think.</b></font> What is the time complexity of the algorithm for hierarchical clustering? How does it compare with the K-means method?"
   ]
  },
  {
   "cell_type": "code",
   "execution_count": null,
   "metadata": {
    "collapsed": true
   },
   "outputs": [],
   "source": [
    "import numpy as np\n",
    "\n",
    "% matplotlib inline\n",
    "import matplotlib.pyplot as plt\n",
    "plt.style.use('PR.mplstyle')\n",
    "\n",
    "import Orange\n",
    "import scipy.cluster.hierarchy as sch\n",
    "import scipy"
   ]
  },
  {
   "cell_type": "markdown",
   "metadata": {
    "lang": "sl"
   },
   "source": [
    "### Podatki\n",
    "\n",
    "<img src=\"slike/živali.jpg\"></img> \n",
    "\n",
    "Današnji podatki spominjajo na (starejši generaciji dobro znani) album sličic z živalmi. Vsebuje 59 živalskih vrst ter 16 atributov, ki opisuje pripadajoče anatomske značilnosti. Živali so razdeljene v 7 razredov."
   ]
  },
  {
   "cell_type": "markdown",
   "metadata": {
    "lang": "en"
   },
   "source": [
    "### Data\n",
    "\n",
    "<img src=\"slike/živali.jpg\"></img>\n",
    "\n",
    "Today's data is reminiscent of (well-known to older generations) an album of animal pictures. It contains 59 animal species and 16 attributes that describe the associated anatomical characteristics. Animals are divided into 7 classes."
   ]
  },
  {
   "cell_type": "code",
   "execution_count": null,
   "metadata": {},
   "outputs": [],
   "source": [
    "data = Orange.data.Table('podatki/zoo.tab')\n",
    "print(data.domain)\n",
    "print(data[:2])\n",
    "\n",
    "print(np.linalg.norm(data.X[0]-data.X[1]))\n",
    "print(np.linalg.norm(data.X[0]-data.X[1], ord=1))"
   ]
  },
  {
   "cell_type": "markdown",
   "metadata": {
    "lang": "sl"
   },
   "source": [
    "Zanimala nas bo predvsem matrika `X`, ki podatke hrani v številski obliki."
   ]
  },
  {
   "cell_type": "markdown",
   "metadata": {
    "lang": "en"
   },
   "source": [
    "We are especially interested in the matrix `X`, which stores the data in numerical form."
   ]
  },
  {
   "cell_type": "code",
   "execution_count": null,
   "metadata": {},
   "outputs": [],
   "source": [
    "X = data.X\n",
    "Y = data.Y\n",
    "print(X.shape)\n",
    "print(X)"
   ]
  },
  {
   "cell_type": "markdown",
   "metadata": {
    "lang": "sl"
   },
   "source": [
    "Rezultat gručenja dobimo z uporabo modula `scipy.cluster.hierarchy` in metode `linkage`. Slednja izračune povezave v drevesu (dendrogramu) glede na dano mero razdalje (`metric`) in načinom merjenja razdalj med gručami (`method`)."
   ]
  },
  {
   "cell_type": "markdown",
   "metadata": {
    "lang": "en"
   },
   "source": [
    "The clustering result is obtained using the `scipy.cluster.hierarchy` module and the `linkage` method. The latter calculates the connection in the tree (dendrogram) with respect to a given distance measure (`metric`) and the method of measuring the distance between clusters (`method`)."
   ]
  },
  {
   "cell_type": "code",
   "execution_count": null,
   "metadata": {
    "collapsed": true,
    "scrolled": false
   },
   "outputs": [],
   "source": [
    "L = sch.linkage(X, method=\"average\", metric=\"cityblock\")"
   ]
  },
  {
   "cell_type": "markdown",
   "metadata": {
    "lang": "sl"
   },
   "source": [
    "Z uporabo funkcije `dendrogram` narišemo drevo in mu priredimo oznake. Funkcija deluje v navezi z že znano knjižnico `matplotlib`."
   ]
  },
  {
   "cell_type": "markdown",
   "metadata": {
    "lang": "en"
   },
   "source": [
    "Using the `dendrogram` function, we draw a tree and organize it with labels. The function works in conjunction with the already known `matplotlib` library."
   ]
  },
  {
   "cell_type": "code",
   "execution_count": null,
   "metadata": {},
   "outputs": [],
   "source": [
    "plt.figure(figsize=(25, 6))\n",
    "labels = [row[\"name\"].value for row in data]\n",
    "D      = sch.dendrogram(L, labels=labels, leaf_font_size=15)\n",
    "plt.ylabel(\"Razdalja\")\n",
    "plt.show()"
   ]
  },
  {
   "cell_type": "markdown",
   "metadata": {
    "lang": "sl"
   },
   "source": [
    "V redu, za prvi poizkus. Vseeno izgleda dendrogram nekoliko sploščen. Preveri, kako na graf vplivajo različne ..."
   ]
  },
  {
   "cell_type": "markdown",
   "metadata": {
    "lang": "en"
   },
   "source": [
    "Okay, for the first try. Nevertheless, the dendrogram seems somewhat flat. Verify how the graph affects various ..."
   ]
  },
  {
   "cell_type": "markdown",
   "metadata": {
    "lang": "sl"
   },
   "source": [
    "### Metode povezovanja\n",
    "\n",
    "Metode povezovanja določajo način, kako izračunati razdaljo med dvema poljubno velikima gručama točk.\n",
    "* <b>Posamično povezovanje</b> (method=\"single\"); Razdalja med gručama je razdalja med najbližjima točkama gruč.\n",
    "* <b>Povprečna razdalja</b> (method=\"average\"); Povprečna razdalja med vsemi pari točk. \n",
    "* <b>Razdalja med središčema</b> (method=\"centroid\"); Izračuna središči gruč v prostoru ter njuno medsebojno razdaljo. Mera razdalje je nujno evklidska.\n",
    "\n",
    "<font color=\"green\"><b>Naredi sam/a.</b></font> Preizkusi različne oblike dendrograma glede na izbrano mero razdalje."
   ]
  },
  {
   "cell_type": "markdown",
   "metadata": {
    "lang": "en"
   },
   "source": [
    "### Linkage methods\n",
    "\n",
    "Linkage methods determine how to calculate the distance between two arbitrarily large points points.\n",
    "\n",
    "* <b>Single linkage</b> (method = \"single\"); The distance between the clusters is the distance between the closest points of the clusters.\n",
    "* <b>Average linkage</b> (method = \"average\"); The average distance between all pairs of points.\n",
    "* <b>Centroid linkage</b> (method = \"centroid\"); Calculates the centers of clusters in the space and their mutual distance. The distance measure is necessarily Euclidean.\n",
    "\n",
    "<font color=\"green\"><b>Do it yourself.</b></font> Test various forms of the dendrogram with respect to the selected distance measure."
   ]
  },
  {
   "cell_type": "code",
   "execution_count": null,
   "metadata": {
    "collapsed": true
   },
   "outputs": [],
   "source": [
    "# Preizkusi različne načine merjenja razdalje med gručami\n",
    "L = sch.linkage(X, method=\"single\",)"
   ]
  },
  {
   "cell_type": "markdown",
   "metadata": {
    "lang": "sl"
   },
   "source": [
    "Ali je evklidska razdalja res najbolj primeren način primerjanja atributov, ki so diskretni? Ne vedno."
   ]
  },
  {
   "cell_type": "markdown",
   "metadata": {
    "lang": "en"
   },
   "source": [
    "Is the Euclidean distance really the best way to compare attributes that are discrete? Not always."
   ]
  },
  {
   "cell_type": "markdown",
   "metadata": {
    "lang": "sl"
   },
   "source": [
    "### Mere razdalje\n",
    "\n",
    "Način določanja interpretacije razdalje med točkama $\\vec{x} = (x_1, x_2, ..., x_p)$ in $\\vec{y} = (y_1, y_2, ..., y_p)$ vpliva na rezultat hierarhičnega gručenja. Izbira ustrezne mere je odvisna od narave podatkov in čimbolje odgovarja na vprašanje: <i>kaj pomeni, da sta dva primera podobna?</i>\n",
    "\n",
    "Na izbiro ustrezne mere lahko vplivajo:\n",
    "* Prisotnost manjkajočih vrednosti\n",
    "* Predstavitev podatkov (vektorji, nizi znakov, slike, ...)\n",
    "* Tip atributov in interpretacija vrednosti\n",
    "\n",
    "\n",
    "Nekaj pogostih mer razdalje:\n",
    "* Evklidska razdalja <code>(metric=\"euclidean\")</code>\n",
    "\n",
    "$$ d(\\vec{x}, \\vec{y}) = \\sqrt{(x_1-y_1)^2 + (x_2 - y_2)^2 + ... + (x_p - y_p)^2} $$\n",
    "\n",
    "* Manhattanska razdalja <code>(metric=\"cityblock\")</code>\n",
    "\n",
    "$$ d(\\vec{x}, \\vec{y}) = |x_1-y_1| + |x_2 - y_2| + ... + |x_p - y_p| $$\n",
    "\n",
    "* Kosinusna razdalja <code>(metric=\"cosine\")</code>\n",
    "\n",
    "<p>Predstavlja <i>kosinus kota</i> med vektorjema $\\vec{x}$ in $\\vec{y}$ - manjši kot pomeni večjo podobnost. Uporabna za primerjavo podobnosti med vektorji, neupoštevajoč absolutnih velikosti.</p>\n",
    "\n",
    "$$ d(\\vec{x}, \\vec{y}) = 1 - \\frac{\\vec{x} \\cdot \\vec{y}}{\\|\\vec{x}\\| \\|\\vec{y}\\|} $$\n",
    "\n",
    "* Jaccardov index <code>(metric=\"jaccard\")</code>\n",
    "\n",
    "<p>Izmeri delež ujemanj med pari soležnih komponent $(x_i, y_i)$, kjer je vsaj ena izmed vrednosti $x_i$ ali $y_i$ večja od nič. Primerna za uporabo v primerih, ko imamo opravka z manjkajočimi vrednostmi ali diskretnimi atributi.</p>\n",
    "\n",
    "Popoln spisek razdalj najdeš v <a href=\"http://docs.scipy.org/doc/scipy-0.17.0/reference/generated/scipy.spatial.distance.pdist.html\">dokumentaciji</a>.\n",
    "\n",
    "<br/>\n",
    "<font color=\"blue\"><b>Razmisli.</b></font> Poizkusi se spomniti vrste podatkov, kjer bi bilo smiselno uporabiti vsako posamezno mero."
   ]
  },
  {
   "cell_type": "markdown",
   "metadata": {
    "lang": "en"
   },
   "source": [
    "###  Distance measures\n",
    "\n",
    "The method of determining the interpretation of the distance between the points $\\vec{x} = (x_1, x_2, ..., x_p)$ and $\\vec{y} = (y_1, y_2, ..., y_p)$ affects the result of hierarchical clustering. Choosing the right size depends on the nature of the data and answers the question as much as possible: <i>what does it mean when two examples are similar?</i>\n",
    "\n",
    "The choice of the appropriate measure may be affected by:\n",
    "\n",
    "* The presence of missing values\n",
    "* Data presentation (vectors, character strings, images, ...)\n",
    "* Attributes type and interpretation of values\n",
    "\n",
    "\n",
    "Some common distance measures:\n",
    "* Euclidean distance <code> (metric = \"euclidean\") </code>\n",
    "\n",
    "$$ d(\\vec{x}, \\vec{y}) = \\sqrt{(x_1-y_1)^2 + (x_2 - y_2)^2 + ... + (x_p - y_p)^2} $$\n",
    "\n",
    "* Manhattan distance <code> (metric = \"cityblock\") </code>\n",
    "\n",
    "$$ d(\\vec{x}, \\vec{y}) = |x_1-y_1| + |x_2 - y_2| + ... + |x_p - y_p| $$\n",
    "\n",
    "* Cosine distance <code> (metric = \"cosine\") </code>\n",
    "\n",
    "<p>Represents the <i>cosine of the angle</i> between the $\\vec{x}$ and $\\vec{y}$ vectors - smaller angle means greater similarity. Useful for comparing the similarities between vectors, disregarding their absolute size.</p>\n",
    "\n",
    "$$ d(\\vec{x}, \\vec{y}) = 1 - \\frac{\\vec{x} \\cdot \\vec{y}}{\\|\\vec{x}\\| \\|\\vec{y}\\|} $$\n",
    "\n",
    "* Jaccard index <code> (metric = \"jaccard\") </code>\n",
    "\n",
    "<p>Measures the proportion of matches between $(x_i, y_i)$ pairs at the same positions, where at least one of the values $x_i$ or $y_i$ is greater than zero. Suitable for use in cases where we are dealing with missing values or discrete attributes.</p>\n",
    "\n",
    "Find the complete list of distances in <a href=\"http://docs.scipy.org/doc/scipy-0.17.0/reference/generated/scipy.spatial.distance.pdist.html\">documentation</a>.\n",
    "\n",
    "<br/>\n",
    "<font color=\"blue\"><b>Think.</b></font> Try to remember the type of data where it would be sensible to use each single measure."
   ]
  },
  {
   "cell_type": "markdown",
   "metadata": {
    "lang": "sl"
   },
   "source": [
    "### Določanje števila gruč"
   ]
  },
  {
   "cell_type": "markdown",
   "metadata": {
    "lang": "en"
   },
   "source": [
    "### Determining the number of clusters"
   ]
  },
  {
   "cell_type": "markdown",
   "metadata": {
    "lang": "sl"
   },
   "source": [
    "Koliko gruč je v podatkih? Na to vprašanje je težko odgovoriti in tudi sicer velja za odprto vprašanje na področju storjnega učenja. Vseeno poznamo nekaj kazalcev, ki jih v grobem delimo na \n",
    "* <font color=\"green\">nadzorovane</font> (znani so resnični razredi podatkov)\n",
    "* <font color=\"blue\">nenadzorovane</font> (znane so samo značilke in/ali razdalje med primeri)"
   ]
  },
  {
   "cell_type": "markdown",
   "metadata": {
    "lang": "en"
   },
   "source": [
    "How many clusters are in the data? It is difficult to answer this question and it is also considered an open question in the field of machine learning. Nevertheless, we know some of the indicators that we roughly divide on\n",
    "* <font color=\"green\">supervised</font> (true data classes are known)\n",
    "* <font color=\"blue\">unsupervised</font> (only the characteristics and/or distance between the examples are known)"
   ]
  },
  {
   "cell_type": "markdown",
   "metadata": {
    "lang": "sl"
   },
   "source": [
    "Za določitev pripadnosti primerov gručam uporabimo funkcijo `fcluster`. Slednja prejme parameter `t`, ki določa razdaljo pri kateri <i>odsekamo</i> dendrogram, t.j. odstranimo vse povezave, ki so daljše od dane dolžine. Preostale povezane komponente grafa dendrograma tako tvorijo skupine."
   ]
  },
  {
   "cell_type": "markdown",
   "metadata": {
    "lang": "en"
   },
   "source": [
    "To determine the belonging of examples to clusters, we use the `fcluster` function. The latter receives the `t` parameter, which determines the distance at which we <i>cut</i> the dendrogram, i.e. remove all links that are longer than a given length. The remaining related components of the dendrogram graph thus form groups."
   ]
  },
  {
   "cell_type": "code",
   "execution_count": null,
   "metadata": {},
   "outputs": [],
   "source": [
    "L = sch.linkage(X, method=\"average\", metric=\"cityblock\")   \n",
    "t = 3.5\n",
    "predictions = sch.fcluster(L, t=t, criterion=\"distance\").ravel()\n",
    "classes     = data.Y.ravel()   # resnicni razredi \n",
    "\n",
    "print(\"Primer\", \"Resnični razred\", \"Gruča\")\n",
    "for row, category, prediction in list(zip(data, classes, predictions ))[2:10]:\n",
    "        print(\"%s\\t%d\\t%d\" % (row[\"name\"], category, prediction))"
   ]
  },
  {
   "cell_type": "markdown",
   "metadata": {
    "lang": "sl"
   },
   "source": [
    "Ponovno narišemo dendrogram in ga <i>odsekamo</i> pri dani razdalji. V nadaljevanju si bomo ogledali številske ocene uspešnosti gručenja."
   ]
  },
  {
   "cell_type": "markdown",
   "metadata": {
    "lang": "en"
   },
   "source": [
    "Re-draw the dendrogram and <i>cut</i> it at the given distance. Below we'll see a number of estimates of clustering performance."
   ]
  },
  {
   "cell_type": "code",
   "execution_count": null,
   "metadata": {},
   "outputs": [],
   "source": [
    "D = sch.dendrogram(L, labels=labels)\n",
    "plt.plot([0, 1000], [t, t], \"k--\")\n",
    "plt.ylabel(\"Razdalje\")\n",
    "plt.show()"
   ]
  },
  {
   "cell_type": "markdown",
   "metadata": {
    "lang": "sl"
   },
   "source": [
    "#### Skupna deljena informacija\n",
    "\n",
    "Mera skupne deljene informacije je uporabna, ko so na voljo informacije o resničnih razredih, v katere spadajo primeri. Pri tem ni odveč poudariti, da resnični razredi ne smejo biti uporabljeni pri deljenju primerov v skupine.\n",
    "\n",
    "Naključne dodelitve oznak gruč imajo vrednost skupne deljene informacije \n",
    "blizu `0.0` za vsako vrednost števila skupin in števila primerov. Popolno ujemanje gruč z obstoječimi razredi ima vrednost `1`.\n",
    "Mera ni odvisna od predstavitve podatkov, t.j. ni potrebno da so podatki v vektorskem prostoru, saj je odvisna samo od oznak."
   ]
  },
  {
   "cell_type": "markdown",
   "metadata": {
    "lang": "en"
   },
   "source": [
    "#### Common shared information\n",
    "\n",
    "The measure of common shared information is useful when information on the real classes, which includes examples, is available. It is not unreasonable to emphasize that real classes should not be used in case sharing.\n",
    "\n",
    "Random assignments of cluster labels have the value of the total shared information\n",
    "close to `0.0` for each value of the number of groups and number of cases. The complete clustering of clusters with existing classes has a value of `1`.\n",
    "The measure does not depend on the presentation of data, i.e. it is not necessary to have data in the vector space, as it depends only on labels."
   ]
  },
  {
   "cell_type": "code",
   "execution_count": null,
   "metadata": {},
   "outputs": [],
   "source": [
    "from sklearn.metrics import adjusted_mutual_info_score\n",
    "score = adjusted_mutual_info_score(classes, predictions)\n",
    "score"
   ]
  },
  {
   "cell_type": "markdown",
   "metadata": {
    "lang": "sl"
   },
   "source": [
    "#### Koeficitent silhuete\n",
    "\n",
    "Koeficient silhuete je nenadzorovana mera v območju med `-1` (napačno dodeljene skupine) in `1` (zelo goste, dobro ločene skupine). Večja notranja gostota znotraj skupin in večja razdalja sta premosorazmeni s koeficientom. Tudi ta mera ne predpostavlja, da so podatki v vektorskem prostoru, je pa odvisna od izbrane mere razdalje.\n",
    "\n",
    "<font color=\"green\"><b>Naredi sam/a.</b></font> Preveri, kako se ocena spreminja glede na izbrano mero razdalje. Katera mera razdalje najbolje oceni gručenje? Ali je rezultat smiseln?"
   ]
  },
  {
   "cell_type": "markdown",
   "metadata": {
    "lang": "en"
   },
   "source": [
    "#### Silhouette coefficient\n",
    "\n",
    "The silhouette coefficient is an unsupervised measure in the area between `-1` (wrongly assigned groups) and` 1` (very dense, well-separated groups). The greater internal density within the groups and the greater the distance are proportional with the coefficient. Even this measure does not assume that the data is in the vector space, but it depends on the selected distance.\n",
    "\n",
    "<font color=\"green\"><b>Do it yourself.</b></font> Check how the rating varies according to the selected distance measure. Which measure of distance best estimates clusters? Is the result meaningful?"
   ]
  },
  {
   "cell_type": "code",
   "execution_count": null,
   "metadata": {},
   "outputs": [],
   "source": [
    "from sklearn.metrics import silhouette_score\n",
    "\n",
    "score = silhouette_score(X, predictions, metric=\"cityblock\")\n",
    "score"
   ]
  },
  {
   "cell_type": "markdown",
   "metadata": {
    "lang": "sl"
   },
   "source": [
    "<font color=\"green\"><b>Naredi sam/a.</b></font> Izvedi analizo gručenja na podatkih o živalih  tako, da izbereš ustrezno metodo povezovanja, mero razdalje in število gruč. Uporabi eno od predstavljenih mer podobnosti ter poišči tako kombinacijo omenjenih nastavitev, da bo rezultat gručenja karseda visok."
   ]
  },
  {
   "cell_type": "markdown",
   "metadata": {
    "lang": "en"
   },
   "source": [
    "<font color=\"green\"><b>Do it yourself.</b></font> Perform a clustering analysis on animal data by selecting the appropriate linking method, distance measure, and number of clusters. Use one of the similarity measures presented and find a combination of the above settings so that the clustering result is as high as possible."
   ]
  },
  {
   "cell_type": "code",
   "execution_count": null,
   "metadata": {
    "collapsed": true
   },
   "outputs": [],
   "source": [
    "# ..."
   ]
  }
 ],
 "metadata": {
  "kernelspec": {
   "display_name": "Python 3",
   "language": "python",
   "name": "python3"
  },
  "language_info": {
   "codemirror_mode": {
    "name": "ipython",
    "version": 3
   },
   "file_extension": ".py",
   "mimetype": "text/x-python",
   "name": "python",
   "nbconvert_exporter": "python",
   "pygments_lexer": "ipython3",
   "version": "3.6.3"
  },
  "latex_envs": {
   "LaTeX_envs_menu_present": true,
   "autocomplete": true,
   "bibliofile": "biblio.bib",
   "cite_by": "apalike",
   "current_citInitial": 1,
   "eqLabelWithNumbers": true,
   "eqNumInitial": 1,
   "hotkeys": {
    "equation": "Ctrl-E",
    "itemize": "Ctrl-I"
   },
   "labels_anchors": false,
   "latex_user_defs": false,
   "report_style_numbering": false,
   "user_envs_cfg": false
  },
  "nbTranslate": {
   "displayLangs": [
    "en",
    "sl"
   ],
   "hotkey": "alt-t",
   "langInMainMenu": true,
   "sourceLang": "sl",
   "targetLang": "en",
   "useGoogleTranslate": true
  }
 },
 "nbformat": 4,
 "nbformat_minor": 1
}
