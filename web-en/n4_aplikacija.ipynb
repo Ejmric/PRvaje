{
 "cells": [
  {
   "cell_type": "markdown",
   "metadata": {
    "lang": "en"
   },
   "source": [
    "# Homework 4: Implementation of a recommendation system\n",
    "\n",
    "A useful application that combines the acquired knowledge will represent the lessons learnt during the course as a whole. The application should be implemented with any technology and allow the new user to sign in, evaluate movies and recommend not yet rated films."
   ]
  },
  {
   "cell_type": "markdown",
   "metadata": {
    "lang": "en"
   },
   "source": [
    "## Data\n",
    "\n",
    "The description of the MovieLens database remains the same as for the first homework."
   ]
  },
  {
   "cell_type": "markdown",
   "metadata": {
    "lang": "en"
   },
   "source": [
    "## Questions\n",
    "\n",
    "1. (100%) Implement a prototype recommendation system. You can use any of the data mining methods you have learned from the subject and elsewhere. Wherever the implementation of the functional requirements is not specified, you will take the decisions you need to implement yourself.\n",
    "    \n",
    "    The application should have the following functionalities:\n",
    "\n",
    "   * User interface. Plan a simple user interface of your choice. The interface can be a command line, a graphical interface, or a web interface. It should be easy to start the system and be accessible for use. The interface enables communication between the user and the recommendation system.\n",
    "   * Registering a new user. The system should allow to add new users and input ratings through the user interface. Users can be identified, for example, with usernames, numbers, etc. The entered ratings are saved when exiting the system and are used when restarted. The user rates the films in the data  with scores between 1 (insufficient) and 5 (excellent).\n",
    "   * At the request of the user, generate a list of five most appropriate films that the user has not yet rated. The method for recommending films can be selected from a set of methods that we have learned during the course (methods of supervised modeling, matrix factorization, ...) or others. In the report, describe which method you are using.\n",
    "\n",
    "2. (Bonus 20%) Add different visualizations of the current data that can be started from the user interface to the application. This can include user clusters, trends of different genres over time, distribution (average ratings), currently the most popular movies, etc.\n",
    "\n",
    "Describe in the report the examples of using your application - a screen image with a text or commands and results if the interface is a command line. In doing so, display at least one example for each functionality that you have implemented."
   ]
  },
  {
   "cell_type": "markdown",
   "metadata": {
    "lang": "en"
   },
   "source": [
    "## Results\n",
    "\n",
    "Present your application briefly in a report.\n",
    "\n",
    "The results of the task are:\n",
    "* a report that consists of brief instructions for using the application. Submit the `.tex` and` .pdf` file of the report,\n",
    "* source code of your program (.ipynb, .py, ...)."
   ]
  },
  {
   "cell_type": "code",
   "execution_count": 1,
   "metadata": {
    "collapsed": true
   },
   "outputs": [],
   "source": []
  }
 ],
 "metadata": {
  "kernelspec": {
   "display_name": "Python 3",
   "language": "python",
   "name": "python3"
  },
  "language_info": {
   "codemirror_mode": {
    "name": "ipython",
    "version": 3
   },
   "file_extension": ".py",
   "mimetype": "text/x-python",
   "name": "python",
   "nbconvert_exporter": "python",
   "pygments_lexer": "ipython3",
   "version": "3.6.3"
  },
  "latex_envs": {
   "LaTeX_envs_menu_present": true,
   "autocomplete": true,
   "bibliofile": "biblio.bib",
   "cite_by": "apalike",
   "current_citInitial": 1,
   "eqLabelWithNumbers": true,
   "eqNumInitial": 1,
   "hotkeys": {
    "equation": "Ctrl-E",
    "itemize": "Ctrl-I"
   },
   "labels_anchors": false,
   "latex_user_defs": false,
   "report_style_numbering": false,
   "user_envs_cfg": false
  },
  "nbTranslate": {
   "displayLangs": [
    "sl"
   ],
   "hotkey": "alt-t",
   "langInMainMenu": true,
   "sourceLang": "sl",
   "targetLang": "en",
   "useGoogleTranslate": true
  }
 },
 "nbformat": 4,
 "nbformat_minor": 2
}
