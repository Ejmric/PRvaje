{
 "cells": [
  {
   "cell_type": "code",
   "execution_count": 1,
   "metadata": {
    "collapsed": true
   },
   "outputs": [],
   "source": [
    "from orangecontrib.associate.fpgrowth import *\n",
    "import Orange"
   ]
  },
  {
   "cell_type": "markdown",
   "metadata": {},
   "source": [
    "# Classification rules"
   ]
  },
  {
   "cell_type": "markdown",
   "metadata": {},
   "source": [
    "Videli smo, kako se dobi povezovalna pravila na redkih podatki, tokrat si bomo ogledali še postopek na polnih podatkih. "
   ]
  },
  {
   "cell_type": "code",
   "execution_count": 2,
   "metadata": {},
   "outputs": [
    {
     "data": {
      "text/plain": [
       "[[1, 0, 0, 1, 0, ... | mammal] {aardvark},\n",
       " [1, 0, 0, 1, 0, ... | mammal] {antelope},\n",
       " [0, 0, 1, 0, 0, ... | fish] {bass},\n",
       " [1, 0, 0, 1, 0, ... | mammal] {bear},\n",
       " [1, 0, 0, 1, 0, ... | mammal] {boar},\n",
       " ...\n",
       "]"
      ]
     },
     "execution_count": 2,
     "metadata": {},
     "output_type": "execute_result"
    }
   ],
   "source": [
    "data = Orange.data.Table('zoo')\n",
    "data"
   ]
  },
  {
   "cell_type": "markdown",
   "metadata": {},
   "source": [
    "Ker so v matriki tudi nule, bomo to upoštevali pri poimenovanju vrednosti."
   ]
  },
  {
   "cell_type": "code",
   "execution_count": 3,
   "metadata": {
    "scrolled": true
   },
   "outputs": [
    {
     "data": {
      "text/plain": [
       "{0: 'hair=0',\n",
       " 1: 'hair=1',\n",
       " 2: 'feathers=0',\n",
       " 3: 'feathers=1',\n",
       " 4: 'eggs=0',\n",
       " 5: 'eggs=1',\n",
       " 6: 'milk=0',\n",
       " 7: 'milk=1',\n",
       " 8: 'airborne=0',\n",
       " 9: 'airborne=1',\n",
       " 10: 'aquatic=0',\n",
       " 11: 'aquatic=1',\n",
       " 12: 'predator=0',\n",
       " 13: 'predator=1',\n",
       " 14: 'toothed=0',\n",
       " 15: 'toothed=1',\n",
       " 16: 'backbone=0',\n",
       " 17: 'backbone=1',\n",
       " 18: 'breathes=0',\n",
       " 19: 'breathes=1',\n",
       " 20: 'venomous=0',\n",
       " 21: 'venomous=1',\n",
       " 22: 'fins=0',\n",
       " 23: 'fins=1',\n",
       " 24: 'legs=0',\n",
       " 25: 'legs=2',\n",
       " 26: 'legs=4',\n",
       " 27: 'legs=5',\n",
       " 28: 'legs=6',\n",
       " 29: 'legs=8',\n",
       " 30: 'tail=0',\n",
       " 31: 'tail=1',\n",
       " 32: 'domestic=0',\n",
       " 33: 'domestic=1',\n",
       " 34: 'catsize=0',\n",
       " 35: 'catsize=1'}"
      ]
     },
     "execution_count": 3,
     "metadata": {},
     "output_type": "execute_result"
    }
   ],
   "source": [
    "X, mapping = OneHot.encode(data)\n",
    "names = {item: ('{}={}').format(var.name, val)\n",
    "                 for item, var, val in OneHot.decode(mapping, data, mapping)}\n",
    "names"
   ]
  },
  {
   "cell_type": "markdown",
   "metadata": {},
   "source": [
    "Od tu naprej je postopek že poznan. Zaradi narave podatkov lahko izberemo višjo podporo in zaupanje."
   ]
  },
  {
   "cell_type": "code",
   "execution_count": 4,
   "metadata": {
    "scrolled": true
   },
   "outputs": [
    {
     "name": "stdout",
     "output_type": "stream",
     "text": [
      "venomous=0, fins=0 -> breathes=1\n",
      "breathes=1, fins=0 -> venomous=0\n",
      "fins=0 -> breathes=1, venomous=0\n",
      "breathes=1, venomous=0 -> fins=0\n",
      "breathes=1 -> venomous=0, fins=0\n",
      "venomous=0, tail=1 -> backbone=1\n",
      "backbone=1, tail=1 -> venomous=0\n",
      "tail=1 -> backbone=1, venomous=0\n",
      "backbone=1, venomous=0 -> tail=1\n",
      "backbone=1 -> venomous=0, tail=1\n",
      "feathers=0 -> domestic=0\n",
      "domestic=0 -> feathers=0\n",
      "feathers=0 -> airborne=0\n",
      "airborne=0 -> feathers=0\n",
      "backbone=1 -> domestic=0\n",
      "domestic=0 -> backbone=1\n",
      "venomous=0 -> domestic=0\n",
      "domestic=0 -> venomous=0\n",
      "feathers=0 -> venomous=0\n",
      "airborne=0 -> venomous=0\n",
      "venomous=0 -> backbone=1\n",
      "backbone=1 -> venomous=0\n",
      "venomous=0 -> breathes=1\n",
      "breathes=1 -> venomous=0\n",
      "fins=0 -> domestic=0\n",
      "domestic=0 -> fins=0\n",
      "fins=0 -> breathes=1\n",
      "breathes=1 -> fins=0\n",
      "fins=0 -> venomous=0\n",
      "venomous=0 -> fins=0\n",
      "tail=1 -> backbone=1\n",
      "backbone=1 -> tail=1\n",
      "tail=1 -> venomous=0\n"
     ]
    }
   ],
   "source": [
    "itemsets = {}\n",
    "for itemset, support in frequent_itemsets(X, 0.7):\n",
    "    itemsets[itemset] = support\n",
    "for rule in association_rules(itemsets, 0.8):\n",
    "        left, right, support, confidence = rule\n",
    "        left_str =  ', '.join(names[i] for i in sorted(left))\n",
    "        right_str = ', '.join(names[i] for i in sorted(right))\n",
    "        print(left_str+\" -> \"+right_str)"
   ]
  },
  {
   "cell_type": "markdown",
   "metadata": {},
   "source": [
    "Opravka imamo s podatki z razredom. Lahko ustvarimo pravila, ki napovedujejo razred?\n",
    "\n",
    "V `OneHot.encode` dodamo parameter `include_class=True`, da se upošteva tudi razred."
   ]
  },
  {
   "cell_type": "code",
   "execution_count": 5,
   "metadata": {
    "scrolled": true
   },
   "outputs": [],
   "source": [
    "X, mapping = OneHot.encode(data, include_class=True)"
   ]
  },
  {
   "cell_type": "markdown",
   "metadata": {},
   "source": [
    "Želimo postavke z >40% podpore:"
   ]
  },
  {
   "cell_type": "code",
   "execution_count": 6,
   "metadata": {
    "scrolled": true
   },
   "outputs": [
    {
     "data": {
      "text/plain": [
       "520"
      ]
     },
     "execution_count": 6,
     "metadata": {},
     "output_type": "execute_result"
    }
   ],
   "source": [
    "itemsets = dict(frequent_itemsets(X, .4))\n",
    "len(itemsets)"
   ]
  },
  {
   "cell_type": "markdown",
   "metadata": {},
   "source": [
    "The transaction-coded items corresponding to class values are:"
   ]
  },
  {
   "cell_type": "code",
   "execution_count": 7,
   "metadata": {},
   "outputs": [
    {
     "data": {
      "text/plain": [
       "[36, 37, 38, 39, 40, 41, 42]"
      ]
     },
     "execution_count": 7,
     "metadata": {},
     "output_type": "execute_result"
    }
   ],
   "source": [
    "class_items = {item \n",
    "               for item, var, _ in OneHot.decode(mapping, data, mapping) \n",
    "               if var is data.domain.class_var}\n",
    "sorted(class_items)"
   ]
  },
  {
   "cell_type": "markdown",
   "metadata": {},
   "source": [
    "That makes sense as our class variable has seven values:"
   ]
  },
  {
   "cell_type": "code",
   "execution_count": 8,
   "metadata": {
    "scrolled": true
   },
   "outputs": [
    {
     "data": {
      "text/plain": [
       "['amphibian', 'bird', 'fish', 'insect', 'invertebrate', 'mammal', 'reptile']"
      ]
     },
     "execution_count": 8,
     "metadata": {},
     "output_type": "execute_result"
    }
   ],
   "source": [
    "data.domain.class_var.values"
   ]
  },
  {
   "cell_type": "markdown",
   "metadata": {},
   "source": [
    "Now we can generate all association rules that have consequent equal to one of the class values and >80% confidence (i.e. classification rules):"
   ]
  },
  {
   "cell_type": "code",
   "execution_count": 9,
   "metadata": {
    "scrolled": true
   },
   "outputs": [
    {
     "data": {
      "text/plain": [
       "[(frozenset({2, 7, 17, 19, 20}), frozenset({41}), 41, 1.0),\n",
       " (frozenset({2, 7, 17, 19}), frozenset({41}), 41, 1.0),\n",
       " (frozenset({2, 7, 17, 20}), frozenset({41}), 41, 1.0),\n",
       " (frozenset({2, 7, 19, 20}), frozenset({41}), 41, 1.0),\n",
       " (frozenset({2, 17, 19, 20}), frozenset({41}), 41, 0.8723404255319149),\n",
       " (frozenset({7, 17, 19, 20}), frozenset({41}), 41, 1.0),\n",
       " (frozenset({2, 7, 17}), frozenset({41}), 41, 1.0),\n",
       " (frozenset({2, 7, 19}), frozenset({41}), 41, 1.0),\n",
       " (frozenset({2, 17, 19}), frozenset({41}), 41, 0.8367346938775511),\n",
       " (frozenset({7, 17, 19}), frozenset({41}), 41, 1.0),\n",
       " (frozenset({2, 7, 20}), frozenset({41}), 41, 1.0),\n",
       " (frozenset({7, 17, 20}), frozenset({41}), 41, 1.0),\n",
       " (frozenset({7, 19, 20}), frozenset({41}), 41, 1.0),\n",
       " (frozenset({2, 7}), frozenset({41}), 41, 1.0),\n",
       " (frozenset({7, 17}), frozenset({41}), 41, 1.0),\n",
       " (frozenset({7, 19}), frozenset({41}), 41, 1.0),\n",
       " (frozenset({7, 20}), frozenset({41}), 41, 1.0),\n",
       " (frozenset({7}), frozenset({41}), 41, 1.0)]"
      ]
     },
     "execution_count": 9,
     "metadata": {},
     "output_type": "execute_result"
    }
   ],
   "source": [
    "rules = [(P, Q, supp, conf) \n",
    "         for P, Q, supp, conf in association_rules(itemsets, .8) \n",
    "         if len(Q) == 1 and Q & class_items]\n",
    "len(rules)\n",
    "rules"
   ]
  },
  {
   "cell_type": "markdown",
   "metadata": {},
   "source": [
    "To make them more helpful, we can use mapping to transform the rules’ items back into table domain values, e.g. for first five rules:"
   ]
  },
  {
   "cell_type": "code",
   "execution_count": 10,
   "metadata": {},
   "outputs": [
    {
     "name": "stdout",
     "output_type": "stream",
     "text": [
      "feathers=0, milk=1, backbone=1, breathes=1, venomous=0 --> type=mammal (supp: 41, conf: 1.0)\n",
      "backbone=1, feathers=0, breathes=1, milk=1 --> type=mammal (supp: 41, conf: 1.0)\n",
      "backbone=1, feathers=0, venomous=0, milk=1 --> type=mammal (supp: 41, conf: 1.0)\n",
      "feathers=0, breathes=1, venomous=0, milk=1 --> type=mammal (supp: 41, conf: 1.0)\n",
      "backbone=1, feathers=0, breathes=1, venomous=0 --> type=mammal (supp: 41, conf: 0.8723404255319149)\n"
     ]
    }
   ],
   "source": [
    "names = {item: '{}={}'.format(var.name, val) \n",
    "         for item, var, val in OneHot.decode(mapping, data, mapping)}\n",
    "for ante, cons, supp, conf in rules[:5]:\n",
    "                              print(', '.join(names[i] for i in ante), '-->',\n",
    "                                    names[next(iter(cons))],\n",
    "                                    '(supp: {}, conf: {})'.format(supp, conf))"
   ]
  },
  {
   "cell_type": "markdown",
   "metadata": {},
   "source": [
    "# CN2"
   ]
  },
  {
   "cell_type": "code",
   "execution_count": 11,
   "metadata": {
    "collapsed": true,
    "run_control": {
     "marked": false
    }
   },
   "outputs": [],
   "source": [
    "learner = Orange.classification.CN2Learner()\n",
    "classifier = learner(data)"
   ]
  },
  {
   "cell_type": "code",
   "execution_count": 12,
   "metadata": {
    "collapsed": true
   },
   "outputs": [],
   "source": [
    "# consider up to 10 solution streams at one time\n",
    "learner.rule_finder.search_algorithm.beam_width = 10\n",
    "\n",
    "# continuous value space is constrained to reduce computation time\n",
    "learner.rule_finder.search_strategy.bound_continuous = True\n",
    "\n",
    "# found rules must cover at least 15 examples\n",
    "learner.rule_finder.general_validator.min_covered_examples = 15\n",
    "\n",
    "# found rules must combine at most 2 selectors (conditions)\n",
    "learner.rule_finder.general_validator.max_rule_length = 2\n",
    "\n",
    "classifier = learner(data)"
   ]
  },
  {
   "cell_type": "markdown",
   "metadata": {},
   "source": [
    "Induced rules can be quickly reviewed and interpreted. They are each of the form ‘if cond then predict class”. That is, a conjunction of selectors followed by the predicted class."
   ]
  },
  {
   "cell_type": "code",
   "execution_count": 13,
   "metadata": {},
   "outputs": [
    {
     "name": "stdout",
     "output_type": "stream",
     "text": [
      "IF feathers!=0 THEN type=bird  [0, 20, 0, 0, 0, 0, 0]\n",
      "IF milk!=0 THEN type=mammal  [0, 0, 0, 0, 0, 41, 0]\n",
      "IF legs==0 AND toothed!=0 THEN type=fish  [0, 0, 13, 0, 0, 0, 3]\n",
      "IF backbone==0 AND domestic==0 THEN type=invertebrate  [0, 0, 0, 7, 10, 0, 0]\n",
      "IF TRUE THEN type=mammal  [4, 20, 13, 8, 10, 41, 5]\n"
     ]
    }
   ],
   "source": [
    "for rule in classifier.rule_list:\n",
    "    print(rule, rule.curr_class_dist.tolist())"
   ]
  },
  {
   "cell_type": "markdown",
   "metadata": {},
   "source": [
    "If no other rules fire, default rule (majority classification) is used. Specific to each individual rule inducer, the application of the default rule varies."
   ]
  }
 ],
 "metadata": {
  "kernelspec": {
   "display_name": "Python [default]",
   "language": "python",
   "name": "python3"
  },
  "language_info": {
   "codemirror_mode": {
    "name": "ipython",
    "version": 3
   },
   "file_extension": ".py",
   "mimetype": "text/x-python",
   "name": "python",
   "nbconvert_exporter": "python",
   "pygments_lexer": "ipython3",
   "version": "3.6.3"
  },
  "latex_envs": {
   "LaTeX_envs_menu_present": true,
   "autocomplete": true,
   "bibliofile": "biblio.bib",
   "cite_by": "apalike",
   "current_citInitial": 1,
   "eqLabelWithNumbers": true,
   "eqNumInitial": 1,
   "hotkeys": {
    "equation": "Ctrl-E",
    "itemize": "Ctrl-I"
   },
   "labels_anchors": false,
   "latex_user_defs": false,
   "report_style_numbering": false,
   "user_envs_cfg": false
  },
  "nbTranslate": {
   "displayLangs": [
    "en",
    "sl"
   ],
   "hotkey": "alt-t",
   "langInMainMenu": true,
   "sourceLang": "sl",
   "targetLang": "en",
   "useGoogleTranslate": true
  }
 },
 "nbformat": 4,
 "nbformat_minor": 2
}
