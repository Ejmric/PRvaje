{
 "cells": [
  {
   "cell_type": "markdown",
   "metadata": {
    "lang": "en"
   },
   "source": [
    "## Using Orange for regression"
   ]
  },
  {
   "cell_type": "code",
   "execution_count": 1,
   "metadata": {
    "collapsed": true
   },
   "outputs": [],
   "source": [
    "import Orange\n",
    "import random"
   ]
  },
  {
   "cell_type": "markdown",
   "metadata": {
    "lang": "en"
   },
   "source": [
    "Regression in Orange is very similar to classification. Both require labeled data. Just like in classification, regression is implemented with learners and regression models (regressors). Regression learners are objects that accept data and return regressors. Regression models are given data items to predict the value of continuous class:"
   ]
  },
  {
   "cell_type": "code",
   "execution_count": 2,
   "metadata": {},
   "outputs": [
    {
     "name": "stdout",
     "output_type": "stream",
     "text": [
      "predicted, observed:\n",
      "30.0, 24.0\n",
      "25.0, 21.6\n",
      "30.6, 34.7\n"
     ]
    }
   ],
   "source": [
    "data = Orange.data.Table(\"housing\")\n",
    "learner = Orange.regression.LinearRegressionLearner()\n",
    "model = learner(data)\n",
    "\n",
    "print(\"predicted, observed:\")\n",
    "for d in data[:3]:\n",
    "    print(\"%.1f, %.1f\" % (model(d)[0], d.get_class()))"
   ]
  },
  {
   "cell_type": "markdown",
   "metadata": {
    "lang": "en"
   },
   "source": [
    "Let us start with regression trees. Below is an example script that builds the tree from data on housing prices and prints out the tree in textual form:"
   ]
  },
  {
   "cell_type": "code",
   "execution_count": 3,
   "metadata": {},
   "outputs": [
    {
     "name": "stdout",
     "output_type": "stream",
     "text": [
      "\n",
      "RM (22.5: 506.0)\n",
      ": <=6.941\n",
      "   LSTAT (19.9: 430.0)\n",
      "   : <=14.4 --> (23.3: 255.0)\n",
      "   : >14.4 --> (15.0: 175.0)\n",
      ": >6.941\n",
      "   RM (37.2: 76.0)\n",
      "   : <=7.437 --> (32.1: 46.0)\n",
      "   : >7.437 --> (45.1: 30.0)\n"
     ]
    }
   ],
   "source": [
    "tree_learner = Orange.regression.SimpleTreeLearner(max_depth=2)\n",
    "tree = tree_learner(data)\n",
    "print(tree.to_string())"
   ]
  },
  {
   "cell_type": "markdown",
   "metadata": {
    "lang": "en"
   },
   "source": [
    "Following is initialization of few other regressors and their prediction of the first five data instances in housing price dataset:"
   ]
  },
  {
   "cell_type": "code",
   "execution_count": 4,
   "metadata": {},
   "outputs": [
    {
     "name": "stdout",
     "output_type": "stream",
     "text": [
      "y    linear regression    rf ridge regression\n",
      "22.2   19.3  20.4  19.5\n",
      "31.6   33.2  30.2  33.2\n",
      "21.7   20.9  20.3  21.0\n",
      "10.2   16.9  12.6  16.8\n",
      "14.0   13.6  15.0  13.5\n"
     ]
    }
   ],
   "source": [
    "random.seed(42)\n",
    "test = Orange.data.Table(data.domain, random.sample(data, 5))\n",
    "train = Orange.data.Table(data.domain, [d for d in data if d not in test])\n",
    "\n",
    "lin = Orange.regression.linear.LinearRegressionLearner()\n",
    "rf = Orange.regression.random_forest.RandomForestRegressionLearner()\n",
    "rf.name = \"rf\"\n",
    "ridge = Orange.regression.RidgeRegressionLearner()\n",
    "\n",
    "learners = [lin, rf, ridge]\n",
    "regressors = [learner(train) for learner in learners]\n",
    "\n",
    "print(\"y   \", \" \".join(\"%5s\" % l.name for l in regressors))\n",
    "\n",
    "for d in test:\n",
    "    print((\"{:<5}\" + \" {:5.1f}\"*len(regressors)).format(\n",
    "        d.get_class(),\n",
    "        *(r(d)[0] for r in regressors)))"
   ]
  },
  {
   "cell_type": "markdown",
   "metadata": {
    "lang": "en"
   },
   "source": [
    "Looks like the housing prices are not that hard to predict"
   ]
  },
  {
   "cell_type": "markdown",
   "metadata": {
    "lang": "en"
   },
   "source": [
    "##### Question 5-4-1\n",
    "Show the way the predicted value changes according to the actual value with a scatter plot. Comment this picture."
   ]
  },
  {
   "cell_type": "code",
   "execution_count": 5,
   "metadata": {
    "collapsed": true
   },
   "outputs": [],
   "source": []
  },
  {
   "cell_type": "markdown",
   "metadata": {
    "lang": "en"
   },
   "source": [
    "##### Question 5-4-2\n",
    "Show how the prediction error changes according to the actual value. Comment this picture."
   ]
  },
  {
   "cell_type": "code",
   "execution_count": 5,
   "metadata": {
    "collapsed": true
   },
   "outputs": [],
   "source": []
  },
  {
   "cell_type": "markdown",
   "metadata": {
    "lang": "en"
   },
   "source": [
    "### Cross-Validation"
   ]
  },
  {
   "cell_type": "markdown",
   "metadata": {
    "lang": "en"
   },
   "source": [
    "Evaluation and scoring methods are available at Orange.evaluation:"
   ]
  },
  {
   "cell_type": "code",
   "execution_count": 5,
   "metadata": {},
   "outputs": [
    {
     "name": "stdout",
     "output_type": "stream",
     "text": [
      "Learner  RMSE  R2\n",
      "linear regression 4.88  0.72\n",
      "rf       3.95  0.82\n",
      "ridge regression 4.91  0.71\n",
      "mean     9.20 -0.00\n"
     ]
    }
   ],
   "source": [
    "lin = Orange.regression.linear.LinearRegressionLearner()\n",
    "rf = Orange.regression.random_forest.RandomForestRegressionLearner()\n",
    "rf.name = \"rf\"\n",
    "ridge = Orange.regression.RidgeRegressionLearner()\n",
    "mean = Orange.regression.MeanLearner()\n",
    "\n",
    "learners = [lin, rf, ridge, mean]\n",
    "\n",
    "res = Orange.evaluation.CrossValidation(data, learners, k=5)\n",
    "rmse = Orange.evaluation.RMSE(res)\n",
    "r2 = Orange.evaluation.R2(res)\n",
    "\n",
    "print(\"Learner  RMSE  R2\")\n",
    "for i in range(len(learners)):\n",
    "    print(\"{:8s} {:.2f} {:5.2f}\".format(learners[i].name, rmse[i], r2[i]))"
   ]
  },
  {
   "cell_type": "markdown",
   "metadata": {
    "lang": "en"
   },
   "source": [
    "Not much difference here. Each regression method has a set of parameters. We have been running them with default parameters, and parameter fitting would help. Also, we have included MeanLearner in the list of our regressors; this regressor simply predicts the mean value from the training set, and is used as a baseline."
   ]
  },
  {
   "cell_type": "markdown",
   "metadata": {
    "lang": "en"
   },
   "source": [
    "## Association rules"
   ]
  },
  {
   "cell_type": "code",
   "execution_count": 6,
   "metadata": {
    "collapsed": true
   },
   "outputs": [
    {
     "ename": "ModuleNotFoundError",
     "evalue": "No module named 'orangecontrib'",
     "output_type": "error",
     "traceback": [
      "\u001b[0;31m---------------------------------------------------------------------------\u001b[0m",
      "\u001b[0;31mModuleNotFoundError\u001b[0m                       Traceback (most recent call last)",
      "\u001b[0;32m<ipython-input-6-8580c1507ca7>\u001b[0m in \u001b[0;36m<module>\u001b[0;34m()\u001b[0m\n\u001b[0;32m----> 1\u001b[0;31m \u001b[0;32mfrom\u001b[0m \u001b[0morangecontrib\u001b[0m\u001b[0;34m.\u001b[0m\u001b[0massociate\u001b[0m\u001b[0;34m.\u001b[0m\u001b[0mfpgrowth\u001b[0m \u001b[0;32mimport\u001b[0m \u001b[0;34m*\u001b[0m\u001b[0;34m\u001b[0m\u001b[0m\n\u001b[0m\u001b[1;32m      2\u001b[0m \u001b[0;32mfrom\u001b[0m \u001b[0mscipy\u001b[0m\u001b[0;34m.\u001b[0m\u001b[0msparse\u001b[0m \u001b[0;32mimport\u001b[0m \u001b[0missparse\u001b[0m\u001b[0;34m\u001b[0m\u001b[0m\n",
      "\u001b[0;31mModuleNotFoundError\u001b[0m: No module named 'orangecontrib'"
     ]
    }
   ],
   "source": [
    "from orangecontrib.associate.fpgrowth import * \n",
    "from scipy.sparse import issparse"
   ]
  },
  {
   "cell_type": "markdown",
   "metadata": {
    "lang": "en"
   },
   "source": [
    "Orange provides two algorithms for induction of association rules, a standard Apriori algorithm for sparse (basket) data analysis and a variant of Apriori for attribute-value data sets. Both algorithms also support mining of frequent itemsets.\n",
    "\n",
    "Let's start with market basket data:"
   ]
  },
  {
   "cell_type": "code",
   "execution_count": 7,
   "metadata": {
    "collapsed": true,
    "run_control": {
     "marked": false
    }
   },
   "outputs": [],
   "source": [
    "data = Orange.data.Table(\"podatki/foodmart.basket\")"
   ]
  },
  {
   "cell_type": "markdown",
   "metadata": {
    "lang": "en"
   },
   "source": [
    "Let's explore the data."
   ]
  },
  {
   "cell_type": "code",
   "execution_count": 8,
   "metadata": {},
   "outputs": [
    {
     "name": "stdout",
     "output_type": "stream",
     "text": [
      "62560\n",
      "<class 'scipy.sparse.csr.csr_matrix'>\n"
     ]
    },
    {
     "data": {
      "text/plain": [
       "[[Pasta=3.000, Soup=2.000, STORE_ID_2=1.000],\n",
       " [Soup=1.000, STORE_ID_2=1.000, Fresh Vegetables=3.000, Milk=3.000, Plastic Utensils=2.000, ...],\n",
       " [STORE_ID_2=1.000, Cheese=2.000, Deodorizers=1.000, Hard Candy=2.000, Jam=2.000, ...],\n",
       " [STORE_ID_2=1.000, Fresh Vegetables=2.000],\n",
       " [STORE_ID_2=1.000, Cleaners=1.000, Cookies=2.000, Eggs=2.000, Preserves=1.000, ...]\n",
       "]"
      ]
     },
     "execution_count": 8,
     "metadata": {},
     "output_type": "execute_result"
    }
   ],
   "source": [
    "print(len(data))\n",
    "print(type(data.X))\n",
    "data[:5]"
   ]
  },
  {
   "cell_type": "markdown",
   "metadata": {
    "lang": "en"
   },
   "source": [
    "We can’t use table data directly; we first have to one-hot transform it.\n",
    "\n",
    "We get a database we can use to find frequent itemsets, and a mapping we will use later to revert the transformation."
   ]
  },
  {
   "cell_type": "code",
   "execution_count": 9,
   "metadata": {
    "scrolled": true
   },
   "outputs": [
    {
     "ename": "NameError",
     "evalue": "name 'OneHot' is not defined",
     "output_type": "error",
     "traceback": [
      "\u001b[0;31m---------------------------------------------------------------------------\u001b[0m",
      "\u001b[0;31mNameError\u001b[0m                                 Traceback (most recent call last)",
      "\u001b[0;32m<ipython-input-9-78a9bdf94e85>\u001b[0m in \u001b[0;36m<module>\u001b[0;34m()\u001b[0m\n\u001b[0;32m----> 1\u001b[0;31m \u001b[0mX\u001b[0m\u001b[0;34m,\u001b[0m \u001b[0mmapping\u001b[0m \u001b[0;34m=\u001b[0m \u001b[0mOneHot\u001b[0m\u001b[0;34m.\u001b[0m\u001b[0mencode\u001b[0m\u001b[0;34m(\u001b[0m\u001b[0mdata\u001b[0m\u001b[0;34m)\u001b[0m\u001b[0;34m\u001b[0m\u001b[0m\n\u001b[0m\u001b[1;32m      2\u001b[0m \u001b[0mX\u001b[0m\u001b[0;34m,\u001b[0m \u001b[0mmapping\u001b[0m\u001b[0;34m\u001b[0m\u001b[0m\n",
      "\u001b[0;31mNameError\u001b[0m: name 'OneHot' is not defined"
     ]
    }
   ],
   "source": [
    "X, mapping = OneHot.encode(data)\n",
    "X, mapping"
   ]
  },
  {
   "cell_type": "markdown",
   "metadata": {
    "lang": "en"
   },
   "source": [
    "We can use ```decode``` to link each index with an item's name."
   ]
  },
  {
   "cell_type": "code",
   "execution_count": 10,
   "metadata": {
    "collapsed": true
   },
   "outputs": [
    {
     "ename": "NameError",
     "evalue": "name 'OneHot' is not defined",
     "output_type": "error",
     "traceback": [
      "\u001b[0;31m---------------------------------------------------------------------------\u001b[0m",
      "\u001b[0;31mNameError\u001b[0m                                 Traceback (most recent call last)",
      "\u001b[0;32m<ipython-input-10-78fcf077053f>\u001b[0m in \u001b[0;36m<module>\u001b[0;34m()\u001b[0m\n\u001b[1;32m      1\u001b[0m names = {item: ('{}').format(var.name, val)\n\u001b[0;32m----> 2\u001b[0;31m                  for item, var, val in OneHot.decode(mapping, data, mapping)}\n\u001b[0m",
      "\u001b[0;31mNameError\u001b[0m: name 'OneHot' is not defined"
     ]
    }
   ],
   "source": [
    "names = {item: ('{}').format(var.name, val)\n",
    "                 for item, var, val in OneHot.decode(mapping, data, mapping)}"
   ]
  },
  {
   "cell_type": "markdown",
   "metadata": {
    "lang": "en"
   },
   "source": [
    "We want itemsets with low support, since it will be hard to find prevailing rules for more than 62,000 transactions."
   ]
  },
  {
   "cell_type": "code",
   "execution_count": 11,
   "metadata": {},
   "outputs": [
    {
     "ename": "NameError",
     "evalue": "name 'frequent_itemsets' is not defined",
     "output_type": "error",
     "traceback": [
      "\u001b[0;31m---------------------------------------------------------------------------\u001b[0m",
      "\u001b[0;31mNameError\u001b[0m                                 Traceback (most recent call last)",
      "\u001b[0;32m<ipython-input-11-670fab3e6bf0>\u001b[0m in \u001b[0;36m<module>\u001b[0;34m()\u001b[0m\n\u001b[1;32m      1\u001b[0m \u001b[0mitemsets\u001b[0m \u001b[0;34m=\u001b[0m \u001b[0;34m{\u001b[0m\u001b[0;34m}\u001b[0m\u001b[0;34m\u001b[0m\u001b[0m\n\u001b[0;32m----> 2\u001b[0;31m \u001b[0;32mfor\u001b[0m \u001b[0mitemset\u001b[0m\u001b[0;34m,\u001b[0m \u001b[0msupport\u001b[0m \u001b[0;32min\u001b[0m \u001b[0mfrequent_itemsets\u001b[0m\u001b[0;34m(\u001b[0m\u001b[0mX\u001b[0m\u001b[0;34m,\u001b[0m \u001b[0;36m0.01\u001b[0m\u001b[0;34m/\u001b[0m\u001b[0;36m100\u001b[0m\u001b[0;34m)\u001b[0m\u001b[0;34m:\u001b[0m\u001b[0;34m\u001b[0m\u001b[0m\n\u001b[0m\u001b[1;32m      3\u001b[0m     \u001b[0mitemsets\u001b[0m\u001b[0;34m[\u001b[0m\u001b[0mitemset\u001b[0m\u001b[0;34m]\u001b[0m \u001b[0;34m=\u001b[0m \u001b[0msupport\u001b[0m\u001b[0;34m\u001b[0m\u001b[0m\n\u001b[1;32m      4\u001b[0m \u001b[0mlen\u001b[0m\u001b[0;34m(\u001b[0m\u001b[0mitemsets\u001b[0m\u001b[0;34m)\u001b[0m\u001b[0;34m\u001b[0m\u001b[0m\n",
      "\u001b[0;31mNameError\u001b[0m: name 'frequent_itemsets' is not defined"
     ]
    }
   ],
   "source": [
    "itemsets = {}\n",
    "for itemset, support in frequent_itemsets(X, 0.01/100):\n",
    "    itemsets[itemset] = support\n",
    "len(itemsets)"
   ]
  },
  {
   "cell_type": "markdown",
   "metadata": {
    "lang": "en"
   },
   "source": [
    "Now we can generate all association rules that have at least 70% confidence (i.e. classification rules):"
   ]
  },
  {
   "cell_type": "code",
   "execution_count": 12,
   "metadata": {},
   "outputs": [
    {
     "ename": "NameError",
     "evalue": "name 'association_rules' is not defined",
     "output_type": "error",
     "traceback": [
      "\u001b[0;31m---------------------------------------------------------------------------\u001b[0m",
      "\u001b[0;31mNameError\u001b[0m                                 Traceback (most recent call last)",
      "\u001b[0;32m<ipython-input-12-c10156d78b46>\u001b[0m in \u001b[0;36m<module>\u001b[0;34m()\u001b[0m\n\u001b[0;32m----> 1\u001b[0;31m \u001b[0;32mfor\u001b[0m \u001b[0mrule\u001b[0m \u001b[0;32min\u001b[0m \u001b[0massociation_rules\u001b[0m\u001b[0;34m(\u001b[0m\u001b[0mitemsets\u001b[0m\u001b[0;34m,\u001b[0m \u001b[0;36m0.7\u001b[0m\u001b[0;34m)\u001b[0m\u001b[0;34m:\u001b[0m\u001b[0;34m\u001b[0m\u001b[0m\n\u001b[0m\u001b[1;32m      2\u001b[0m         \u001b[0mleft\u001b[0m\u001b[0;34m,\u001b[0m \u001b[0mright\u001b[0m\u001b[0;34m,\u001b[0m \u001b[0msupport\u001b[0m\u001b[0;34m,\u001b[0m \u001b[0mconfidence\u001b[0m \u001b[0;34m=\u001b[0m \u001b[0mrule\u001b[0m\u001b[0;34m\u001b[0m\u001b[0m\n\u001b[1;32m      3\u001b[0m         \u001b[0mleft_str\u001b[0m \u001b[0;34m=\u001b[0m  \u001b[0;34m', '\u001b[0m\u001b[0;34m.\u001b[0m\u001b[0mjoin\u001b[0m\u001b[0;34m(\u001b[0m\u001b[0mnames\u001b[0m\u001b[0;34m[\u001b[0m\u001b[0mi\u001b[0m\u001b[0;34m]\u001b[0m \u001b[0;32mfor\u001b[0m \u001b[0mi\u001b[0m \u001b[0;32min\u001b[0m \u001b[0msorted\u001b[0m\u001b[0;34m(\u001b[0m\u001b[0mleft\u001b[0m\u001b[0;34m)\u001b[0m\u001b[0;34m)\u001b[0m\u001b[0;34m\u001b[0m\u001b[0m\n\u001b[1;32m      4\u001b[0m         \u001b[0mright_str\u001b[0m \u001b[0;34m=\u001b[0m \u001b[0;34m', '\u001b[0m\u001b[0;34m.\u001b[0m\u001b[0mjoin\u001b[0m\u001b[0;34m(\u001b[0m\u001b[0mnames\u001b[0m\u001b[0;34m[\u001b[0m\u001b[0mi\u001b[0m\u001b[0;34m]\u001b[0m \u001b[0;32mfor\u001b[0m \u001b[0mi\u001b[0m \u001b[0;32min\u001b[0m \u001b[0msorted\u001b[0m\u001b[0;34m(\u001b[0m\u001b[0mright\u001b[0m\u001b[0;34m)\u001b[0m\u001b[0;34m)\u001b[0m\u001b[0;34m\u001b[0m\u001b[0m\n\u001b[1;32m      5\u001b[0m         \u001b[0mprint\u001b[0m\u001b[0;34m(\u001b[0m\u001b[0mleft_str\u001b[0m\u001b[0;34m+\u001b[0m\u001b[0;34m\" -> \"\u001b[0m\u001b[0;34m+\u001b[0m\u001b[0mright_str\u001b[0m\u001b[0;34m)\u001b[0m\u001b[0;34m\u001b[0m\u001b[0m\n",
      "\u001b[0;31mNameError\u001b[0m: name 'association_rules' is not defined"
     ]
    }
   ],
   "source": [
    "for rule in association_rules(itemsets, 0.7):\n",
    "        left, right, support, confidence = rule\n",
    "        left_str =  ', '.join(names[i] for i in sorted(left))\n",
    "        right_str = ', '.join(names[i] for i in sorted(right))\n",
    "        print(left_str+\" -> \"+right_str)"
   ]
  },
  {
   "cell_type": "markdown",
   "metadata": {
    "lang": "en"
   },
   "source": [
    "##### Question 5-4-3\n",
    "Filter rules. Find all the rules that predict the purchase of cheese."
   ]
  },
  {
   "cell_type": "code",
   "execution_count": 13,
   "metadata": {
    "collapsed": true
   },
   "outputs": [],
   "source": []
  }
 ],
 "metadata": {
  "kernelspec": {
   "display_name": "Python 3",
   "language": "python",
   "name": "python3"
  },
  "language_info": {
   "codemirror_mode": {
    "name": "ipython",
    "version": 3
   },
   "file_extension": ".py",
   "mimetype": "text/x-python",
   "name": "python",
   "nbconvert_exporter": "python",
   "pygments_lexer": "ipython3",
   "version": "3.6.3"
  },
  "nbTranslate": {
   "displayLangs": [
    "sl",
    "en"
   ],
   "hotkey": "alt-t",
   "langInMainMenu": true,
   "sourceLang": "sl",
   "targetLang": "en",
   "useGoogleTranslate": true
  }
 },
 "nbformat": 4,
 "nbformat_minor": 2
}
