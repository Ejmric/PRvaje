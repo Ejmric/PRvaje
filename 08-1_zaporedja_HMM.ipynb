{
 "cells": [
  {
   "cell_type": "markdown",
   "metadata": {},
   "source": [
    "# Zaporedja"
   ]
  },
  {
   "cell_type": "markdown",
   "metadata": {},
   "source": [
    "## Skriti Markovi modeli"
   ]
  },
  {
   "cell_type": "markdown",
   "metadata": {},
   "source": [
    "Skriti markov model (ang. <i>Hidden Markov model</i> - HMM) je generativni model, ki ponazarja zaporedje diskretnih podatkov. Je razširitev Markovih verig (ang. <i>Markov chain</i>), na način da so opazovane spremenljivke odvisne od trenutnega skritega stanja.\n",
    "\n",
    "Denimo, da opazujemo mete kovanca, ki jih izvaja druga oseba. Na voljo ima dva kovanca: pošten (<b>F</b> - fair) in utežen (<b>L</b> - loaded). Pri vsakem metu lahko opazujemo le izid (<b>o</b> ali <b>-</b>), ne pa tudi kovanca. Skriti Markov model je zapis tovrstnega problema, s poljubnim končnim številom tako <i>skritih stanj</i> in kot tudi <i>opazovanih spremenljivk</i> (abecede). \n",
    "\n",
    "Primer zaporedja skritih stanj in opazovanih spremenljivk:\n",
    "\n",
    "<code>\n",
    "<font color=\"gray\">S:     FFFFFFLLLLLFFFFFLLLLFFFFLL...</font> \n",
    "X:     -o-o-ooooo-o--o-ooo-oo-ooo...\n",
    "</code>\n",
    "<br/>\n",
    "\n",
    "Celoten model je podan z naborom verjetnosti. Te predstavljajo parametre modela.\n",
    "\n",
    "Verjenosto opazovanih spremenljivk $X$ v koraku $i$ glede trenutno stanje $S$:\n",
    "\n",
    "\n",
    "$$ P(X_i=o \\ | \\ S_i = F) = \\frac{1}{2},\\ P(X_i = - \\ | \\ S_i=F) = \\frac{1}{2}$$\n",
    "\n",
    "$$ P(X_i=o \\ | \\ S_i = L) = \\frac{19}{20},\\ P(X_i=- \\ | \\ S_i=L) = \\frac{1}{20}$$\n",
    "\n",
    "Za vsako skrito stanje je torej definirana verjetnostna porazdelitev opazovanih spremenljivk.\n",
    "\n",
    "\n",
    "V praktičnih primerih uporabe HMM se stanja ohranjajo. Verjetnost ohranitve stanja je torej navadno večja od zamenjave stanja. Verjetnosti prehodov podajajo drugo skupino parametrov.\n",
    "\n",
    "$$ P(S_{i+1}=F | S_{i}=F) = \\frac{19}{20},\\ P(S_{i+1}=L | S_{i}=F) = \\frac{1}{20} $$\n",
    "\n",
    "$$ P(S_{i+1}=L | S_{i}=L) = \\frac{19}{20},\\ P(S_{i+1}=F | S_{i}=L) = \\frac{1}{20} $$\n",
    "\n",
    "\n",
    "Navadno definiramo tudi začetne verjetnosti skritih stanj (verjetnost v koraku $i=0$): \n",
    "\n",
    "$$ P(S_0 = F) = \\frac{1}{2}, \\ P(S_0 = L) = \\frac{1}{2} $$\n",
    "\n",
    "\n",
    "<br/>\n",
    "<br/>\n",
    "Tako definiran model uporabljamo za praktične naloge, kot so:\n",
    "* <b>generiranje zaporedij iz danega modela,</b>\n",
    "\n",
    "\n",
    "* <b>učenje parametrov modela iz danih podatkov:</b>\n",
    "    * <b>podana so skrita stanja in opazovane spremenljivke (štetje pojavitev)</b>\n",
    "    * podane so samo opazovanje spremenljivke in število skritih stanj (algoritem Baum-Welch)\n",
    "\n",
    "\n",
    "* napoved skritih stanj za dano zaporedje opazovanih spremeljivk pri danem modelu (algoritma Viterbi ter Posterior-decoding) \n",
    "\n",
    "\n",
    "Primeri praktičnih problemov, ki jih rešujemo z uporabo Skritih Markovih modelov:\n",
    "* prepoznavanje in generiranje govora,\n",
    "* strojno prevajanje,\n",
    "* prepoznavanje pisave,\n",
    "* segmentacija besedil (prepoznavanje besednih vrst),\n",
    "* analiza biološki zaporedij (iskanje genov, poravnava zaporedij),\n",
    "* kriptoanaliza,\n",
    "* ...\n"
   ]
  },
  {
   "cell_type": "markdown",
   "metadata": {
    "collapsed": true
   },
   "source": [
    "Model lahko zapišemo s slovarjem slovarjev. Na primer, za metanje kovancev:"
   ]
  },
  {
   "cell_type": "markdown",
   "metadata": {},
   "source": [
    "<img src=\"slike/hmm-loaded-coin.jpg\" width=400/>"
   ]
  },
  {
   "cell_type": "code",
   "execution_count": 1,
   "metadata": {},
   "outputs": [],
   "source": [
    "# Transition matrix\n",
    "T = {\"F\": {\"F\": 0.95, \"L\": 0.05},\n",
    "     \"L\": {\"F\": 0.05, \"L\": 0.95}}\n",
    "\n",
    "# Emission matrix\n",
    "E = {\"F\": {\"o\": 0.5, \"-\": 0.5},\n",
    "     \"L\": {\"o\": 0.95, \"-\": 0.05}}\n",
    "start = \"F\""
   ]
  },
  {
   "cell_type": "markdown",
   "metadata": {},
   "source": [
    "### Generiranje zaporedij"
   ]
  },
  {
   "cell_type": "markdown",
   "metadata": {},
   "source": [
    "<font color=\"green\"><b>Naredi sam/a.</b></font> Zapiši funkcijo `generate_hmm_sequence`, ki sprejme skriti Markov model in vrne zaporedje dolžine n (skrito in vidno zaporedje).\n",
    "\n",
    "Še prej zapišite funkcijo `weighted_choice`, ki na podlagi uteži (v vrednosti) naključno izbere vrednost (v ključu slovarja)."
   ]
  },
  {
   "cell_type": "code",
   "execution_count": 2,
   "metadata": {},
   "outputs": [],
   "source": [
    "import random\n",
    "random.seed(42)\n",
    "\n",
    "def weighted_choice(weighted_items):\n",
    "    \"\"\"Random choice given the list of elements and their weights\n",
    "        example weighted_items: {\"F\": 0.95, \"L\": 0.05}\n",
    "    \"\"\"\n",
    "    \n",
    "    pass"
   ]
  },
  {
   "cell_type": "markdown",
   "metadata": {},
   "source": [
    "Zdaj pa funkcijo generate_hmm_sequence:"
   ]
  },
  {
   "cell_type": "code",
   "execution_count": 3,
   "metadata": {},
   "outputs": [],
   "source": [
    "def generate_hmm_sequence(h, T, E, n):\n",
    "    \"\"\"\n",
    "    h: given start state,\n",
    "    T: transition probabilities\n",
    "    E: emission probabilities\n",
    "    n: sequence length\n",
    "    \n",
    "    return:\n",
    "        hidden_sequence\n",
    "        observable_sequence \n",
    "    \"\"\"\n",
    "    pass"
   ]
  },
  {
   "cell_type": "markdown",
   "metadata": {},
   "source": [
    "Rešitev lahko pogledate v rešitve/HMM.ipynb."
   ]
  },
  {
   "cell_type": "code",
   "execution_count": 4,
   "metadata": {},
   "outputs": [
    {
     "name": "stderr",
     "output_type": "stream",
     "text": [
      "ERROR:root:File `'rešitve/HMM.ipynb.py'` not found.\n"
     ]
    }
   ],
   "source": [
    "%run 'rešitve/HMM.ipynb'"
   ]
  },
  {
   "cell_type": "markdown",
   "metadata": {},
   "source": [
    "Generiraj nekaj zaporedij različnih dolžin."
   ]
  },
  {
   "cell_type": "code",
   "execution_count": 5,
   "metadata": {},
   "outputs": [
    {
     "ename": "TypeError",
     "evalue": "'NoneType' object is not iterable",
     "output_type": "error",
     "traceback": [
      "\u001b[0;31m---------------------------------------------------------------------------\u001b[0m",
      "\u001b[0;31mTypeError\u001b[0m                                 Traceback (most recent call last)",
      "\u001b[0;32m<ipython-input-5-b7ac19a359e0>\u001b[0m in \u001b[0;36m<module>\u001b[0;34m()\u001b[0m\n\u001b[0;32m----> 1\u001b[0;31m \u001b[0mlist\u001b[0m\u001b[0;34m(\u001b[0m\u001b[0mgenerate_hmm_sequence\u001b[0m\u001b[0;34m(\u001b[0m\u001b[0;34m'F'\u001b[0m\u001b[0;34m,\u001b[0m \u001b[0mT\u001b[0m\u001b[0;34m,\u001b[0m \u001b[0mE\u001b[0m\u001b[0;34m,\u001b[0m \u001b[0;36m5\u001b[0m\u001b[0;34m)\u001b[0m\u001b[0;34m)\u001b[0m\u001b[0;34m\u001b[0m\u001b[0m\n\u001b[0m",
      "\u001b[0;31mTypeError\u001b[0m: 'NoneType' object is not iterable"
     ]
    }
   ],
   "source": [
    "list(generate_hmm_sequence('F', T, E, 5))"
   ]
  },
  {
   "cell_type": "code",
   "execution_count": 6,
   "metadata": {},
   "outputs": [
    {
     "ename": "TypeError",
     "evalue": "'NoneType' object is not iterable",
     "output_type": "error",
     "traceback": [
      "\u001b[0;31m---------------------------------------------------------------------------\u001b[0m",
      "\u001b[0;31mTypeError\u001b[0m                                 Traceback (most recent call last)",
      "\u001b[0;32m<ipython-input-6-d419da9b7f30>\u001b[0m in \u001b[0;36m<module>\u001b[0;34m()\u001b[0m\n\u001b[0;32m----> 1\u001b[0;31m \u001b[0mlist\u001b[0m\u001b[0;34m(\u001b[0m\u001b[0mgenerate_hmm_sequence\u001b[0m\u001b[0;34m(\u001b[0m\u001b[0;34m'F'\u001b[0m\u001b[0;34m,\u001b[0m \u001b[0mT\u001b[0m\u001b[0;34m,\u001b[0m \u001b[0mE\u001b[0m\u001b[0;34m,\u001b[0m \u001b[0;36m20\u001b[0m\u001b[0;34m)\u001b[0m\u001b[0;34m)\u001b[0m\u001b[0;34m\u001b[0m\u001b[0m\n\u001b[0m",
      "\u001b[0;31mTypeError\u001b[0m: 'NoneType' object is not iterable"
     ]
    }
   ],
   "source": [
    "list(generate_hmm_sequence('F', T, E, 20))"
   ]
  },
  {
   "cell_type": "markdown",
   "metadata": {},
   "source": [
    "Model poskusite uporabiti tudi na primeru goljufive igralnice. Kovanec smo zamenjali z igralno kocko, ki vrača vrednosti 1-6.  "
   ]
  },
  {
   "cell_type": "markdown",
   "metadata": {},
   "source": [
    "<img src=\"slike/hmm-loaded-dice.jpg\" width=300/>"
   ]
  },
  {
   "cell_type": "code",
   "execution_count": 7,
   "metadata": {},
   "outputs": [],
   "source": [
    "# Alphabet\n",
    "A = [\"1\", \"2\", \"3\", \"4\", \"5\", \"6\"]\n",
    "\n",
    "# Emission probabilities\n",
    "E = {\"F\": {a: 1/6. for a in A},\n",
    "     \"L\": {a: 1/10. if a != \"6\" else 0.5 for a in A}}\n",
    "\n",
    "# Transition probabilities\n",
    "T =  {0:  {0: 0, \"F\": 0.5, \"L\": 0.5},\n",
    "     \"F\": {0: 0, \"F\": 0.95, \"L\": 0.05},\n",
    "     \"L\": {0: 0, \"F\": 0.1, \"L\": 0.9}}\n",
    "start = \"F\""
   ]
  },
  {
   "cell_type": "code",
   "execution_count": 8,
   "metadata": {},
   "outputs": [
    {
     "ename": "TypeError",
     "evalue": "'NoneType' object is not iterable",
     "output_type": "error",
     "traceback": [
      "\u001b[0;31m---------------------------------------------------------------------------\u001b[0m",
      "\u001b[0;31mTypeError\u001b[0m                                 Traceback (most recent call last)",
      "\u001b[0;32m<ipython-input-8-b7ac19a359e0>\u001b[0m in \u001b[0;36m<module>\u001b[0;34m()\u001b[0m\n\u001b[0;32m----> 1\u001b[0;31m \u001b[0mlist\u001b[0m\u001b[0;34m(\u001b[0m\u001b[0mgenerate_hmm_sequence\u001b[0m\u001b[0;34m(\u001b[0m\u001b[0;34m'F'\u001b[0m\u001b[0;34m,\u001b[0m \u001b[0mT\u001b[0m\u001b[0;34m,\u001b[0m \u001b[0mE\u001b[0m\u001b[0;34m,\u001b[0m \u001b[0;36m5\u001b[0m\u001b[0;34m)\u001b[0m\u001b[0;34m)\u001b[0m\u001b[0;34m\u001b[0m\u001b[0m\n\u001b[0m",
      "\u001b[0;31mTypeError\u001b[0m: 'NoneType' object is not iterable"
     ]
    }
   ],
   "source": [
    "list(generate_hmm_sequence('F', T, E, 5))"
   ]
  },
  {
   "cell_type": "code",
   "execution_count": 9,
   "metadata": {},
   "outputs": [
    {
     "ename": "TypeError",
     "evalue": "'NoneType' object is not iterable",
     "output_type": "error",
     "traceback": [
      "\u001b[0;31m---------------------------------------------------------------------------\u001b[0m",
      "\u001b[0;31mTypeError\u001b[0m                                 Traceback (most recent call last)",
      "\u001b[0;32m<ipython-input-9-6825026da66d>\u001b[0m in \u001b[0;36m<module>\u001b[0;34m()\u001b[0m\n\u001b[0;32m----> 1\u001b[0;31m \u001b[0mlist\u001b[0m\u001b[0;34m(\u001b[0m\u001b[0mgenerate_hmm_sequence\u001b[0m\u001b[0;34m(\u001b[0m\u001b[0;34m'F'\u001b[0m\u001b[0;34m,\u001b[0m \u001b[0mT\u001b[0m\u001b[0;34m,\u001b[0m \u001b[0mE\u001b[0m\u001b[0;34m,\u001b[0m \u001b[0;36m40\u001b[0m\u001b[0;34m)\u001b[0m\u001b[0;34m)\u001b[0m\u001b[0;34m\u001b[0m\u001b[0m\n\u001b[0m",
      "\u001b[0;31mTypeError\u001b[0m: 'NoneType' object is not iterable"
     ]
    }
   ],
   "source": [
    "list(generate_hmm_sequence('F', T, E, 40))"
   ]
  },
  {
   "cell_type": "markdown",
   "metadata": {},
   "source": [
    "### Učenje parametrov modela iz podatkov\n",
    "\n",
    "Napišite funkcijo `learn_hmm`, ki bo sprejela vidno in skrito zaporedje, ter vrnila parametre skritega Markovega modela (slovarja `T` in `E`)."
   ]
  },
  {
   "cell_type": "code",
   "execution_count": 10,
   "metadata": {},
   "outputs": [],
   "source": [
    "from collections import Counter\n",
    "\n",
    "def normalize(dic, eps=1e-8):\n",
    "    \"\"\"\n",
    "    Normalize probabilities of items in a dictionary `dic`.\n",
    "    Correct probabilities with a small constant to prevent probability 0.\n",
    "    \n",
    "    dic = {\"o\": 90, \"-\": 10}\n",
    "    \n",
    "    return \n",
    "        dic = {\"o\": 0.9, \"-\": 0.1}\n",
    "    \"\"\"\n",
    "    pass\n",
    "\n",
    "\n",
    "def learn_hmm(h, x):\n",
    "    \"\"\"\n",
    "    h: hidden sequence\n",
    "    x: observable sequence\n",
    "    \"\"\"\n",
    "    \n",
    "    return T, E"
   ]
  },
  {
   "cell_type": "markdown",
   "metadata": {},
   "source": [
    "Rešitev lahko pogledate v rešitve/HMM.ipynb."
   ]
  },
  {
   "cell_type": "code",
   "execution_count": 11,
   "metadata": {},
   "outputs": [
    {
     "name": "stderr",
     "output_type": "stream",
     "text": [
      "ERROR:root:File `'rešitve/HMM.ipynb.py'` not found.\n"
     ]
    }
   ],
   "source": [
    "%run 'rešitve/HMM.ipynb'"
   ]
  },
  {
   "cell_type": "code",
   "execution_count": 12,
   "metadata": {},
   "outputs": [
    {
     "ename": "TypeError",
     "evalue": "'NoneType' object is not iterable",
     "output_type": "error",
     "traceback": [
      "\u001b[0;31m---------------------------------------------------------------------------\u001b[0m",
      "\u001b[0;31mTypeError\u001b[0m                                 Traceback (most recent call last)",
      "\u001b[0;32m<ipython-input-12-731639424f0c>\u001b[0m in \u001b[0;36m<module>\u001b[0;34m()\u001b[0m\n\u001b[1;32m      1\u001b[0m \u001b[0mn\u001b[0m \u001b[0;34m=\u001b[0m \u001b[0;36m40\u001b[0m\u001b[0;34m\u001b[0m\u001b[0m\n\u001b[0;32m----> 2\u001b[0;31m \u001b[0mh\u001b[0m\u001b[0;34m,\u001b[0m \u001b[0mx\u001b[0m \u001b[0;34m=\u001b[0m \u001b[0mzip\u001b[0m\u001b[0;34m(\u001b[0m\u001b[0;34m*\u001b[0m\u001b[0mlist\u001b[0m\u001b[0;34m(\u001b[0m\u001b[0mgenerate_hmm_sequence\u001b[0m\u001b[0;34m(\u001b[0m\u001b[0;34m'F'\u001b[0m\u001b[0;34m,\u001b[0m \u001b[0mT\u001b[0m\u001b[0;34m,\u001b[0m \u001b[0mE\u001b[0m\u001b[0;34m,\u001b[0m \u001b[0mn\u001b[0m\u001b[0;34m)\u001b[0m\u001b[0;34m)\u001b[0m\u001b[0;34m)\u001b[0m\u001b[0;34m\u001b[0m\u001b[0m\n\u001b[0m",
      "\u001b[0;31mTypeError\u001b[0m: 'NoneType' object is not iterable"
     ]
    }
   ],
   "source": [
    "n = 40\n",
    "h, x = zip(*list(generate_hmm_sequence('F', T, E, n)))"
   ]
  },
  {
   "cell_type": "code",
   "execution_count": 13,
   "metadata": {},
   "outputs": [
    {
     "ename": "NameError",
     "evalue": "name 'h' is not defined",
     "output_type": "error",
     "traceback": [
      "\u001b[0;31m---------------------------------------------------------------------------\u001b[0m",
      "\u001b[0;31mNameError\u001b[0m                                 Traceback (most recent call last)",
      "\u001b[0;32m<ipython-input-13-88a310a8e988>\u001b[0m in \u001b[0;36m<module>\u001b[0;34m()\u001b[0m\n\u001b[1;32m      1\u001b[0m \u001b[0;31m# Estimated parameters from data\u001b[0m\u001b[0;34m\u001b[0m\u001b[0;34m\u001b[0m\u001b[0m\n\u001b[0;32m----> 2\u001b[0;31m \u001b[0mT_est\u001b[0m\u001b[0;34m,\u001b[0m \u001b[0mE_est\u001b[0m \u001b[0;34m=\u001b[0m \u001b[0mlearn_hmm\u001b[0m\u001b[0;34m(\u001b[0m\u001b[0mh\u001b[0m\u001b[0;34m,\u001b[0m \u001b[0mx\u001b[0m\u001b[0;34m)\u001b[0m\u001b[0;34m\u001b[0m\u001b[0m\n\u001b[0m",
      "\u001b[0;31mNameError\u001b[0m: name 'h' is not defined"
     ]
    }
   ],
   "source": [
    "# Estimated parameters from data\n",
    "T_est, E_est = learn_hmm(h, x)"
   ]
  },
  {
   "cell_type": "code",
   "execution_count": 14,
   "metadata": {},
   "outputs": [
    {
     "ename": "NameError",
     "evalue": "name 'T_est' is not defined",
     "output_type": "error",
     "traceback": [
      "\u001b[0;31m---------------------------------------------------------------------------\u001b[0m",
      "\u001b[0;31mNameError\u001b[0m                                 Traceback (most recent call last)",
      "\u001b[0;32m<ipython-input-14-86299011f15e>\u001b[0m in \u001b[0;36m<module>\u001b[0;34m()\u001b[0m\n\u001b[0;32m----> 1\u001b[0;31m \u001b[0mT_est\u001b[0m\u001b[0;34m\u001b[0m\u001b[0m\n\u001b[0m",
      "\u001b[0;31mNameError\u001b[0m: name 'T_est' is not defined"
     ]
    }
   ],
   "source": [
    "T_est"
   ]
  },
  {
   "cell_type": "code",
   "execution_count": 15,
   "metadata": {},
   "outputs": [
    {
     "ename": "NameError",
     "evalue": "name 'E_est' is not defined",
     "output_type": "error",
     "traceback": [
      "\u001b[0;31m---------------------------------------------------------------------------\u001b[0m",
      "\u001b[0;31mNameError\u001b[0m                                 Traceback (most recent call last)",
      "\u001b[0;32m<ipython-input-15-865fe85fe9c1>\u001b[0m in \u001b[0;36m<module>\u001b[0;34m()\u001b[0m\n\u001b[0;32m----> 1\u001b[0;31m \u001b[0mE_est\u001b[0m\u001b[0;34m\u001b[0m\u001b[0m\n\u001b[0m",
      "\u001b[0;31mNameError\u001b[0m: name 'E_est' is not defined"
     ]
    }
   ],
   "source": [
    "E_est"
   ]
  },
  {
   "cell_type": "markdown",
   "metadata": {},
   "source": [
    "Primerjamo z dejanskimi:"
   ]
  },
  {
   "cell_type": "code",
   "execution_count": 16,
   "metadata": {},
   "outputs": [
    {
     "data": {
      "text/plain": [
       "{0: {0: 0, 'F': 0.5, 'L': 0.5},\n",
       " 'F': {0: 0, 'F': 0.95, 'L': 0.05},\n",
       " 'L': {0: 0, 'F': 0.1, 'L': 0.9}}"
      ]
     },
     "execution_count": 16,
     "metadata": {},
     "output_type": "execute_result"
    }
   ],
   "source": [
    "T"
   ]
  },
  {
   "cell_type": "code",
   "execution_count": 17,
   "metadata": {},
   "outputs": [
    {
     "data": {
      "text/plain": [
       "{'F': {'1': 0.16666666666666666,\n",
       "  '2': 0.16666666666666666,\n",
       "  '3': 0.16666666666666666,\n",
       "  '4': 0.16666666666666666,\n",
       "  '5': 0.16666666666666666,\n",
       "  '6': 0.16666666666666666},\n",
       " 'L': {'1': 0.1, '2': 0.1, '3': 0.1, '4': 0.1, '5': 0.1, '6': 0.5}}"
      ]
     },
     "execution_count": 17,
     "metadata": {},
     "output_type": "execute_result"
    }
   ],
   "source": [
    "E"
   ]
  },
  {
   "cell_type": "markdown",
   "metadata": {},
   "source": [
    "### Viterbijev algoritem\n",
    "\n",
    "Algoritem za iskanje najverjetnejšega zaporedja skritih stanj (Viterbi).\n",
    "\n",
    "Zaporedja, s katerimi delamo, so lahko zelo dolga. Množenje (majhnih) verjetnosti nas lahko hitro privede do napake *underflow*. Težavi se izognemo tako, da namesto množenja verjetnosti, seštevamo logaritme verjetnosti."
   ]
  },
  {
   "cell_type": "code",
   "execution_count": 18,
   "metadata": {},
   "outputs": [],
   "source": [
    "import math\n",
    "def logmv(a):\n",
    "    min_val = 0.0000000001\n",
    "    return math.log(max(a, min_val))\n",
    "\n",
    "def viterbi_log(s, hmm):\n",
    "    t, e = hmm\n",
    "\n",
    "    # seznam skritih stanj\n",
    "    zh = set()\n",
    "    for h, tmpd in e.items():\n",
    "        zh.add(h)\n",
    "    zh = [0] + list(zh)\n",
    "\n",
    "    # Create table V\n",
    "    V = [{} for i in range(len(s)+1)]\n",
    "    ptr = [{} for i in range(len(s)+1)]\n",
    "\n",
    "    # Initialize i = 0; V(0, 0) = 1; V(k, 0) = 0 for k > 0\n",
    "    for k in zh:\n",
    "        V[0][k] = logmv(0.0) #t[0][k]*e[k][s[0]]\n",
    "    V[0][0] = logmv(1.0)\n",
    "\n",
    "    # for 1 = 1 : n, compute\n",
    "    for i in range(1, len(s)+1):\n",
    "        for l in zh:\n",
    "            vals = [(V[i-1][k] + logmv(t[k].get(l, 0.0)), k) for k in zh]\n",
    "            max_val, max_k = max(vals)\n",
    "            V[i][l] = logmv(e.get(l, {}).get(s[i-1], 0.0)) + max_val\n",
    "            ptr[i][l] = max_k\n",
    "\n",
    "    # trace back\n",
    "    pi = []\n",
    "    pi_L = max([(V[-1][k], k) for k in zh])[1]\n",
    "    pi.append(pi_L)\n",
    "\n",
    "    for p in ptr[-1:1:-1]:\n",
    "        pi.append(p[pi[-1]])\n",
    "\n",
    "    pi.reverse()\n",
    "    return V, zh, ptr, \"\".join(pi)"
   ]
  },
  {
   "cell_type": "markdown",
   "metadata": {},
   "source": [
    "Pokliči funkcijo, ki za dano zaporedje x in za dani model (T in E) vrne najbolj verjetno skrito pot (h_najv).\n",
    "\n",
    "Primerjaj jo z dejansko skrito potjo."
   ]
  },
  {
   "cell_type": "code",
   "execution_count": 19,
   "metadata": {},
   "outputs": [
    {
     "ename": "TypeError",
     "evalue": "type object argument after * must be an iterable, not NoneType",
     "output_type": "error",
     "traceback": [
      "\u001b[0;31m---------------------------------------------------------------------------\u001b[0m",
      "\u001b[0;31mTypeError\u001b[0m                                 Traceback (most recent call last)",
      "\u001b[0;32m<ipython-input-19-e38d3b56ba64>\u001b[0m in \u001b[0;36m<module>\u001b[0;34m()\u001b[0m\n\u001b[1;32m     15\u001b[0m \u001b[0ms\u001b[0m \u001b[0;34m=\u001b[0m \u001b[0;34m\"12335162666666666663561253612365611212121126666666666116666666666666612\"\u001b[0m\u001b[0;34m\u001b[0m\u001b[0m\n\u001b[1;32m     16\u001b[0m \u001b[0;34m\u001b[0m\u001b[0m\n\u001b[0;32m---> 17\u001b[0;31m \u001b[0mskrito\u001b[0m\u001b[0;34m,\u001b[0m \u001b[0mvidno\u001b[0m \u001b[0;34m=\u001b[0m \u001b[0mzip\u001b[0m\u001b[0;34m(\u001b[0m\u001b[0;34m*\u001b[0m\u001b[0mgenerate_hmm_sequence\u001b[0m\u001b[0;34m(\u001b[0m\u001b[0;34m'L'\u001b[0m\u001b[0;34m,\u001b[0m \u001b[0mT\u001b[0m\u001b[0;34m,\u001b[0m \u001b[0mE\u001b[0m\u001b[0;34m,\u001b[0m \u001b[0;36m71\u001b[0m\u001b[0;34m)\u001b[0m\u001b[0;34m)\u001b[0m\u001b[0;34m\u001b[0m\u001b[0m\n\u001b[0m\u001b[1;32m     18\u001b[0m \u001b[0mskrito\u001b[0m \u001b[0;34m=\u001b[0m \u001b[0;34m\"\"\u001b[0m\u001b[0;34m.\u001b[0m\u001b[0mjoin\u001b[0m\u001b[0;34m(\u001b[0m\u001b[0mskrito\u001b[0m\u001b[0;34m)\u001b[0m\u001b[0;34m\u001b[0m\u001b[0m\n\u001b[1;32m     19\u001b[0m \u001b[0mvidno\u001b[0m \u001b[0;34m=\u001b[0m \u001b[0;34m\"\"\u001b[0m\u001b[0;34m.\u001b[0m\u001b[0mjoin\u001b[0m\u001b[0;34m(\u001b[0m\u001b[0mvidno\u001b[0m\u001b[0;34m)\u001b[0m\u001b[0;34m\u001b[0m\u001b[0m\n",
      "\u001b[0;31mTypeError\u001b[0m: type object argument after * must be an iterable, not NoneType"
     ]
    }
   ],
   "source": [
    "# Alphabet\n",
    "A = [\"1\", \"2\", \"3\", \"4\", \"5\", \"6\"]\n",
    "\n",
    "# Emission probabilities\n",
    "E = {\"F\": {a: 1/6. for a in A},\n",
    "     \"L\": {a: 1/10. if a != \"6\" else 0.5 for a in A}}\n",
    "\n",
    "# Transition probabilities\n",
    "T =  {0:  {0: 0, \"F\": 0.5, \"L\": 0.5},\n",
    "     \"F\": {0: 0, \"F\": 0.95, \"L\": 0.05},\n",
    "     \"L\": {0: 0, \"F\": 0.1, \"L\": 0.9}}\n",
    "\n",
    "\n",
    "hmm = (T, E)\n",
    "s = \"12335162666666666663561253612365611212121126666666666116666666666666612\"\n",
    "\n",
    "skrito, vidno = zip(*generate_hmm_sequence('L', T, E, 71))\n",
    "skrito = \"\".join(skrito)\n",
    "vidno = \"\".join(vidno)\n",
    "\n",
    "_, _, _, napoved = viterbi_log(vidno, hmm)\n",
    "\n",
    "print(vidno)\n",
    "print(skrito)\n",
    "print(napoved)"
   ]
  },
  {
   "cell_type": "markdown",
   "metadata": {},
   "source": [
    "Izračunaj delež ujemanja:"
   ]
  },
  {
   "cell_type": "code",
   "execution_count": 20,
   "metadata": {},
   "outputs": [
    {
     "ename": "NameError",
     "evalue": "name 'skrito' is not defined",
     "output_type": "error",
     "traceback": [
      "\u001b[0;31m---------------------------------------------------------------------------\u001b[0m",
      "\u001b[0;31mNameError\u001b[0m                                 Traceback (most recent call last)",
      "\u001b[0;32m<ipython-input-20-f814a227f9fd>\u001b[0m in \u001b[0;36m<module>\u001b[0;34m()\u001b[0m\n\u001b[0;32m----> 1\u001b[0;31m \u001b[0msum\u001b[0m\u001b[0;34m(\u001b[0m\u001b[0mpi\u001b[0m \u001b[0;34m==\u001b[0m \u001b[0mpj\u001b[0m \u001b[0;32mfor\u001b[0m \u001b[0mpi\u001b[0m\u001b[0;34m,\u001b[0m \u001b[0mpj\u001b[0m \u001b[0;32min\u001b[0m \u001b[0mzip\u001b[0m\u001b[0;34m(\u001b[0m\u001b[0mskrito\u001b[0m\u001b[0;34m,\u001b[0m \u001b[0mnapoved\u001b[0m\u001b[0;34m)\u001b[0m\u001b[0;34m)\u001b[0m\u001b[0;34m/\u001b[0m\u001b[0mlen\u001b[0m\u001b[0;34m(\u001b[0m\u001b[0mskrito\u001b[0m\u001b[0;34m)\u001b[0m\u001b[0;34m\u001b[0m\u001b[0m\n\u001b[0m",
      "\u001b[0;31mNameError\u001b[0m: name 'skrito' is not defined"
     ]
    }
   ],
   "source": [
    "sum(pi == pj for pi, pj in zip(skrito, napoved))/len(skrito)"
   ]
  }
 ],
 "metadata": {
  "kernelspec": {
   "display_name": "Python [default]",
   "language": "python",
   "name": "python3"
  },
  "language_info": {
   "codemirror_mode": {
    "name": "ipython",
    "version": 3
   },
   "file_extension": ".py",
   "mimetype": "text/x-python",
   "name": "python",
   "nbconvert_exporter": "python",
   "pygments_lexer": "ipython3",
   "version": "3.6.3"
  },
  "latex_envs": {
   "LaTeX_envs_menu_present": true,
   "autocomplete": true,
   "bibliofile": "biblio.bib",
   "cite_by": "apalike",
   "current_citInitial": 1.0,
   "eqLabelWithNumbers": true,
   "eqNumInitial": 1.0,
   "hotkeys": {
    "equation": "Ctrl-E",
    "itemize": "Ctrl-I"
   },
   "labels_anchors": false,
   "latex_user_defs": false,
   "report_style_numbering": false,
   "user_envs_cfg": false
  }
 },
 "nbformat": 4,
 "nbformat_minor": 1
}
