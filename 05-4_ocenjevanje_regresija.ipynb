{
 "cells": [
  {
   "cell_type": "markdown",
   "metadata": {
    "lang": "sl"
   },
   "source": [
    "## Uporaba Orange za regresijo"
   ]
  },
  {
   "cell_type": "markdown",
   "metadata": {
    "lang": "en"
   },
   "source": [
    "## Using Orange for regression"
   ]
  },
  {
   "cell_type": "code",
   "execution_count": 1,
   "metadata": {
    "collapsed": true
   },
   "outputs": [],
   "source": [
    "import Orange\n",
    "import random"
   ]
  },
  {
   "cell_type": "markdown",
   "metadata": {},
   "source": [
    "Regression in Orange is very similar to classification. Both require labeled data. Just like in classification, regression is implemented with learners and regression models (regressors). Regression learners are objects that accept data and return regressors. Regression models are given data items to predict the value of continuous class:"
   ]
  },
  {
   "cell_type": "code",
   "execution_count": 2,
   "metadata": {},
   "outputs": [
    {
     "name": "stdout",
     "output_type": "stream",
     "text": [
      "predicted, observed:\n",
      "30.0, 24.0\n",
      "25.0, 21.6\n",
      "30.6, 34.7\n"
     ]
    }
   ],
   "source": [
    "data = Orange.data.Table(\"housing\")\n",
    "learner = Orange.regression.LinearRegressionLearner()\n",
    "model = learner(data)\n",
    "\n",
    "print(\"predicted, observed:\")\n",
    "for d in data[:3]:\n",
    "    print(\"%.1f, %.1f\" % (model(d)[0], d.get_class()))"
   ]
  },
  {
   "cell_type": "markdown",
   "metadata": {},
   "source": [
    "Scatter plot predicted-observed\n",
    "\n",
    "napaka v odvisnosti od prave vrednosti, za več regresorjev"
   ]
  },
  {
   "cell_type": "markdown",
   "metadata": {},
   "source": [
    "Let us start with regression trees. Below is an example script that builds the tree from data on housing prices and prints out the tree in textual form:"
   ]
  },
  {
   "cell_type": "code",
   "execution_count": 3,
   "metadata": {},
   "outputs": [
    {
     "name": "stdout",
     "output_type": "stream",
     "text": [
      "\n",
      "RM (22.5: 506.0)\n",
      ": <=6.941\n",
      "   LSTAT (19.9: 430.0)\n",
      "   : <=14.4 --> (23.3: 255.0)\n",
      "   : >14.4 --> (15.0: 175.0)\n",
      ": >6.941\n",
      "   RM (37.2: 76.0)\n",
      "   : <=7.437 --> (32.1: 46.0)\n",
      "   : >7.437 --> (45.1: 30.0)\n"
     ]
    }
   ],
   "source": [
    "tree_learner = Orange.regression.SimpleTreeLearner(max_depth=2)\n",
    "tree = tree_learner(data)\n",
    "print(tree.to_string())"
   ]
  },
  {
   "cell_type": "markdown",
   "metadata": {},
   "source": [
    "Following is initialization of few other regressors and their prediction of the first five data instances in housing price dataset:"
   ]
  },
  {
   "cell_type": "code",
   "execution_count": 4,
   "metadata": {},
   "outputs": [
    {
     "name": "stdout",
     "output_type": "stream",
     "text": [
      "y    linear regression    rf ridge regression\n",
      "22.2   19.3  19.1  19.5\n",
      "31.6   33.2  32.7  33.2\n",
      "21.7   20.9  20.4  21.0\n",
      "10.2   16.9  12.9  16.8\n",
      "14.0   13.6  15.0  13.5\n"
     ]
    }
   ],
   "source": [
    "random.seed(42)\n",
    "test = Orange.data.Table(data.domain, random.sample(data, 5))\n",
    "train = Orange.data.Table(data.domain, [d for d in data if d not in test])\n",
    "\n",
    "lin = Orange.regression.linear.LinearRegressionLearner()\n",
    "rf = Orange.regression.random_forest.RandomForestRegressionLearner()\n",
    "rf.name = \"rf\"\n",
    "ridge = Orange.regression.RidgeRegressionLearner()\n",
    "\n",
    "learners = [lin, rf, ridge]\n",
    "regressors = [learner(train) for learner in learners]\n",
    "\n",
    "print(\"y   \", \" \".join(\"%5s\" % l.name for l in regressors))\n",
    "\n",
    "for d in test:\n",
    "    print((\"{:<5}\" + \" {:5.1f}\"*len(regressors)).format(\n",
    "        d.get_class(),\n",
    "        *(r(d)[0] for r in regressors)))"
   ]
  },
  {
   "cell_type": "markdown",
   "metadata": {},
   "source": [
    "Looks like the housing prices are not that hard to predict"
   ]
  },
  {
   "cell_type": "markdown",
   "metadata": {},
   "source": [
    "### Cross-Validation"
   ]
  },
  {
   "cell_type": "markdown",
   "metadata": {},
   "source": [
    "Evaluation and scoring methods are available at Orange.evaluation:"
   ]
  },
  {
   "cell_type": "code",
   "execution_count": 5,
   "metadata": {},
   "outputs": [
    {
     "name": "stdout",
     "output_type": "stream",
     "text": [
      "Learner  RMSE  R2\n",
      "linear regression 4.88  0.72\n",
      "rf       3.92  0.82\n",
      "ridge regression 4.91  0.71\n",
      "mean     9.20 -0.00\n"
     ]
    }
   ],
   "source": [
    "lin = Orange.regression.linear.LinearRegressionLearner()\n",
    "rf = Orange.regression.random_forest.RandomForestRegressionLearner()\n",
    "rf.name = \"rf\"\n",
    "ridge = Orange.regression.RidgeRegressionLearner()\n",
    "mean = Orange.regression.MeanLearner()\n",
    "\n",
    "learners = [lin, rf, ridge, mean]\n",
    "\n",
    "res = Orange.evaluation.CrossValidation(data, learners, k=5)\n",
    "rmse = Orange.evaluation.RMSE(res)\n",
    "r2 = Orange.evaluation.R2(res)\n",
    "\n",
    "print(\"Learner  RMSE  R2\")\n",
    "for i in range(len(learners)):\n",
    "    print(\"{:8s} {:.2f} {:5.2f}\".format(learners[i].name, rmse[i], r2[i]))"
   ]
  },
  {
   "cell_type": "markdown",
   "metadata": {},
   "source": [
    "Not much difference here. Each regression method has a set of parameters. We have been running them with default parameters, and parameter fitting would help. Also, we have included MeanLearner in a list of our regression; this regressors simply predicts the mean value from the training set, and is used as a baseline."
   ]
  },
  {
   "cell_type": "markdown",
   "metadata": {},
   "source": [
    "## Association rules"
   ]
  },
  {
   "cell_type": "code",
   "execution_count": 6,
   "metadata": {
    "collapsed": true
   },
   "outputs": [],
   "source": [
    "from orangecontrib.associate.fpgrowth import * \n",
    "from scipy.sparse import issparse"
   ]
  },
  {
   "cell_type": "code",
   "execution_count": 7,
   "metadata": {
    "collapsed": true,
    "run_control": {
     "marked": false
    }
   },
   "outputs": [],
   "source": [
    "data = Orange.data.Table(\"podatki/foodmart.basket\")"
   ]
  },
  {
   "cell_type": "code",
   "execution_count": 8,
   "metadata": {},
   "outputs": [],
   "source": [
    "X, mapping = OneHot.encode(data)"
   ]
  },
  {
   "cell_type": "code",
   "execution_count": 9,
   "metadata": {},
   "outputs": [
    {
     "name": "stdout",
     "output_type": "stream",
     "text": [
      "Personal Hygiene, Cooking Oil, Fresh Fruit->Fresh Vegetables\n",
      "Cheese, Muffins, TV Dinner->Dried Fruit\n",
      "Flavored Drinks, Peanut Butter, Chocolate Candy->Fresh Vegetables\n",
      "Flavored Drinks, Sliced Bread, Nuts->Fresh Fruit\n",
      "Milk, Bologna, Chocolate Candy, Soda->Fresh Vegetables\n",
      "Fresh Vegetables, Milk, Bologna, Soda->Chocolate Candy\n",
      "Bologna, Dried Fruit, Ice Cream->Fresh Vegetables\n",
      "Fresh Vegetables, Plastic Utensils, Deli Meats, Wine->Dried Fruit\n",
      "Fresh Vegetables, Plastic Utensils, Bologna, Soda->Chocolate Candy\n",
      "Milk, Plastic Utensils, Bologna, Chocolate Candy->Fresh Vegetables\n",
      "Bologna, Shampoo, Canned Fruit->Fresh Vegetables\n",
      "Hard Candy, Bologna, Batteries->Fresh Vegetables\n",
      "Hard Candy, Cleaners, Waffles->Fresh Vegetables\n",
      "Personal Hygiene, Paper Dishes, Yogurt->Fresh Vegetables\n",
      "Cereal, Beer, Soda->Frozen Chicken\n",
      "Fresh Fruit, Tuna, Crackers->Fresh Vegetables\n",
      "Coffee, Tools, Sports Magazines->Fresh Fruit\n",
      "Plastic Utensils, Jam, Anchovies->Cooking Oil\n",
      "Chocolate Candy, Frozen Vegetables, Home Magazines->Fresh Vegetables\n",
      "Fresh Fruit, Home Magazines, Crackers->Fresh Vegetables\n",
      "Fresh Vegetables, Cleaners, Pretzels->Jam\n",
      "Hamburger, Clams->Fresh Vegetables\n",
      "Canned Vegetables, Nuts, Computer Magazines->Fresh Vegetables\n",
      "Muffins, Popsicles, Computer Magazines->Cheese\n",
      "Soup, Pots and Pans, Nuts->Fresh Vegetables\n",
      "Jelly, Hamburger, Pot Scrubbers->Cleaners\n",
      "Rice, Hamburger, Pot Scrubbers->Cleaners\n",
      "Jelly, Hamburger, Pot Scrubbers->Rice\n",
      "Cleaners, Jelly, Rice, Hamburger->Pot Scrubbers\n",
      "Cleaners, Jelly, Hamburger, Pot Scrubbers->Rice\n",
      "Jelly, Hamburger, Pot Scrubbers->Cleaners, Rice\n",
      "Cleaners, Jelly, Rice, Pot Scrubbers->Hamburger\n",
      "Jelly, Rice, Hamburger, Pot Scrubbers->Cleaners\n",
      "Candles, Pot Scrubbers->Fresh Vegetables\n",
      "Pasta, Lightbulbs, Pancakes->Fresh Vegetables\n",
      "Cookies, Hot Dogs, Pancakes->Fresh Vegetables\n",
      "Cookies, Hot Dogs, Pancakes->Eggs\n",
      "Cookies, Eggs, Hot Dogs, Pancakes->Fresh Vegetables\n",
      "Fresh Vegetables, Cookies, Hot Dogs, Pancakes->Eggs\n",
      "Cookies, Hot Dogs, Pancakes->Fresh Vegetables, Eggs\n",
      "Wine, Aspirin, Pancakes->Nuts\n",
      "Fresh Vegetables, Cookies, Canned Vegetables, Fashion Magazines->Soup\n",
      "Soup, Cookies, Canned Vegetables, Fashion Magazines->Fresh Vegetables\n"
     ]
    }
   ],
   "source": [
    "ITEM_FMT = '{}' if issparse(data.X) else '{}={}'\n",
    "\n",
    "names = {item: ('{}={}' if var is data.domain.class_var else ITEM_FMT).format(var.name, val)\n",
    "                 for item, var, val in OneHot.decode(mapping, data, mapping)}\n",
    "\n",
    "itemsets = {}\n",
    "for itemset, support in frequent_itemsets(X, 0.01 / 100):\n",
    "    itemsets[itemset] = support\n",
    "    for rule in association_rules(itemsets, 0.99, itemset):\n",
    "        left, right, support, confidence = rule\n",
    "        left_str =  ', '.join(names[i] for i in sorted(left))\n",
    "        right_str = ', '.join(names[i] for i in sorted(right))\n",
    "        print(left_str+\" -> \"+right_str)"
   ]
  },
  {
   "cell_type": "code",
   "execution_count": null,
   "metadata": {
    "collapsed": true
   },
   "outputs": [],
   "source": []
  }
 ],
 "metadata": {
  "kernelspec": {
   "display_name": "Python 3",
   "language": "python",
   "name": "python3"
  },
  "language_info": {
   "codemirror_mode": {
    "name": "ipython",
    "version": 3
   },
   "file_extension": ".py",
   "mimetype": "text/x-python",
   "name": "python",
   "nbconvert_exporter": "python",
   "pygments_lexer": "ipython3",
   "version": "3.6.3"
  },
  "nbTranslate": {
   "displayLangs": [
    "sl",
    "en"
   ],
   "hotkey": "alt-t",
   "langInMainMenu": true,
   "sourceLang": "sl",
   "targetLang": "en",
   "useGoogleTranslate": true
  }
 },
 "nbformat": 4,
 "nbformat_minor": 2
}
